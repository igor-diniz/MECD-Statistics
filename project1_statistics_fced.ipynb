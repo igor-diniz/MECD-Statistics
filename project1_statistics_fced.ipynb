{
  "cells": [
    {
      "cell_type": "code",
      "execution_count": 1,
      "metadata": {
        "colab": {
          "base_uri": "https://localhost:8080/"
        },
        "id": "BEC6hni9X9ib",
        "outputId": "ca6f7134-7a94-417c-bbb0-a2f8d785fdbf"
      },
      "outputs": [],
      "source": [
        "!pip install pywaffle -q\n",
        "%matplotlib inline\n",
        "import pandas as pd\n",
        "import matplotlib.pyplot as plt\n",
        "from plotly import graph_objects as go, express as px\n",
        "from pywaffle import Waffle\n",
        "import numpy as np\n",
        "import seaborn as sns\n",
        "from math import sqrt\n",
        "import warnings\n",
        "warnings.filterwarnings('ignore')"
      ]
    },
    {
      "cell_type": "code",
      "execution_count": 2,
      "metadata": {
        "colab": {
          "base_uri": "https://localhost:8080/"
        },
        "id": "mm7GGGRfYK0C",
        "outputId": "ffd19aaa-ef39-4b46-dc7e-4113d47f0df7"
      },
      "outputs": [],
      "source": [
        "df_ocorrencias = pd.read_csv('https://raw.githubusercontent.com/igor-diniz/MECD-Statistics/main/data/ocorrencia.csv', sep=';', error_bad_lines=False,  encoding='latin-1')\n",
        "df_tipo_ocorrencia = pd.read_csv('https://raw.githubusercontent.com/igor-diniz/MECD-Statistics/main/data/ocorrencia_tipo.csv', sep=';', error_bad_lines=False,  encoding='latin-1')\n",
        "df_aeronave = pd.read_csv('https://raw.githubusercontent.com/igor-diniz/MECD-Statistics/main/data/aeronave.csv', sep=';', error_bad_lines=False,  encoding='latin-1')\n",
        "df_fator = pd.read_csv('https://raw.githubusercontent.com/igor-diniz/MECD-Statistics/main/data/fator_contribuinte.csv', sep=';', error_bad_lines=False,  encoding='latin-1')\n"
      ]
    },
    {
      "cell_type": "code",
      "execution_count": 3,
      "metadata": {
        "id": "u4Wv99dOftW9"
      },
      "outputs": [],
      "source": [
        "df_ocorrencias.set_index('codigo_ocorrencia', inplace=True)\n",
        "df_tipo_ocorrencia.set_index('codigo_ocorrencia1', inplace=True)\n",
        "df_aeronave.set_index('codigo_ocorrencia2', inplace=True)\n",
        "df_fator.set_index('codigo_ocorrencia3', inplace=True)"
      ]
    },
    {
      "cell_type": "code",
      "execution_count": 4,
      "metadata": {
        "colab": {
          "base_uri": "https://localhost:8080/",
          "height": 455
        },
        "id": "7_5vVTyZgHFB",
        "outputId": "65347943-fd10-4a26-e9d7-38a07601bac3"
      },
      "outputs": [
        {
          "data": {
            "text/html": [
              "<div>\n",
              "<style scoped>\n",
              "    .dataframe tbody tr th:only-of-type {\n",
              "        vertical-align: middle;\n",
              "    }\n",
              "\n",
              "    .dataframe tbody tr th {\n",
              "        vertical-align: top;\n",
              "    }\n",
              "\n",
              "    .dataframe thead th {\n",
              "        text-align: right;\n",
              "    }\n",
              "</style>\n",
              "<table border=\"1\" class=\"dataframe\">\n",
              "  <thead>\n",
              "    <tr style=\"text-align: right;\">\n",
              "      <th></th>\n",
              "      <th>fator_nome</th>\n",
              "      <th>fator_aspecto</th>\n",
              "      <th>fator_condicionante</th>\n",
              "      <th>fator_area</th>\n",
              "    </tr>\n",
              "    <tr>\n",
              "      <th>codigo_ocorrencia3</th>\n",
              "      <th></th>\n",
              "      <th></th>\n",
              "      <th></th>\n",
              "      <th></th>\n",
              "    </tr>\n",
              "  </thead>\n",
              "  <tbody>\n",
              "    <tr>\n",
              "      <th>81195</th>\n",
              "      <td>APLICAÇÃO DE COMANDOS</td>\n",
              "      <td>DESEMPENHO DO SER HUMANO</td>\n",
              "      <td>OPERAÇÃO DA AERONAVE</td>\n",
              "      <td>FATOR OPERACIONAL</td>\n",
              "    </tr>\n",
              "    <tr>\n",
              "      <th>81195</th>\n",
              "      <td>ATITUDE</td>\n",
              "      <td>ASPECTO PSICOLÓGICO</td>\n",
              "      <td>INDIVIDUAL</td>\n",
              "      <td>FATOR HUMANO</td>\n",
              "    </tr>\n",
              "    <tr>\n",
              "      <th>81195</th>\n",
              "      <td>MANUTENÇÃO DA AERONAVE</td>\n",
              "      <td>DESEMPENHO DO SER HUMANO</td>\n",
              "      <td>MANUTENÇÃO DA AERONAVE</td>\n",
              "      <td>FATOR OPERACIONAL</td>\n",
              "    </tr>\n",
              "    <tr>\n",
              "      <th>81195</th>\n",
              "      <td>POUCA EXPERIÊNCIA DO PILOTO</td>\n",
              "      <td>DESEMPENHO DO SER HUMANO</td>\n",
              "      <td>OPERAÇÃO DA AERONAVE</td>\n",
              "      <td>FATOR OPERACIONAL</td>\n",
              "    </tr>\n",
              "    <tr>\n",
              "      <th>81195</th>\n",
              "      <td>PROCESSO DECISÓRIO</td>\n",
              "      <td>ASPECTO PSICOLÓGICO</td>\n",
              "      <td>INDIVIDUAL</td>\n",
              "      <td>FATOR HUMANO</td>\n",
              "    </tr>\n",
              "    <tr>\n",
              "      <th>...</th>\n",
              "      <td>...</td>\n",
              "      <td>...</td>\n",
              "      <td>...</td>\n",
              "      <td>...</td>\n",
              "    </tr>\n",
              "    <tr>\n",
              "      <th>45331</th>\n",
              "      <td>FRASEOLOGIA DO ÓRGÃO ATS</td>\n",
              "      <td>DESEMPENHO DO SER HUMANO</td>\n",
              "      <td>PRESTAÇÃO DE SERVIÇOS DE TRÁFEGO AÉREO</td>\n",
              "      <td>FATOR OPERACIONAL</td>\n",
              "    </tr>\n",
              "    <tr>\n",
              "      <th>45331</th>\n",
              "      <td>LIDERANÇA</td>\n",
              "      <td>ASPECTO PSICOLÓGICO</td>\n",
              "      <td>PSICOSSOCIAL</td>\n",
              "      <td>FATOR HUMANO</td>\n",
              "    </tr>\n",
              "    <tr>\n",
              "      <th>45331</th>\n",
              "      <td>PERCEPÇÃO</td>\n",
              "      <td>ASPECTO PSICOLÓGICO</td>\n",
              "      <td>INDIVIDUAL</td>\n",
              "      <td>FATOR HUMANO</td>\n",
              "    </tr>\n",
              "    <tr>\n",
              "      <th>45331</th>\n",
              "      <td>PROCESSOS ORGANIZACIONAIS</td>\n",
              "      <td>ASPECTO PSICOLÓGICO</td>\n",
              "      <td>ORGANIZACIONAL</td>\n",
              "      <td>FATOR HUMANO</td>\n",
              "    </tr>\n",
              "    <tr>\n",
              "      <th>45331</th>\n",
              "      <td>SUPERVISÃO GERENCIAL</td>\n",
              "      <td>DESEMPENHO DO SER HUMANO</td>\n",
              "      <td>OPERAÇÃO DA AERONAVE</td>\n",
              "      <td>FATOR OPERACIONAL</td>\n",
              "    </tr>\n",
              "  </tbody>\n",
              "</table>\n",
              "<p>4867 rows × 4 columns</p>\n",
              "</div>"
            ],
            "text/plain": [
              "                                     fator_nome             fator_aspecto  \\\n",
              "codigo_ocorrencia3                                                          \n",
              "81195                     APLICAÇÃO DE COMANDOS  DESEMPENHO DO SER HUMANO   \n",
              "81195                                   ATITUDE       ASPECTO PSICOLÓGICO   \n",
              "81195                    MANUTENÇÃO DA AERONAVE  DESEMPENHO DO SER HUMANO   \n",
              "81195               POUCA EXPERIÊNCIA DO PILOTO  DESEMPENHO DO SER HUMANO   \n",
              "81195                        PROCESSO DECISÓRIO       ASPECTO PSICOLÓGICO   \n",
              "...                                         ...                       ...   \n",
              "45331                  FRASEOLOGIA DO ÓRGÃO ATS  DESEMPENHO DO SER HUMANO   \n",
              "45331                                 LIDERANÇA       ASPECTO PSICOLÓGICO   \n",
              "45331                                 PERCEPÇÃO       ASPECTO PSICOLÓGICO   \n",
              "45331                 PROCESSOS ORGANIZACIONAIS       ASPECTO PSICOLÓGICO   \n",
              "45331                      SUPERVISÃO GERENCIAL  DESEMPENHO DO SER HUMANO   \n",
              "\n",
              "                                       fator_condicionante         fator_area  \n",
              "codigo_ocorrencia3                                                             \n",
              "81195                                 OPERAÇÃO DA AERONAVE  FATOR OPERACIONAL  \n",
              "81195                                           INDIVIDUAL       FATOR HUMANO  \n",
              "81195                               MANUTENÇÃO DA AERONAVE  FATOR OPERACIONAL  \n",
              "81195                                 OPERAÇÃO DA AERONAVE  FATOR OPERACIONAL  \n",
              "81195                                           INDIVIDUAL       FATOR HUMANO  \n",
              "...                                                    ...                ...  \n",
              "45331               PRESTAÇÃO DE SERVIÇOS DE TRÁFEGO AÉREO  FATOR OPERACIONAL  \n",
              "45331                                         PSICOSSOCIAL       FATOR HUMANO  \n",
              "45331                                           INDIVIDUAL       FATOR HUMANO  \n",
              "45331                                       ORGANIZACIONAL       FATOR HUMANO  \n",
              "45331                                 OPERAÇÃO DA AERONAVE  FATOR OPERACIONAL  \n",
              "\n",
              "[4867 rows x 4 columns]"
            ]
          },
          "execution_count": 4,
          "metadata": {},
          "output_type": "execute_result"
        }
      ],
      "source": [
        "df_fator"
      ]
    },
    {
      "cell_type": "code",
      "execution_count": 5,
      "metadata": {
        "id": "Y70Y_cx5eRpA"
      },
      "outputs": [],
      "source": [
        "df_ocorrencias.drop(['codigo_ocorrencia1','codigo_ocorrencia2','codigo_ocorrencia3','codigo_ocorrencia4'], inplace=True, axis=1)"
      ]
    },
    {
      "cell_type": "code",
      "execution_count": 6,
      "metadata": {
        "colab": {
          "base_uri": "https://localhost:8080/"
        },
        "id": "XD6ShAohgdCk",
        "outputId": "5701dbb7-b9a6-405f-dd98-cec4a37ed98e"
      },
      "outputs": [
        {
          "name": "stdout",
          "output_type": "stream",
          "text": [
            "<class 'pandas.core.frame.DataFrame'>\n",
            "Int64Index: 8778 entries, 82047 to 28256\n",
            "Data columns (total 17 columns):\n",
            " #   Column                          Non-Null Count  Dtype \n",
            "---  ------                          --------------  ----- \n",
            " 0   ocorrencia_classificacao        8778 non-null   object\n",
            " 1   ocorrencia_latitude             6200 non-null   object\n",
            " 2   ocorrencia_longitude            6200 non-null   object\n",
            " 3   ocorrencia_cidade               8778 non-null   object\n",
            " 4   ocorrencia_uf                   8778 non-null   object\n",
            " 5   ocorrencia_pais                 8778 non-null   object\n",
            " 6   ocorrencia_aerodromo            8778 non-null   object\n",
            " 7   ocorrencia_dia                  8778 non-null   object\n",
            " 8   ocorrencia_hora                 8776 non-null   object\n",
            " 9   investigacao_aeronave_liberada  8475 non-null   object\n",
            " 10  investigacao_status             7364 non-null   object\n",
            " 11  divulgacao_relatorio_numero     6913 non-null   object\n",
            " 12  divulgacao_relatorio_publicado  8778 non-null   object\n",
            " 13  divulgacao_dia_publicacao       2311 non-null   object\n",
            " 14  total_recomendacoes             8778 non-null   int64 \n",
            " 15  total_aeronaves_envolvidas      8778 non-null   int64 \n",
            " 16  ocorrencia_saida_pista          8778 non-null   object\n",
            "dtypes: int64(2), object(15)\n",
            "memory usage: 1.2+ MB\n"
          ]
        }
      ],
      "source": [
        "df_ocorrencias.info()"
      ]
    },
    {
      "cell_type": "code",
      "execution_count": 7,
      "metadata": {
        "colab": {
          "base_uri": "https://localhost:8080/"
        },
        "id": "5imIJadbgi_v",
        "outputId": "6c4a9aca-1eed-4b70-9e37-7d111d47ddaf"
      },
      "outputs": [
        {
          "name": "stdout",
          "output_type": "stream",
          "text": [
            "<class 'pandas.core.frame.DataFrame'>\n",
            "Int64Index: 4867 entries, 81195 to 45331\n",
            "Data columns (total 4 columns):\n",
            " #   Column               Non-Null Count  Dtype \n",
            "---  ------               --------------  ----- \n",
            " 0   fator_nome           4867 non-null   object\n",
            " 1   fator_aspecto        4867 non-null   object\n",
            " 2   fator_condicionante  4867 non-null   object\n",
            " 3   fator_area           4867 non-null   object\n",
            "dtypes: object(4)\n",
            "memory usage: 190.1+ KB\n"
          ]
        }
      ],
      "source": [
        "df_fator.info()"
      ]
    },
    {
      "cell_type": "code",
      "execution_count": 8,
      "metadata": {
        "colab": {
          "base_uri": "https://localhost:8080/"
        },
        "id": "77_7TrNXguaf",
        "outputId": "4c54cb1d-39e0-416d-e448-dd149c876fb6"
      },
      "outputs": [
        {
          "name": "stdout",
          "output_type": "stream",
          "text": [
            "<class 'pandas.core.frame.DataFrame'>\n",
            "Int64Index: 8867 entries, 82047 to 28256\n",
            "Data columns (total 22 columns):\n",
            " #   Column                       Non-Null Count  Dtype  \n",
            "---  ------                       --------------  -----  \n",
            " 0   aeronave_matricula           6228 non-null   object \n",
            " 1   aeronave_operador_categoria  6228 non-null   object \n",
            " 2   aeronave_tipo_veiculo        6228 non-null   object \n",
            " 3   aeronave_fabricante          6228 non-null   object \n",
            " 4   aeronave_modelo              6227 non-null   object \n",
            " 5   aeronave_tipo_icao           6228 non-null   object \n",
            " 6   aeronave_motor_tipo          6195 non-null   object \n",
            " 7   aeronave_motor_quantidade    6228 non-null   object \n",
            " 8   aeronave_pmd                 6228 non-null   float64\n",
            " 9   aeronave_pmd_categoria       6228 non-null   float64\n",
            " 10  aeronave_assentos            5932 non-null   float64\n",
            " 11  aeronave_ano_fabricacao      5972 non-null   float64\n",
            " 12  aeronave_pais_fabricante     6228 non-null   object \n",
            " 13  aeronave_pais_registro       6228 non-null   object \n",
            " 14  aeronave_registro_categoria  6228 non-null   object \n",
            " 15  aeronave_registro_segmento   6228 non-null   object \n",
            " 16  aeronave_voo_origem          6227 non-null   object \n",
            " 17  aeronave_voo_destino         6227 non-null   object \n",
            " 18  aeronave_fase_operacao       6228 non-null   object \n",
            " 19  aeronave_tipo_operacao       6228 non-null   object \n",
            " 20  aeronave_nivel_dano          6228 non-null   object \n",
            " 21  aeronave_fatalidades_total   6228 non-null   float64\n",
            "dtypes: float64(5), object(17)\n",
            "memory usage: 1.6+ MB\n"
          ]
        }
      ],
      "source": [
        "df_aeronave.info()"
      ]
    },
    {
      "cell_type": "code",
      "execution_count": 9,
      "metadata": {
        "colab": {
          "base_uri": "https://localhost:8080/"
        },
        "id": "Zh7VnWLIgyqX",
        "outputId": "0943a9d6-c3ec-44ab-97c6-d0d67f61797d"
      },
      "outputs": [
        {
          "name": "stdout",
          "output_type": "stream",
          "text": [
            "<class 'pandas.core.frame.DataFrame'>\n",
            "Int64Index: 4867 entries, 81195 to 45331\n",
            "Data columns (total 4 columns):\n",
            " #   Column               Non-Null Count  Dtype \n",
            "---  ------               --------------  ----- \n",
            " 0   fator_nome           4867 non-null   object\n",
            " 1   fator_aspecto        4867 non-null   object\n",
            " 2   fator_condicionante  4867 non-null   object\n",
            " 3   fator_area           4867 non-null   object\n",
            "dtypes: object(4)\n",
            "memory usage: 190.1+ KB\n"
          ]
        }
      ],
      "source": [
        "df_fator.info()"
      ]
    },
    {
      "cell_type": "code",
      "execution_count": 10,
      "metadata": {
        "colab": {
          "base_uri": "https://localhost:8080/"
        },
        "id": "_qg6WP9Suf05",
        "outputId": "525f4b30-ca84-47ae-b172-ba2c8f6ab270"
      },
      "outputs": [
        {
          "data": {
            "text/plain": [
              "array(['FATOR OPERACIONAL', 'FATOR HUMANO', 'OUTRO', 'FATOR MATERIAL'],\n",
              "      dtype=object)"
            ]
          },
          "execution_count": 10,
          "metadata": {},
          "output_type": "execute_result"
        }
      ],
      "source": [
        "df_fator[\"fator_area\"].unique()"
      ]
    },
    {
      "cell_type": "code",
      "execution_count": 11,
      "metadata": {
        "colab": {
          "base_uri": "https://localhost:8080/"
        },
        "id": "czyIpw3dg-Ar",
        "outputId": "31118921-7321-45e6-bca0-eb0eaa15dde7"
      },
      "outputs": [
        {
          "data": {
            "text/plain": [
              "array([   0., 1936., 1940., 1942., 1945., 1946., 1947., 1948., 1949.,\n",
              "       1950., 1951., 1952., 1953., 1954., 1955., 1956., 1957., 1958.,\n",
              "       1959., 1960., 1961., 1962., 1963., 1964., 1965., 1966., 1967.,\n",
              "       1968., 1969., 1970., 1971., 1972., 1973., 1974., 1975., 1976.,\n",
              "       1977., 1978., 1979., 1980., 1981., 1982., 1983., 1984., 1985.,\n",
              "       1986., 1987., 1988., 1989., 1990., 1991., 1992., 1993., 1994.,\n",
              "       1995., 1996., 1997., 1998., 1999., 2000., 2001., 2002., 2003.,\n",
              "       2004., 2005., 2006., 2007., 2008., 2009., 2010., 2011., 2012.,\n",
              "       2013., 2014., 2015., 2016., 2017., 2018., 2019., 2020., 2021.,\n",
              "       2022., 9999.,   nan])"
            ]
          },
          "execution_count": 11,
          "metadata": {},
          "output_type": "execute_result"
        }
      ],
      "source": [
        "df_aeronave[\"aeronave_ano_fabricacao\"].sort_values().unique()"
      ]
    },
    {
      "cell_type": "code",
      "execution_count": 12,
      "metadata": {
        "id": "evUScM_ehbFe"
      },
      "outputs": [
        {
          "data": {
            "text/html": [
              "<div>\n",
              "<style scoped>\n",
              "    .dataframe tbody tr th:only-of-type {\n",
              "        vertical-align: middle;\n",
              "    }\n",
              "\n",
              "    .dataframe tbody tr th {\n",
              "        vertical-align: top;\n",
              "    }\n",
              "\n",
              "    .dataframe thead th {\n",
              "        text-align: right;\n",
              "    }\n",
              "</style>\n",
              "<table border=\"1\" class=\"dataframe\">\n",
              "  <thead>\n",
              "    <tr style=\"text-align: right;\">\n",
              "      <th></th>\n",
              "      <th>ocorrencia_classificacao</th>\n",
              "      <th>ocorrencia_latitude</th>\n",
              "      <th>ocorrencia_longitude</th>\n",
              "      <th>ocorrencia_cidade</th>\n",
              "      <th>ocorrencia_uf</th>\n",
              "      <th>ocorrencia_pais</th>\n",
              "      <th>ocorrencia_aerodromo</th>\n",
              "      <th>ocorrencia_dia</th>\n",
              "      <th>ocorrencia_hora</th>\n",
              "      <th>investigacao_aeronave_liberada</th>\n",
              "      <th>...</th>\n",
              "      <th>aeronave_tipo_operacao</th>\n",
              "      <th>aeronave_nivel_dano</th>\n",
              "      <th>aeronave_fatalidades_total</th>\n",
              "      <th>fator_nome</th>\n",
              "      <th>fator_aspecto</th>\n",
              "      <th>fator_condicionante</th>\n",
              "      <th>fator_area</th>\n",
              "      <th>ocorrencia_tipo</th>\n",
              "      <th>ocorrencia_tipo_categoria</th>\n",
              "      <th>taxonomia_tipo_icao</th>\n",
              "    </tr>\n",
              "  </thead>\n",
              "  <tbody>\n",
              "    <tr>\n",
              "      <th>28256</th>\n",
              "      <td>ACIDENTE</td>\n",
              "      <td>-22.2180555556</td>\n",
              "      <td>-47.1763888889</td>\n",
              "      <td>MOGI GUAÇU</td>\n",
              "      <td>SP</td>\n",
              "      <td>BRASIL</td>\n",
              "      <td>***</td>\n",
              "      <td>07/01/2007</td>\n",
              "      <td>11:30:00</td>\n",
              "      <td>***</td>\n",
              "      <td>...</td>\n",
              "      <td>NaN</td>\n",
              "      <td>NaN</td>\n",
              "      <td>NaN</td>\n",
              "      <td>NaN</td>\n",
              "      <td>NaN</td>\n",
              "      <td>NaN</td>\n",
              "      <td>NaN</td>\n",
              "      <td>OPERAÇÃO A BAIXA ALTITUDE</td>\n",
              "      <td>OPERAÇÃO A BAIXA ALTITUDE</td>\n",
              "      <td>LALT</td>\n",
              "    </tr>\n",
              "    <tr>\n",
              "      <th>28335</th>\n",
              "      <td>ACIDENTE</td>\n",
              "      <td>-23.3444444444</td>\n",
              "      <td>-51.0633333333</td>\n",
              "      <td>LONDRINA</td>\n",
              "      <td>PR</td>\n",
              "      <td>BRASIL</td>\n",
              "      <td>***</td>\n",
              "      <td>19/01/2007</td>\n",
              "      <td>12:30:00</td>\n",
              "      <td>NaN</td>\n",
              "      <td>...</td>\n",
              "      <td>NaN</td>\n",
              "      <td>NaN</td>\n",
              "      <td>NaN</td>\n",
              "      <td>NaN</td>\n",
              "      <td>NaN</td>\n",
              "      <td>NaN</td>\n",
              "      <td>NaN</td>\n",
              "      <td>VOO CONTROLADO CONTRA O TERRENO</td>\n",
              "      <td>VOO CONTROLADO CONTRA O TERRENO</td>\n",
              "      <td>CFIT</td>\n",
              "    </tr>\n",
              "    <tr>\n",
              "      <th>28355</th>\n",
              "      <td>ACIDENTE</td>\n",
              "      <td>-17.2541666667</td>\n",
              "      <td>-43.8536111111</td>\n",
              "      <td>BOCAIÚVA</td>\n",
              "      <td>MG</td>\n",
              "      <td>BRASIL</td>\n",
              "      <td>***</td>\n",
              "      <td>18/01/2007</td>\n",
              "      <td>09:10:00</td>\n",
              "      <td>NaN</td>\n",
              "      <td>...</td>\n",
              "      <td>NaN</td>\n",
              "      <td>NaN</td>\n",
              "      <td>NaN</td>\n",
              "      <td>NaN</td>\n",
              "      <td>NaN</td>\n",
              "      <td>NaN</td>\n",
              "      <td>NaN</td>\n",
              "      <td>FALHA ESTRUTURAL</td>\n",
              "      <td>FALHA OU MAU FUNCIONAMENTO DE SISTEMA / COMPON...</td>\n",
              "      <td>SCF-NP</td>\n",
              "    </tr>\n",
              "    <tr>\n",
              "      <th>28375</th>\n",
              "      <td>ACIDENTE</td>\n",
              "      <td>-23.6122222222</td>\n",
              "      <td>-51.385</td>\n",
              "      <td>APUCARANA</td>\n",
              "      <td>PR</td>\n",
              "      <td>BRASIL</td>\n",
              "      <td>***</td>\n",
              "      <td>26/01/2007</td>\n",
              "      <td>18:15:00</td>\n",
              "      <td>NaN</td>\n",
              "      <td>...</td>\n",
              "      <td>NaN</td>\n",
              "      <td>NaN</td>\n",
              "      <td>NaN</td>\n",
              "      <td>NaN</td>\n",
              "      <td>NaN</td>\n",
              "      <td>NaN</td>\n",
              "      <td>NaN</td>\n",
              "      <td>COLISÃO COM OBSTÁCULO DURANTE A DECOLAGEM E POUSO</td>\n",
              "      <td>COLISÃO COM OBSTÁCULO DURANTE A DECOLAGEM E POUSO</td>\n",
              "      <td>CTOL</td>\n",
              "    </tr>\n",
              "    <tr>\n",
              "      <th>28377</th>\n",
              "      <td>ACIDENTE</td>\n",
              "      <td>***</td>\n",
              "      <td>***</td>\n",
              "      <td>IMPERATRIZ</td>\n",
              "      <td>MA</td>\n",
              "      <td>BRASIL</td>\n",
              "      <td>***</td>\n",
              "      <td>27/01/2007</td>\n",
              "      <td>11:18:00</td>\n",
              "      <td>NaN</td>\n",
              "      <td>...</td>\n",
              "      <td>NaN</td>\n",
              "      <td>NaN</td>\n",
              "      <td>NaN</td>\n",
              "      <td>NaN</td>\n",
              "      <td>NaN</td>\n",
              "      <td>NaN</td>\n",
              "      <td>NaN</td>\n",
              "      <td>FALHA DO MOTOR EM VOO</td>\n",
              "      <td>FALHA OU MAU FUNCIONAMENTO DO MOTOR | FALHA DO...</td>\n",
              "      <td>SCF-PP</td>\n",
              "    </tr>\n",
              "  </tbody>\n",
              "</table>\n",
              "<p>5 rows × 46 columns</p>\n",
              "</div>"
            ],
            "text/plain": [
              "      ocorrencia_classificacao ocorrencia_latitude ocorrencia_longitude  \\\n",
              "28256                 ACIDENTE      -22.2180555556       -47.1763888889   \n",
              "28335                 ACIDENTE      -23.3444444444       -51.0633333333   \n",
              "28355                 ACIDENTE      -17.2541666667       -43.8536111111   \n",
              "28375                 ACIDENTE      -23.6122222222              -51.385   \n",
              "28377                 ACIDENTE                 ***                  ***   \n",
              "\n",
              "      ocorrencia_cidade ocorrencia_uf ocorrencia_pais ocorrencia_aerodromo  \\\n",
              "28256        MOGI GUAÇU            SP          BRASIL                  ***   \n",
              "28335          LONDRINA            PR          BRASIL                  ***   \n",
              "28355          BOCAIÚVA            MG          BRASIL                  ***   \n",
              "28375         APUCARANA            PR          BRASIL                  ***   \n",
              "28377        IMPERATRIZ            MA          BRASIL                  ***   \n",
              "\n",
              "      ocorrencia_dia ocorrencia_hora investigacao_aeronave_liberada  ...  \\\n",
              "28256     07/01/2007        11:30:00                            ***  ...   \n",
              "28335     19/01/2007        12:30:00                            NaN  ...   \n",
              "28355     18/01/2007        09:10:00                            NaN  ...   \n",
              "28375     26/01/2007        18:15:00                            NaN  ...   \n",
              "28377     27/01/2007        11:18:00                            NaN  ...   \n",
              "\n",
              "      aeronave_tipo_operacao aeronave_nivel_dano aeronave_fatalidades_total  \\\n",
              "28256                    NaN                 NaN                        NaN   \n",
              "28335                    NaN                 NaN                        NaN   \n",
              "28355                    NaN                 NaN                        NaN   \n",
              "28375                    NaN                 NaN                        NaN   \n",
              "28377                    NaN                 NaN                        NaN   \n",
              "\n",
              "      fator_nome  fator_aspecto  fator_condicionante fator_area  \\\n",
              "28256        NaN            NaN                  NaN        NaN   \n",
              "28335        NaN            NaN                  NaN        NaN   \n",
              "28355        NaN            NaN                  NaN        NaN   \n",
              "28375        NaN            NaN                  NaN        NaN   \n",
              "28377        NaN            NaN                  NaN        NaN   \n",
              "\n",
              "                                         ocorrencia_tipo  \\\n",
              "28256                          OPERAÇÃO A BAIXA ALTITUDE   \n",
              "28335                    VOO CONTROLADO CONTRA O TERRENO   \n",
              "28355                                   FALHA ESTRUTURAL   \n",
              "28375  COLISÃO COM OBSTÁCULO DURANTE A DECOLAGEM E POUSO   \n",
              "28377                              FALHA DO MOTOR EM VOO   \n",
              "\n",
              "                               ocorrencia_tipo_categoria taxonomia_tipo_icao  \n",
              "28256                          OPERAÇÃO A BAIXA ALTITUDE                LALT  \n",
              "28335                    VOO CONTROLADO CONTRA O TERRENO                CFIT  \n",
              "28355  FALHA OU MAU FUNCIONAMENTO DE SISTEMA / COMPON...              SCF-NP  \n",
              "28375  COLISÃO COM OBSTÁCULO DURANTE A DECOLAGEM E POUSO                CTOL  \n",
              "28377  FALHA OU MAU FUNCIONAMENTO DO MOTOR | FALHA DO...              SCF-PP  \n",
              "\n",
              "[5 rows x 46 columns]"
            ]
          },
          "execution_count": 12,
          "metadata": {},
          "output_type": "execute_result"
        }
      ],
      "source": [
        "df = df_ocorrencias.join(df_aeronave).join(df_fator).join(df_tipo_ocorrencia)\n",
        "df.head()"
      ]
    },
    {
      "cell_type": "code",
      "execution_count": 13,
      "metadata": {
        "id": "mpKAbX_8iANe"
      },
      "outputs": [
        {
          "data": {
            "text/html": [
              "<div>\n",
              "<style scoped>\n",
              "    .dataframe tbody tr th:only-of-type {\n",
              "        vertical-align: middle;\n",
              "    }\n",
              "\n",
              "    .dataframe tbody tr th {\n",
              "        vertical-align: top;\n",
              "    }\n",
              "\n",
              "    .dataframe thead th {\n",
              "        text-align: right;\n",
              "    }\n",
              "</style>\n",
              "<table border=\"1\" class=\"dataframe\">\n",
              "  <thead>\n",
              "    <tr style=\"text-align: right;\">\n",
              "      <th></th>\n",
              "      <th>ocorrencia_classificacao</th>\n",
              "      <th>ocorrencia_latitude</th>\n",
              "      <th>ocorrencia_longitude</th>\n",
              "      <th>ocorrencia_cidade</th>\n",
              "      <th>ocorrencia_uf</th>\n",
              "      <th>ocorrencia_pais</th>\n",
              "      <th>ocorrencia_aerodromo</th>\n",
              "      <th>ocorrencia_dia</th>\n",
              "      <th>ocorrencia_hora</th>\n",
              "      <th>investigacao_aeronave_liberada</th>\n",
              "      <th>...</th>\n",
              "      <th>aeronave_nivel_dano</th>\n",
              "      <th>aeronave_fatalidades_total</th>\n",
              "      <th>fator_nome</th>\n",
              "      <th>fator_aspecto</th>\n",
              "      <th>fator_condicionante</th>\n",
              "      <th>fator_area</th>\n",
              "      <th>ocorrencia_tipo</th>\n",
              "      <th>ocorrencia_tipo_categoria</th>\n",
              "      <th>taxonomia_tipo_icao</th>\n",
              "      <th>idade_aeronave</th>\n",
              "    </tr>\n",
              "  </thead>\n",
              "  <tbody>\n",
              "    <tr>\n",
              "      <th>82037</th>\n",
              "      <td>INCIDENTE</td>\n",
              "      <td>-12.90861111111</td>\n",
              "      <td>-38.3225</td>\n",
              "      <td>SALVADOR</td>\n",
              "      <td>BA</td>\n",
              "      <td>BRASIL</td>\n",
              "      <td>SBSV</td>\n",
              "      <td>2023-04-18</td>\n",
              "      <td>11:25:00</td>\n",
              "      <td>SIM</td>\n",
              "      <td>...</td>\n",
              "      <td>NENHUM</td>\n",
              "      <td>0.0</td>\n",
              "      <td>NaN</td>\n",
              "      <td>NaN</td>\n",
              "      <td>NaN</td>\n",
              "      <td>NaN</td>\n",
              "      <td>COLISÃO COM AVE</td>\n",
              "      <td>COLISÃO COM AVE</td>\n",
              "      <td>BIRD</td>\n",
              "      <td>10.0</td>\n",
              "    </tr>\n",
              "    <tr>\n",
              "      <th>82038</th>\n",
              "      <td>INCIDENTE</td>\n",
              "      <td>-23.43555555555</td>\n",
              "      <td>-46.47305555555</td>\n",
              "      <td>GUARULHOS</td>\n",
              "      <td>SP</td>\n",
              "      <td>BRASIL</td>\n",
              "      <td>SBGR</td>\n",
              "      <td>2023-04-18</td>\n",
              "      <td>09:55:00</td>\n",
              "      <td>SIM</td>\n",
              "      <td>...</td>\n",
              "      <td>NENHUM</td>\n",
              "      <td>0.0</td>\n",
              "      <td>NaN</td>\n",
              "      <td>NaN</td>\n",
              "      <td>NaN</td>\n",
              "      <td>NaN</td>\n",
              "      <td>COLISÃO COM AVE</td>\n",
              "      <td>COLISÃO COM AVE</td>\n",
              "      <td>BIRD</td>\n",
              "      <td>10.0</td>\n",
              "    </tr>\n",
              "    <tr>\n",
              "      <th>82039</th>\n",
              "      <td>INCIDENTE</td>\n",
              "      <td>-22.81</td>\n",
              "      <td>-43.25055555555</td>\n",
              "      <td>RIO DE JANEIRO</td>\n",
              "      <td>RJ</td>\n",
              "      <td>BRASIL</td>\n",
              "      <td>SBGL</td>\n",
              "      <td>2023-04-17</td>\n",
              "      <td>13:20:00</td>\n",
              "      <td>SIM</td>\n",
              "      <td>...</td>\n",
              "      <td>NENHUM</td>\n",
              "      <td>0.0</td>\n",
              "      <td>NaN</td>\n",
              "      <td>NaN</td>\n",
              "      <td>NaN</td>\n",
              "      <td>NaN</td>\n",
              "      <td>COLISÃO COM AVE</td>\n",
              "      <td>COLISÃO COM AVE</td>\n",
              "      <td>BIRD</td>\n",
              "      <td>2023.0</td>\n",
              "    </tr>\n",
              "    <tr>\n",
              "      <th>82045</th>\n",
              "      <td>INCIDENTE</td>\n",
              "      <td>-25.53166666666</td>\n",
              "      <td>-49.17611111111</td>\n",
              "      <td>SÃO JOSÉ DOS PINHAIS</td>\n",
              "      <td>PR</td>\n",
              "      <td>BRASIL</td>\n",
              "      <td>SBCT</td>\n",
              "      <td>2023-04-09</td>\n",
              "      <td>20:50:00</td>\n",
              "      <td>SIM</td>\n",
              "      <td>...</td>\n",
              "      <td>NENHUM</td>\n",
              "      <td>0.0</td>\n",
              "      <td>NaN</td>\n",
              "      <td>NaN</td>\n",
              "      <td>NaN</td>\n",
              "      <td>NaN</td>\n",
              "      <td>COLISÃO COM AVE</td>\n",
              "      <td>COLISÃO COM AVE</td>\n",
              "      <td>BIRD</td>\n",
              "      <td>2023.0</td>\n",
              "    </tr>\n",
              "    <tr>\n",
              "      <th>82047</th>\n",
              "      <td>INCIDENTE</td>\n",
              "      <td>-20.46944444444</td>\n",
              "      <td>-54.67027777777</td>\n",
              "      <td>CAMPO GRANDE</td>\n",
              "      <td>MS</td>\n",
              "      <td>BRASIL</td>\n",
              "      <td>SBCG</td>\n",
              "      <td>2023-04-19</td>\n",
              "      <td>13:25:00</td>\n",
              "      <td>SIM</td>\n",
              "      <td>...</td>\n",
              "      <td>NENHUM</td>\n",
              "      <td>0.0</td>\n",
              "      <td>NaN</td>\n",
              "      <td>NaN</td>\n",
              "      <td>NaN</td>\n",
              "      <td>NaN</td>\n",
              "      <td>COLISÃO COM AVE</td>\n",
              "      <td>COLISÃO COM AVE</td>\n",
              "      <td>BIRD</td>\n",
              "      <td>10.0</td>\n",
              "    </tr>\n",
              "  </tbody>\n",
              "</table>\n",
              "<p>5 rows × 47 columns</p>\n",
              "</div>"
            ],
            "text/plain": [
              "      ocorrencia_classificacao ocorrencia_latitude ocorrencia_longitude  \\\n",
              "82037                INCIDENTE     -12.90861111111             -38.3225   \n",
              "82038                INCIDENTE     -23.43555555555      -46.47305555555   \n",
              "82039                INCIDENTE              -22.81      -43.25055555555   \n",
              "82045                INCIDENTE     -25.53166666666      -49.17611111111   \n",
              "82047                INCIDENTE     -20.46944444444      -54.67027777777   \n",
              "\n",
              "          ocorrencia_cidade ocorrencia_uf ocorrencia_pais  \\\n",
              "82037              SALVADOR            BA          BRASIL   \n",
              "82038             GUARULHOS            SP          BRASIL   \n",
              "82039        RIO DE JANEIRO            RJ          BRASIL   \n",
              "82045  SÃO JOSÉ DOS PINHAIS            PR          BRASIL   \n",
              "82047          CAMPO GRANDE            MS          BRASIL   \n",
              "\n",
              "      ocorrencia_aerodromo ocorrencia_dia ocorrencia_hora  \\\n",
              "82037                 SBSV     2023-04-18        11:25:00   \n",
              "82038                 SBGR     2023-04-18        09:55:00   \n",
              "82039                 SBGL     2023-04-17        13:20:00   \n",
              "82045                 SBCT     2023-04-09        20:50:00   \n",
              "82047                 SBCG     2023-04-19        13:25:00   \n",
              "\n",
              "      investigacao_aeronave_liberada  ... aeronave_nivel_dano  \\\n",
              "82037                            SIM  ...              NENHUM   \n",
              "82038                            SIM  ...              NENHUM   \n",
              "82039                            SIM  ...              NENHUM   \n",
              "82045                            SIM  ...              NENHUM   \n",
              "82047                            SIM  ...              NENHUM   \n",
              "\n",
              "      aeronave_fatalidades_total fator_nome fator_aspecto  \\\n",
              "82037                        0.0        NaN           NaN   \n",
              "82038                        0.0        NaN           NaN   \n",
              "82039                        0.0        NaN           NaN   \n",
              "82045                        0.0        NaN           NaN   \n",
              "82047                        0.0        NaN           NaN   \n",
              "\n",
              "       fator_condicionante  fator_area  ocorrencia_tipo  \\\n",
              "82037                  NaN         NaN  COLISÃO COM AVE   \n",
              "82038                  NaN         NaN  COLISÃO COM AVE   \n",
              "82039                  NaN         NaN  COLISÃO COM AVE   \n",
              "82045                  NaN         NaN  COLISÃO COM AVE   \n",
              "82047                  NaN         NaN  COLISÃO COM AVE   \n",
              "\n",
              "      ocorrencia_tipo_categoria taxonomia_tipo_icao idade_aeronave  \n",
              "82037           COLISÃO COM AVE                BIRD           10.0  \n",
              "82038           COLISÃO COM AVE                BIRD           10.0  \n",
              "82039           COLISÃO COM AVE                BIRD         2023.0  \n",
              "82045           COLISÃO COM AVE                BIRD         2023.0  \n",
              "82047           COLISÃO COM AVE                BIRD           10.0  \n",
              "\n",
              "[5 rows x 47 columns]"
            ]
          },
          "execution_count": 13,
          "metadata": {},
          "output_type": "execute_result"
        }
      ],
      "source": [
        "df[\"ocorrencia_dia\"] = pd.to_datetime(df[\"ocorrencia_dia\"], format=\"%d/%m/%Y\")\n",
        "\n",
        "df[\"idade_aeronave\"] = df[\"ocorrencia_dia\"].dt.year - df[\"aeronave_ano_fabricacao\"]\n",
        "df.tail()"
      ]
    },
    {
      "cell_type": "markdown",
      "metadata": {
        "id": "F9rjkKfRrXRx"
      },
      "source": [
        "### Cleaning Data\n",
        "\n",
        "\n",
        "Variáveis:\n",
        "- aeronave_ano_fabricacao (Tabela aeronave)\n",
        "- aeronave_nivel_dano (Tabela aeronave)\n",
        "- aeronave_fatalidades_total (Tabela aeronave)\n",
        "- fator_aspecto (Tabela fator_contribuinte)\n",
        "- ocorrencia_classificacao (Tabela ocorrencias)\n",
        "- ocorrencia_dia (Tabela ocorrencias)\n",
        "- ocorrencia_hora (Tabela ocorrencias)"
      ]
    },
    {
      "cell_type": "code",
      "execution_count": 14,
      "metadata": {
        "id": "mFi96wRmrZNF"
      },
      "outputs": [],
      "source": [
        "dados = df[[\"aeronave_ano_fabricacao\", \"aeronave_nivel_dano\", \"aeronave_fatalidades_total\", \"fator_area\", \"ocorrencia_classificacao\", \"ocorrencia_dia\", \"idade_aeronave\"]].copy()\n"
      ]
    },
    {
      "cell_type": "code",
      "execution_count": 15,
      "metadata": {
        "id": "W8BHTzPtsDOB"
      },
      "outputs": [],
      "source": [
        "dados['ocorrencia_dia'] = pd.to_datetime(df['ocorrencia_dia'], format='%d/%m/%Y')\n",
        "dados.dropna(inplace=True)"
      ]
    },
    {
      "cell_type": "code",
      "execution_count": 16,
      "metadata": {
        "colab": {
          "base_uri": "https://localhost:8080/"
        },
        "id": "b-SqI3nCsiu9",
        "outputId": "75ebc2f4-342d-4b0e-b082-cee059263627"
      },
      "outputs": [
        {
          "data": {
            "text/plain": [
              "array([0.000e+00, 1.000e+00, 2.000e+00, 3.000e+00, 4.000e+00, 5.000e+00,\n",
              "       6.000e+00, 7.000e+00, 8.000e+00, 9.000e+00, 1.000e+01, 1.100e+01,\n",
              "       1.200e+01, 1.300e+01, 1.400e+01, 1.500e+01, 1.600e+01, 1.700e+01,\n",
              "       1.800e+01, 1.900e+01, 2.000e+01, 2.100e+01, 2.200e+01, 2.300e+01,\n",
              "       2.400e+01, 2.500e+01, 2.600e+01, 2.700e+01, 2.800e+01, 2.900e+01,\n",
              "       3.000e+01, 3.100e+01, 3.200e+01, 3.300e+01, 3.400e+01, 3.500e+01,\n",
              "       3.600e+01, 3.700e+01, 3.800e+01, 3.900e+01, 4.000e+01, 4.100e+01,\n",
              "       4.200e+01, 4.300e+01, 4.400e+01, 4.500e+01, 4.600e+01, 4.700e+01,\n",
              "       4.800e+01, 4.900e+01, 5.000e+01, 5.100e+01, 5.200e+01, 5.300e+01,\n",
              "       5.400e+01, 5.500e+01, 5.600e+01, 5.700e+01, 5.800e+01, 5.900e+01,\n",
              "       6.000e+01, 6.100e+01, 6.200e+01, 6.300e+01, 6.400e+01, 6.500e+01,\n",
              "       6.600e+01, 6.700e+01, 6.800e+01, 6.900e+01, 7.000e+01, 7.100e+01,\n",
              "       7.200e+01, 7.300e+01, 7.500e+01, 7.600e+01, 2.012e+03, 2.013e+03,\n",
              "       2.014e+03, 2.017e+03, 2.018e+03, 2.019e+03, 2.020e+03, 2.021e+03,\n",
              "       2.022e+03])"
            ]
          },
          "execution_count": 16,
          "metadata": {},
          "output_type": "execute_result"
        }
      ],
      "source": [
        "#np.set_printoptions(suppress=True)\n",
        "np.sort(dados[\"idade_aeronave\"].unique())"
      ]
    },
    {
      "cell_type": "code",
      "execution_count": 17,
      "metadata": {
        "id": "q5R0gw4IsP0G"
      },
      "outputs": [],
      "source": [
        "dados = dados[dados['aeronave_ano_fabricacao'] > 0]\n",
        "dados = dados[dados['aeronave_nivel_dano'] != \"***\"]\n"
      ]
    },
    {
      "cell_type": "code",
      "execution_count": 18,
      "metadata": {
        "colab": {
          "base_uri": "https://localhost:8080/",
          "height": 469
        },
        "id": "JtotnT9imdiy",
        "outputId": "15258e5d-0dee-4bb0-f805-a6ac15cfd266"
      },
      "outputs": [
        {
          "data": {
            "image/png": "[encoded data removed]",
            "text/plain": [
              "<Figure size 1500x800 with 2 Axes>"
            ]
          },
          "metadata": {},
          "output_type": "display_data"
        }
      ],
      "source": [
        "fig, axs = plt.subplots(1,2, figsize=(15, 8))\n",
        "sns.histplot(data=dados, x=\"idade_aeronave\", kde=True, bins=10, ax=axs[0])\n",
        "sns.boxplot(data=dados, x=\"idade_aeronave\", ax=axs[1])\n",
        "fig.suptitle(\"Aircraft Age Distribution\")\n",
        "plt.show()"
      ]
    },
    {
      "cell_type": "code",
      "execution_count": 19,
      "metadata": {
        "id": "r-h5pECCnZxW"
      },
      "outputs": [],
      "source": [
        "q1= dados[dados[\"idade_aeronave\"] < 11]\n",
        "q2= dados[dados[\"idade_aeronave\"].between(11, 24)]\n",
        "q3= dados[dados[\"idade_aeronave\"].between(24,38)]\n",
        "q4= dados[dados[\"idade_aeronave\"] >= 38]\n",
        "q234 = dados[dados[\"idade_aeronave\"] > 11]"
      ]
    },
    {
      "cell_type": "code",
      "execution_count": 20,
      "metadata": {
        "colab": {
          "base_uri": "https://localhost:8080/",
          "height": 300
        },
        "id": "exa2_XtktgQE",
        "outputId": "115b4f3d-4b5a-4ae2-c21d-7d70a92234e6"
      },
      "outputs": [
        {
          "data": {
            "text/html": [
              "<div>\n",
              "<style scoped>\n",
              "    .dataframe tbody tr th:only-of-type {\n",
              "        vertical-align: middle;\n",
              "    }\n",
              "\n",
              "    .dataframe tbody tr th {\n",
              "        vertical-align: top;\n",
              "    }\n",
              "\n",
              "    .dataframe thead th {\n",
              "        text-align: right;\n",
              "    }\n",
              "</style>\n",
              "<table border=\"1\" class=\"dataframe\">\n",
              "  <thead>\n",
              "    <tr style=\"text-align: right;\">\n",
              "      <th></th>\n",
              "      <th>aeronave_ano_fabricacao</th>\n",
              "      <th>aeronave_fatalidades_total</th>\n",
              "      <th>idade_aeronave</th>\n",
              "    </tr>\n",
              "  </thead>\n",
              "  <tbody>\n",
              "    <tr>\n",
              "      <th>count</th>\n",
              "      <td>5258.000000</td>\n",
              "      <td>5258.000000</td>\n",
              "      <td>5258.000000</td>\n",
              "    </tr>\n",
              "    <tr>\n",
              "      <th>mean</th>\n",
              "      <td>1990.858692</td>\n",
              "      <td>0.629897</td>\n",
              "      <td>25.534994</td>\n",
              "    </tr>\n",
              "    <tr>\n",
              "      <th>std</th>\n",
              "      <td>16.222558</td>\n",
              "      <td>1.454515</td>\n",
              "      <td>16.230823</td>\n",
              "    </tr>\n",
              "    <tr>\n",
              "      <th>min</th>\n",
              "      <td>1945.000000</td>\n",
              "      <td>0.000000</td>\n",
              "      <td>0.000000</td>\n",
              "    </tr>\n",
              "    <tr>\n",
              "      <th>25%</th>\n",
              "      <td>1977.000000</td>\n",
              "      <td>0.000000</td>\n",
              "      <td>11.000000</td>\n",
              "    </tr>\n",
              "    <tr>\n",
              "      <th>50%</th>\n",
              "      <td>1992.000000</td>\n",
              "      <td>0.000000</td>\n",
              "      <td>24.000000</td>\n",
              "    </tr>\n",
              "    <tr>\n",
              "      <th>75%</th>\n",
              "      <td>2006.000000</td>\n",
              "      <td>0.000000</td>\n",
              "      <td>38.000000</td>\n",
              "    </tr>\n",
              "    <tr>\n",
              "      <th>max</th>\n",
              "      <td>2021.000000</td>\n",
              "      <td>10.000000</td>\n",
              "      <td>76.000000</td>\n",
              "    </tr>\n",
              "  </tbody>\n",
              "</table>\n",
              "</div>"
            ],
            "text/plain": [
              "       aeronave_ano_fabricacao  aeronave_fatalidades_total  idade_aeronave\n",
              "count              5258.000000                 5258.000000     5258.000000\n",
              "mean               1990.858692                    0.629897       25.534994\n",
              "std                  16.222558                    1.454515       16.230823\n",
              "min                1945.000000                    0.000000        0.000000\n",
              "25%                1977.000000                    0.000000       11.000000\n",
              "50%                1992.000000                    0.000000       24.000000\n",
              "75%                2006.000000                    0.000000       38.000000\n",
              "max                2021.000000                   10.000000       76.000000"
            ]
          },
          "execution_count": 20,
          "metadata": {},
          "output_type": "execute_result"
        }
      ],
      "source": [
        "dados.describe()"
      ]
    },
    {
      "cell_type": "code",
      "execution_count": 21,
      "metadata": {
        "colab": {
          "base_uri": "https://localhost:8080/",
          "height": 683
        },
        "id": "qPYZvhvrnxR_",
        "outputId": "462df508-2ae6-43b8-f89f-212cc6afe3a6"
      },
      "outputs": [
        {
          "data": {
            "image/png": "[encoded data removed]",
            "text/plain": [
              "<Figure size 3200x1200 with 4 Axes>"
            ]
          },
          "metadata": {},
          "output_type": "display_data"
        }
      ],
      "source": [
        "classificacao_q1 = q1.groupby('ocorrencia_classificacao').size()\n",
        "classificacao_q1 = (classificacao_q1/ classificacao_q1.sum())\n",
        "\n",
        "\n",
        "classificacao_q2 = q2.groupby('ocorrencia_classificacao').size()\n",
        "classificacao_q2 = (classificacao_q2/ classificacao_q2.sum())\n",
        "\n",
        "classificacao_q3 = q2.groupby('ocorrencia_classificacao').size()\n",
        "classificacao_q3 = (classificacao_q3/ classificacao_q3.sum())\n",
        "\n",
        "classificacao_q4 = q2.groupby('ocorrencia_classificacao').size()\n",
        "classificacao_q4 = (classificacao_q4/ classificacao_q4.sum())\n",
        "\n",
        "# Create subplots\n",
        "fig, axs = plt.subplots(2, 2, figsize=(32, 12))\n",
        "\n",
        "# Plot the first bar chart (left subplot)\n",
        "plot_classificacao_q1 = classificacao_q1.plot(kind='bar', ax=axs[0,0], alpha=0.7)\n",
        "axs[0,0].set_title('Q1')\n",
        "axs[0,0].set_xlabel('CLASSIFICAÇÃO DA OCORRÊNCIA')\n",
        "axs[0,0].set_ylabel('QUANTIDADE')\n",
        "\n",
        "# Plot the second bar chart (right subplot)\n",
        "plot_classificacao_q2 = classificacao_q2.plot(kind='bar', ax=axs[0,1], alpha=0.7, color=\"red\")\n",
        "axs[0,1].set_title('Q2')\n",
        "axs[0,1].set_xlabel('CLASSIFICAÇÃO DA OCORRÊNCIA')\n",
        "axs[0,1].set_ylabel('QUANTIDADE')\n",
        "\n",
        "# Plot the Third bar chart (left subplot)\n",
        "plot_classificacao_q3 = classificacao_q3.plot(kind='bar', ax=axs[1,0], alpha=0.7, color=\"red\")\n",
        "axs[1,0].set_title('Q3')\n",
        "axs[1,0].set_xlabel('CLASSIFICAÇÃO DA OCORRÊNCIA')\n",
        "axs[1,0].set_ylabel('QUANTIDADE')\n",
        "\n",
        "# Plot the fourth bar chart (right subplot)\n",
        "plot_classificacao_q4 = classificacao_q4.plot(kind='bar', ax=axs[1,1], alpha=0.7, color=\"red\")\n",
        "axs[1,1].set_title('Q4')\n",
        "axs[1,1].set_xlabel('CLASSIFICAÇÃO DA OCORRÊNCIA')\n",
        "axs[1,1].set_ylabel('QUANTIDADE')\n",
        "\n",
        "# Adjust spacing between subplots\n",
        "plt.tight_layout()\n",
        "\n",
        "# Show the plots\n",
        "plt.show()"
      ]
    },
    {
      "cell_type": "code",
      "execution_count": 22,
      "metadata": {
        "colab": {
          "base_uri": "https://localhost:8080/",
          "height": 683
        },
        "id": "dUZrWxUbU1Kv",
        "outputId": "23b55f27-5ad7-466b-9bda-9e805d15ce33"
      },
      "outputs": [
        {
          "data": {
            "image/png": "[encoded data removed]",
            "text/plain": [
              "<Figure size 3200x1200 with 2 Axes>"
            ]
          },
          "metadata": {},
          "output_type": "display_data"
        }
      ],
      "source": [
        "classificacao_q1 = q1.groupby('ocorrencia_classificacao').size()\n",
        "proportion_q1 = (classificacao_q1/ classificacao_q1.sum())\n",
        "\n",
        "\n",
        "classificacao_q234 = q2.groupby('ocorrencia_classificacao').size()\n",
        "proportion_q234 = (classificacao_q234/ classificacao_q234.sum())\n",
        "\n",
        "\n",
        "# Create subplots\n",
        "fig, axs = plt.subplots(1, 2, figsize=(32, 12))\n",
        "\n",
        "# Plot the first bar chart (left subplot)\n",
        "plot_q1 = proportion_q1.plot(kind='bar', ax=axs[0], alpha=0.7)\n",
        "axs[0].set_title('Q1')\n",
        "axs[0].set_xlabel('CLASSIFICAÇÃO DA OCORRÊNCIA')\n",
        "axs[0].set_ylabel('QUANTIDADE')\n",
        "\n",
        "# Plot the second bar chart (right subplot)\n",
        "plot_q234 = proportion_q234.plot(kind='bar', ax=axs[1], alpha=0.7, color=\"red\")\n",
        "axs[1].set_title('Q2')\n",
        "axs[1].set_xlabel('CLASSIFICAÇÃO DA OCORRÊNCIA')\n",
        "axs[1].set_ylabel('QUANTIDADE')\n",
        "\n",
        "\n",
        "# Adjust spacing between subplots\n",
        "plt.tight_layout()\n",
        "\n",
        "# Show the plots\n",
        "plt.show()"
      ]
    },
    {
      "cell_type": "code",
      "execution_count": 23,
      "metadata": {
        "id": "L1iPzI2JTmRU"
      },
      "outputs": [
        {
          "data": {
            "text/plain": [
              "'if p_value < alpha:\\n    print(f\"Reject the null hypothesis. We can afirm with a {confidence_level}% confidence_level that the proportion of accidents of older aircrafts is higher than newer ones.    P value = {p_value}\")\\nelse:\\n    print(\"Don´t Reject the null hypothesis. There´s no enough evidence to confirm that older aircrafts have a higher proportion of accidents than newer ones.\")\\n'"
            ]
          },
          "execution_count": 23,
          "metadata": {},
          "output_type": "execute_result"
        }
      ],
      "source": [
        "\"\"\"if p_value < alpha:\n",
        "    print(f\"Reject the null hypothesis. We can afirm with a {confidence_level}% confidence_level that the proportion of accidents of older aircrafts is higher than newer ones.\\\n",
        "    P value = {p_value}\")\n",
        "else:\n",
        "    print(\"Don´t Reject the null hypothesis. There´s no enough evidence to confirm that older aircrafts have a higher proportion of accidents than newer ones.\")\n",
        "\"\"\""
      ]
    },
    {
      "cell_type": "markdown",
      "metadata": {
        "id": "daRgY8E5ToDN"
      },
      "source": [
        "### Checking Null Hypothesis\n",
        "  - H0 = There´s no difference between the proportion of accidents in aircrafts older than 11 years then on aircrafts newer than 11 years\n",
        "  - H1 = There´s a difference between the proportion of accidents in aircrafts older than 11 years then on aircrafts newer than 11 years"
      ]
    },
    {
      "cell_type": "code",
      "execution_count": 24,
      "metadata": {
        "colab": {
          "base_uri": "https://localhost:8080/"
        },
        "id": "WGDMsaM6yvuO",
        "outputId": "fc2899df-261e-4d05-c819-14b9813855be"
      },
      "outputs": [
        {
          "name": "stdout",
          "output_type": "stream",
          "text": [
            "We can confirm with a 0.95% confindence level that older aircrafts tend to have 3.88PP to 10.67PP more accidents than newer ones\n"
          ]
        }
      ],
      "source": [
        "import numpy as np\n",
        "import scipy.stats as stats\n",
        "\n",
        "# Given data\n",
        "newer_sample_size = len(q1)\n",
        "older_sample_size = len(q1)\n",
        "older_sample_proportion = proportion_q234[\"ACIDENTE\"]\n",
        "confidence_level = 0.95\n",
        "\n",
        "# Calculate the sample proportion\n",
        "newer_sample_proportion = proportion_q1[\"ACIDENTE\"]\n",
        "\n",
        "# Calculate the standard error\n",
        "standard_error = np.sqrt(\n",
        "    ((older_sample_proportion * (1 - older_sample_proportion)) / older_sample_size) # OLDER SE\n",
        "    +\n",
        "    ((newer_sample_proportion * (1 - newer_sample_proportion)) / newer_sample_size) # NEWER SE\n",
        ")\n",
        "\n",
        "# Calculate the critical value (Z) for the desired confidence level\n",
        "alpha = 1 - confidence_level\n",
        "z_critical = stats.norm.ppf(1 - alpha / 2)\n",
        "\n",
        "# Calculate the margin of error for the confidence interval\n",
        "margin_of_error = z_critical * standard_error\n",
        "\n",
        "# Calculate the confidence interval\n",
        "proportion_diff = older_sample_proportion - newer_sample_proportion\n",
        "confidence_interval_lower = proportion_diff - margin_of_error\n",
        "confidence_interval_upper = proportion_diff + margin_of_error\n",
        "\n",
        "def to_percentual_points(n):\n",
        "  return round(n*100, 2)\n",
        "print(f\"We can confirm with a {confidence_level}% confindence level that older aircrafts tend to have\\\n",
        " {to_percentual_points(confidence_interval_lower)}PP to {to_percentual_points(confidence_interval_upper)}PP more accidents than newer ones\")\n"
      ]
    },
    {
      "cell_type": "code",
      "execution_count": 25,
      "metadata": {
        "colab": {
          "base_uri": "https://localhost:8080/"
        },
        "id": "Gybm5vhPYSps",
        "outputId": "54f9b65d-c5dd-493e-ad3c-f0b96d80795e"
      },
      "outputs": [],
      "source": [
        "# print(sample_proportion)\n",
        "# print(claimed_accidents)"
      ]
    },
    {
      "cell_type": "code",
      "execution_count": null,
      "metadata": {},
      "outputs": [],
      "source": []
    },
    {
      "cell_type": "code",
      "execution_count": null,
      "metadata": {},
      "outputs": [],
      "source": []
    },
    {
      "cell_type": "markdown",
      "metadata": {
        "colab": {
          "base_uri": "https://localhost:8080/"
        },
        "id": "1hHJwdvyYVVV",
        "outputId": "33836006-78ac-4365-ccbb-08267242d907"
      },
      "source": [
        "# Damage level analysis"
      ]
    },
    {
      "cell_type": "markdown",
      "metadata": {},
      "source": [
        "## Discritized age distribution"
      ]
    },
    {
      "cell_type": "code",
      "execution_count": 26,
      "metadata": {},
      "outputs": [
        {
          "name": "stdout",
          "output_type": "stream",
          "text": [
            "66022    [0, 10)\n",
            "77733    [0, 10)\n",
            "77733    [0, 10)\n",
            "77733    [0, 10)\n",
            "77733    [0, 10)\n",
            "Name: idade_discretizada, dtype: category\n",
            "Categories (8, interval[int64, left]): [[0, 10) < [10, 20) < [20, 30) < [30, 40) < [40, 50) < [50, 60) < [60, 70) < [70, 80)]\n",
            "\n",
            "80547    [70, 80)\n",
            "79223    [70, 80)\n",
            "79233    [70, 80)\n",
            "79323    [70, 80)\n",
            "80547    [70, 80)\n",
            "Name: idade_discretizada, dtype: category\n",
            "Categories (8, interval[int64, left]): [[0, 10) < [10, 20) < [20, 30) < [30, 40) < [40, 50) < [50, 60) < [60, 70) < [70, 80)]\n"
          ]
        }
      ],
      "source": [
        "# implementing discretization for the aircraft age\n",
        "age_max = dados[\"idade_aeronave\"].max()\n",
        "dados[\"idade_aeronave\"] = dados[\"idade_aeronave\"].astype(int)\n",
        "dados[\"aeronave_nivel_dano\"].value_counts(normalize=True)\n",
        "\n",
        "dados[\"idade_discretizada\"] = pd.cut(dados[\"idade_aeronave\"], bins=range(0, int(age_max) + 10, 10), right=False)\n",
        "print(dados[\"idade_discretizada\"].sort_values().head())\n",
        "print()\n",
        "print(dados[\"idade_discretizada\"].sort_values().tail())"
      ]
    },
    {
      "cell_type": "code",
      "execution_count": 27,
      "metadata": {},
      "outputs": [
        {
          "data": {
            "image/png": "[encoded data removed]",
            "text/plain": [
              "<Figure size 640x480 with 1 Axes>"
            ]
          },
          "metadata": {},
          "output_type": "display_data"
        }
      ],
      "source": [
        "sns.countplot(data=dados, x=\"idade_discretizada\")\n",
        "plt.show()"
      ]
    },
    {
      "cell_type": "markdown",
      "metadata": {},
      "source": [
        "Since ages greater than or equal 50 are less frequent, it seems a good oportunity to group all discritized values above 50 and create another catagory [40 , 80) "
      ]
    },
    {
      "cell_type": "code",
      "execution_count": 28,
      "metadata": {},
      "outputs": [
        {
          "data": {
            "text/plain": [
              "79206    [40, 80)\n",
              "79206    [40, 80)\n",
              "79206    [40, 80)\n",
              "77752    [40, 80)\n",
              "79437    [40, 80)\n",
              "Name: idade_discretizada_modificada, dtype: category\n",
              "Categories (5, interval[int64, left]): [[0, 10) < [10, 20) < [20, 30) < [30, 40) < [40, 80)]"
            ]
          },
          "execution_count": 28,
          "metadata": {},
          "output_type": "execute_result"
        }
      ],
      "source": [
        "dados[\"idade_discretizada_modificada\"] = pd.cut(dados[\"idade_aeronave\"], bins=list(range(0, 41, 10)) + [80], right=False)\n",
        "dados[\"idade_discretizada_modificada\"].sort_values().tail()\n"
      ]
    },
    {
      "cell_type": "code",
      "execution_count": 29,
      "metadata": {},
      "outputs": [
        {
          "data": {
            "text/plain": [
              "<Axes: xlabel='idade_discretizada_modificada', ylabel='count'>"
            ]
          },
          "execution_count": 29,
          "metadata": {},
          "output_type": "execute_result"
        },
        {
          "data": {
            "image/png": "[encoded data removed]",
            "text/plain": [
              "<Figure size 640x480 with 1 Axes>"
            ]
          },
          "metadata": {},
          "output_type": "display_data"
        }
      ],
      "source": [
        "sns.countplot(data=dados, x=\"idade_discretizada_modificada\")"
      ]
    },
    {
      "cell_type": "markdown",
      "metadata": {},
      "source": [
        "## Damage Levels Proportions"
      ]
    },
    {
      "cell_type": "code",
      "execution_count": 30,
      "metadata": {},
      "outputs": [
        {
          "data": {
            "image/png": "[encoded data removed]",
            "text/plain": [
              "<Figure size 640x480 with 1 Axes>"
            ]
          },
          "metadata": {},
          "output_type": "display_data"
        }
      ],
      "source": [
        "sns.barplot(x=dados[\"aeronave_nivel_dano\"].value_counts(normalize=True).index,\n",
        "             y=dados[\"aeronave_nivel_dano\"].value_counts(normalize=True)\n",
        "            )\n",
        "plt.title(\"Damage level proportion for each classification\")\n",
        "plt.ylabel(\"Proportion\")\n",
        "plt.xlabel(\"Damage Levels\")\n",
        "plt.show()"
      ]
    },
    {
      "cell_type": "markdown",
      "metadata": {},
      "source": [
        "## Age Distribution Per Damage Level"
      ]
    },
    {
      "cell_type": "code",
      "execution_count": 31,
      "metadata": {},
      "outputs": [
        {
          "data": {
            "image/png": "[encoded data removed]",
            "text/plain": [
              "<Figure size 500x500 with 1 Axes>"
            ]
          },
          "metadata": {},
          "output_type": "display_data"
        }
      ],
      "source": [
        "sns.catplot(data=dados, x=\"aeronave_nivel_dano\", y=\"idade_aeronave\", kind=\"box\")\n",
        "plt.show()"
      ]
    },
    {
      "cell_type": "markdown",
      "metadata": {},
      "source": [
        "## Proportion of Discritized Ages Per Damage Level"
      ]
    },
    {
      "cell_type": "code",
      "execution_count": 32,
      "metadata": {},
      "outputs": [
        {
          "data": {
            "text/html": [
              "<div>\n",
              "<style scoped>\n",
              "    .dataframe tbody tr th:only-of-type {\n",
              "        vertical-align: middle;\n",
              "    }\n",
              "\n",
              "    .dataframe tbody tr th {\n",
              "        vertical-align: top;\n",
              "    }\n",
              "\n",
              "    .dataframe thead th {\n",
              "        text-align: right;\n",
              "    }\n",
              "</style>\n",
              "<table border=\"1\" class=\"dataframe\">\n",
              "  <thead>\n",
              "    <tr style=\"text-align: right;\">\n",
              "      <th>aeronave_nivel_dano</th>\n",
              "      <th>DESTRUÍDA</th>\n",
              "      <th>LEVE</th>\n",
              "      <th>NENHUM</th>\n",
              "      <th>SUBSTANCIAL</th>\n",
              "    </tr>\n",
              "    <tr>\n",
              "      <th>idade_discretizada_modificada</th>\n",
              "      <th></th>\n",
              "      <th></th>\n",
              "      <th></th>\n",
              "      <th></th>\n",
              "    </tr>\n",
              "  </thead>\n",
              "  <tbody>\n",
              "    <tr>\n",
              "      <th>[0, 10)</th>\n",
              "      <td>0.173200</td>\n",
              "      <td>0.125798</td>\n",
              "      <td>0.139471</td>\n",
              "      <td>0.561531</td>\n",
              "    </tr>\n",
              "    <tr>\n",
              "      <th>[10, 20)</th>\n",
              "      <td>0.206897</td>\n",
              "      <td>0.116496</td>\n",
              "      <td>0.088537</td>\n",
              "      <td>0.588071</td>\n",
              "    </tr>\n",
              "    <tr>\n",
              "      <th>[20, 30)</th>\n",
              "      <td>0.152326</td>\n",
              "      <td>0.111628</td>\n",
              "      <td>0.050000</td>\n",
              "      <td>0.686047</td>\n",
              "    </tr>\n",
              "    <tr>\n",
              "      <th>[30, 40)</th>\n",
              "      <td>0.195946</td>\n",
              "      <td>0.090734</td>\n",
              "      <td>0.057915</td>\n",
              "      <td>0.655405</td>\n",
              "    </tr>\n",
              "    <tr>\n",
              "      <th>[40, 80)</th>\n",
              "      <td>0.187919</td>\n",
              "      <td>0.049497</td>\n",
              "      <td>0.040268</td>\n",
              "      <td>0.722315</td>\n",
              "    </tr>\n",
              "  </tbody>\n",
              "</table>\n",
              "</div>"
            ],
            "text/plain": [
              "aeronave_nivel_dano            DESTRUÍDA      LEVE    NENHUM  SUBSTANCIAL\n",
              "idade_discretizada_modificada                                            \n",
              "[0, 10)                         0.173200  0.125798  0.139471     0.561531\n",
              "[10, 20)                        0.206897  0.116496  0.088537     0.588071\n",
              "[20, 30)                        0.152326  0.111628  0.050000     0.686047\n",
              "[30, 40)                        0.195946  0.090734  0.057915     0.655405\n",
              "[40, 80)                        0.187919  0.049497  0.040268     0.722315"
            ]
          },
          "execution_count": 32,
          "metadata": {},
          "output_type": "execute_result"
        }
      ],
      "source": [
        "proportions_damage_age = pd.crosstab(dados[\"idade_discretizada_modificada\"], dados[\"aeronave_nivel_dano\"], normalize=\"index\")\n",
        "proportions_damage_age"
      ]
    },
    {
      "cell_type": "code",
      "execution_count": 33,
      "metadata": {},
      "outputs": [
        {
          "data": {
            "text/html": [
              "<div>\n",
              "<style scoped>\n",
              "    .dataframe tbody tr th:only-of-type {\n",
              "        vertical-align: middle;\n",
              "    }\n",
              "\n",
              "    .dataframe tbody tr th {\n",
              "        vertical-align: top;\n",
              "    }\n",
              "\n",
              "    .dataframe thead th {\n",
              "        text-align: right;\n",
              "    }\n",
              "</style>\n",
              "<table border=\"1\" class=\"dataframe\">\n",
              "  <thead>\n",
              "    <tr style=\"text-align: right;\">\n",
              "      <th></th>\n",
              "      <th>idade_discretizada_modificada</th>\n",
              "      <th>Nivel</th>\n",
              "      <th>Proportion</th>\n",
              "    </tr>\n",
              "  </thead>\n",
              "  <tbody>\n",
              "    <tr>\n",
              "      <th>0</th>\n",
              "      <td>[0, 10)</td>\n",
              "      <td>DESTRUÍDA</td>\n",
              "      <td>0.173200</td>\n",
              "    </tr>\n",
              "    <tr>\n",
              "      <th>1</th>\n",
              "      <td>[10, 20)</td>\n",
              "      <td>DESTRUÍDA</td>\n",
              "      <td>0.206897</td>\n",
              "    </tr>\n",
              "    <tr>\n",
              "      <th>2</th>\n",
              "      <td>[20, 30)</td>\n",
              "      <td>DESTRUÍDA</td>\n",
              "      <td>0.152326</td>\n",
              "    </tr>\n",
              "    <tr>\n",
              "      <th>3</th>\n",
              "      <td>[30, 40)</td>\n",
              "      <td>DESTRUÍDA</td>\n",
              "      <td>0.195946</td>\n",
              "    </tr>\n",
              "    <tr>\n",
              "      <th>4</th>\n",
              "      <td>[40, 80)</td>\n",
              "      <td>DESTRUÍDA</td>\n",
              "      <td>0.187919</td>\n",
              "    </tr>\n",
              "    <tr>\n",
              "      <th>5</th>\n",
              "      <td>[0, 10)</td>\n",
              "      <td>LEVE</td>\n",
              "      <td>0.125798</td>\n",
              "    </tr>\n",
              "    <tr>\n",
              "      <th>6</th>\n",
              "      <td>[10, 20)</td>\n",
              "      <td>LEVE</td>\n",
              "      <td>0.116496</td>\n",
              "    </tr>\n",
              "    <tr>\n",
              "      <th>7</th>\n",
              "      <td>[20, 30)</td>\n",
              "      <td>LEVE</td>\n",
              "      <td>0.111628</td>\n",
              "    </tr>\n",
              "    <tr>\n",
              "      <th>8</th>\n",
              "      <td>[30, 40)</td>\n",
              "      <td>LEVE</td>\n",
              "      <td>0.090734</td>\n",
              "    </tr>\n",
              "    <tr>\n",
              "      <th>9</th>\n",
              "      <td>[40, 80)</td>\n",
              "      <td>LEVE</td>\n",
              "      <td>0.049497</td>\n",
              "    </tr>\n",
              "    <tr>\n",
              "      <th>10</th>\n",
              "      <td>[0, 10)</td>\n",
              "      <td>NENHUM</td>\n",
              "      <td>0.139471</td>\n",
              "    </tr>\n",
              "    <tr>\n",
              "      <th>11</th>\n",
              "      <td>[10, 20)</td>\n",
              "      <td>NENHUM</td>\n",
              "      <td>0.088537</td>\n",
              "    </tr>\n",
              "    <tr>\n",
              "      <th>12</th>\n",
              "      <td>[20, 30)</td>\n",
              "      <td>NENHUM</td>\n",
              "      <td>0.050000</td>\n",
              "    </tr>\n",
              "    <tr>\n",
              "      <th>13</th>\n",
              "      <td>[30, 40)</td>\n",
              "      <td>NENHUM</td>\n",
              "      <td>0.057915</td>\n",
              "    </tr>\n",
              "    <tr>\n",
              "      <th>14</th>\n",
              "      <td>[40, 80)</td>\n",
              "      <td>NENHUM</td>\n",
              "      <td>0.040268</td>\n",
              "    </tr>\n",
              "    <tr>\n",
              "      <th>15</th>\n",
              "      <td>[0, 10)</td>\n",
              "      <td>SUBSTANCIAL</td>\n",
              "      <td>0.561531</td>\n",
              "    </tr>\n",
              "    <tr>\n",
              "      <th>16</th>\n",
              "      <td>[10, 20)</td>\n",
              "      <td>SUBSTANCIAL</td>\n",
              "      <td>0.588071</td>\n",
              "    </tr>\n",
              "    <tr>\n",
              "      <th>17</th>\n",
              "      <td>[20, 30)</td>\n",
              "      <td>SUBSTANCIAL</td>\n",
              "      <td>0.686047</td>\n",
              "    </tr>\n",
              "    <tr>\n",
              "      <th>18</th>\n",
              "      <td>[30, 40)</td>\n",
              "      <td>SUBSTANCIAL</td>\n",
              "      <td>0.655405</td>\n",
              "    </tr>\n",
              "    <tr>\n",
              "      <th>19</th>\n",
              "      <td>[40, 80)</td>\n",
              "      <td>SUBSTANCIAL</td>\n",
              "      <td>0.722315</td>\n",
              "    </tr>\n",
              "  </tbody>\n",
              "</table>\n",
              "</div>"
            ],
            "text/plain": [
              "   idade_discretizada_modificada        Nivel  Proportion\n",
              "0                        [0, 10)    DESTRUÍDA    0.173200\n",
              "1                       [10, 20)    DESTRUÍDA    0.206897\n",
              "2                       [20, 30)    DESTRUÍDA    0.152326\n",
              "3                       [30, 40)    DESTRUÍDA    0.195946\n",
              "4                       [40, 80)    DESTRUÍDA    0.187919\n",
              "5                        [0, 10)         LEVE    0.125798\n",
              "6                       [10, 20)         LEVE    0.116496\n",
              "7                       [20, 30)         LEVE    0.111628\n",
              "8                       [30, 40)         LEVE    0.090734\n",
              "9                       [40, 80)         LEVE    0.049497\n",
              "10                       [0, 10)       NENHUM    0.139471\n",
              "11                      [10, 20)       NENHUM    0.088537\n",
              "12                      [20, 30)       NENHUM    0.050000\n",
              "13                      [30, 40)       NENHUM    0.057915\n",
              "14                      [40, 80)       NENHUM    0.040268\n",
              "15                       [0, 10)  SUBSTANCIAL    0.561531\n",
              "16                      [10, 20)  SUBSTANCIAL    0.588071\n",
              "17                      [20, 30)  SUBSTANCIAL    0.686047\n",
              "18                      [30, 40)  SUBSTANCIAL    0.655405\n",
              "19                      [40, 80)  SUBSTANCIAL    0.722315"
            ]
          },
          "execution_count": 33,
          "metadata": {},
          "output_type": "execute_result"
        }
      ],
      "source": [
        "proportions_damage_age.reset_index(inplace=True)\n",
        "long_p_damage_age = pd.melt(proportions_damage_age, id_vars=['idade_discretizada_modificada'], value_vars=proportions_damage_age.columns.tolist(), var_name='Nivel', value_name='Proportion')\n",
        "long_p_damage_age"
      ]
    },
    {
      "cell_type": "code",
      "execution_count": 34,
      "metadata": {},
      "outputs": [
        {
          "data": {
            "image/png": "[encoded data removed]",
            "text/plain": [
              "<Figure size 725.611x500 with 1 Axes>"
            ]
          },
          "metadata": {},
          "output_type": "display_data"
        }
      ],
      "source": [
        "sns.catplot(data=long_p_damage_age, x=\"Nivel\", y=\"Proportion\", hue=\"idade_discretizada_modificada\", kind=\"bar\")\n",
        "plt.show()"
      ]
    },
    {
      "cell_type": "markdown",
      "metadata": {},
      "source": [
        "Analysing the charts we can propose two hypothesis:\n",
        "\n",
        "1. The proportion of airplanes with **less than 10 years which had no damage in the occurences** is significantly greater than proportion of airplanes with **more than 10 years**.\n",
        "2. The proportion of airplanes with **greater than 20 years which had substancial damage in the occurences** is significantly greater than proportion of airplanes with **more than 20 years**"
      ]
    },
    {
      "cell_type": "markdown",
      "metadata": {},
      "source": [
        "## Checking Hypothesis 1\n",
        "\n",
        "The proportion of airplanes with **less than 10 years which had no damage in the occurences** is significantly greater than proportion of airplanes with **more than 10 years**."
      ]
    },
    {
      "cell_type": "code",
      "execution_count": 35,
      "metadata": {},
      "outputs": [
        {
          "data": {
            "text/html": [
              "<div>\n",
              "<style scoped>\n",
              "    .dataframe tbody tr th:only-of-type {\n",
              "        vertical-align: middle;\n",
              "    }\n",
              "\n",
              "    .dataframe tbody tr th {\n",
              "        vertical-align: top;\n",
              "    }\n",
              "\n",
              "    .dataframe thead th {\n",
              "        text-align: right;\n",
              "    }\n",
              "</style>\n",
              "<table border=\"1\" class=\"dataframe\">\n",
              "  <thead>\n",
              "    <tr style=\"text-align: right;\">\n",
              "      <th></th>\n",
              "      <th>aeronave_ano_fabricacao</th>\n",
              "      <th>aeronave_nivel_dano</th>\n",
              "      <th>aeronave_fatalidades_total</th>\n",
              "      <th>fator_area</th>\n",
              "      <th>ocorrencia_classificacao</th>\n",
              "      <th>ocorrencia_dia</th>\n",
              "      <th>idade_aeronave</th>\n",
              "      <th>idade_discretizada</th>\n",
              "      <th>idade_discretizada_modificada</th>\n",
              "    </tr>\n",
              "  </thead>\n",
              "  <tbody>\n",
              "    <tr>\n",
              "      <th>0</th>\n",
              "      <td>2013.0</td>\n",
              "      <td>NENHUM</td>\n",
              "      <td>0.0</td>\n",
              "      <td>FATOR HUMANO</td>\n",
              "      <td>INCIDENTE GRAVE</td>\n",
              "      <td>2018-12-02</td>\n",
              "      <td>5</td>\n",
              "      <td>[0, 10)</td>\n",
              "      <td>[0, 10)</td>\n",
              "    </tr>\n",
              "    <tr>\n",
              "      <th>1</th>\n",
              "      <td>2013.0</td>\n",
              "      <td>SUBSTANCIAL</td>\n",
              "      <td>0.0</td>\n",
              "      <td>FATOR OPERACIONAL</td>\n",
              "      <td>ACIDENTE</td>\n",
              "      <td>2017-02-18</td>\n",
              "      <td>4</td>\n",
              "      <td>[0, 10)</td>\n",
              "      <td>[0, 10)</td>\n",
              "    </tr>\n",
              "    <tr>\n",
              "      <th>2</th>\n",
              "      <td>2011.0</td>\n",
              "      <td>SUBSTANCIAL</td>\n",
              "      <td>0.0</td>\n",
              "      <td>FATOR OPERACIONAL</td>\n",
              "      <td>ACIDENTE</td>\n",
              "      <td>2019-02-01</td>\n",
              "      <td>8</td>\n",
              "      <td>[0, 10)</td>\n",
              "      <td>[0, 10)</td>\n",
              "    </tr>\n",
              "    <tr>\n",
              "      <th>3</th>\n",
              "      <td>2005.0</td>\n",
              "      <td>SUBSTANCIAL</td>\n",
              "      <td>0.0</td>\n",
              "      <td>FATOR OPERACIONAL</td>\n",
              "      <td>ACIDENTE</td>\n",
              "      <td>2014-06-13</td>\n",
              "      <td>9</td>\n",
              "      <td>[0, 10)</td>\n",
              "      <td>[0, 10)</td>\n",
              "    </tr>\n",
              "    <tr>\n",
              "      <th>4</th>\n",
              "      <td>2012.0</td>\n",
              "      <td>DESTRUÍDA</td>\n",
              "      <td>1.0</td>\n",
              "      <td>FATOR HUMANO</td>\n",
              "      <td>ACIDENTE</td>\n",
              "      <td>2013-04-30</td>\n",
              "      <td>1</td>\n",
              "      <td>[0, 10)</td>\n",
              "      <td>[0, 10)</td>\n",
              "    </tr>\n",
              "  </tbody>\n",
              "</table>\n",
              "</div>"
            ],
            "text/plain": [
              "   aeronave_ano_fabricacao aeronave_nivel_dano  aeronave_fatalidades_total  \\\n",
              "0                   2013.0              NENHUM                         0.0   \n",
              "1                   2013.0         SUBSTANCIAL                         0.0   \n",
              "2                   2011.0         SUBSTANCIAL                         0.0   \n",
              "3                   2005.0         SUBSTANCIAL                         0.0   \n",
              "4                   2012.0           DESTRUÍDA                         1.0   \n",
              "\n",
              "          fator_area ocorrencia_classificacao ocorrencia_dia  idade_aeronave  \\\n",
              "0       FATOR HUMANO          INCIDENTE GRAVE     2018-12-02               5   \n",
              "1  FATOR OPERACIONAL                 ACIDENTE     2017-02-18               4   \n",
              "2  FATOR OPERACIONAL                 ACIDENTE     2019-02-01               8   \n",
              "3  FATOR OPERACIONAL                 ACIDENTE     2014-06-13               9   \n",
              "4       FATOR HUMANO                 ACIDENTE     2013-04-30               1   \n",
              "\n",
              "  idade_discretizada idade_discretizada_modificada  \n",
              "0            [0, 10)                       [0, 10)  \n",
              "1            [0, 10)                       [0, 10)  \n",
              "2            [0, 10)                       [0, 10)  \n",
              "3            [0, 10)                       [0, 10)  \n",
              "4            [0, 10)                       [0, 10)  "
            ]
          },
          "execution_count": 35,
          "metadata": {},
          "output_type": "execute_result"
        }
      ],
      "source": [
        "# taking broad samples\n",
        "SAMPLE_SIZE = 150\n",
        "less10 = dados[dados[\"idade_discretizada_modificada\"] == pd.Interval(0, 10, closed='left')].sample(n=SAMPLE_SIZE, replace=False, axis=0, ignore_index=True)\n",
        "less10.head()"
      ]
    },
    {
      "cell_type": "code",
      "execution_count": 36,
      "metadata": {},
      "outputs": [
        {
          "data": {
            "text/html": [
              "<div>\n",
              "<style scoped>\n",
              "    .dataframe tbody tr th:only-of-type {\n",
              "        vertical-align: middle;\n",
              "    }\n",
              "\n",
              "    .dataframe tbody tr th {\n",
              "        vertical-align: top;\n",
              "    }\n",
              "\n",
              "    .dataframe thead th {\n",
              "        text-align: right;\n",
              "    }\n",
              "</style>\n",
              "<table border=\"1\" class=\"dataframe\">\n",
              "  <thead>\n",
              "    <tr style=\"text-align: right;\">\n",
              "      <th></th>\n",
              "      <th>aeronave_ano_fabricacao</th>\n",
              "      <th>aeronave_nivel_dano</th>\n",
              "      <th>aeronave_fatalidades_total</th>\n",
              "      <th>fator_area</th>\n",
              "      <th>ocorrencia_classificacao</th>\n",
              "      <th>ocorrencia_dia</th>\n",
              "      <th>idade_aeronave</th>\n",
              "      <th>idade_discretizada</th>\n",
              "      <th>idade_discretizada_modificada</th>\n",
              "    </tr>\n",
              "  </thead>\n",
              "  <tbody>\n",
              "    <tr>\n",
              "      <th>0</th>\n",
              "      <td>1980.0</td>\n",
              "      <td>NENHUM</td>\n",
              "      <td>0.0</td>\n",
              "      <td>FATOR OPERACIONAL</td>\n",
              "      <td>INCIDENTE GRAVE</td>\n",
              "      <td>2014-04-09</td>\n",
              "      <td>34</td>\n",
              "      <td>[30, 40)</td>\n",
              "      <td>[30, 40)</td>\n",
              "    </tr>\n",
              "    <tr>\n",
              "      <th>1</th>\n",
              "      <td>1985.0</td>\n",
              "      <td>SUBSTANCIAL</td>\n",
              "      <td>0.0</td>\n",
              "      <td>FATOR OPERACIONAL</td>\n",
              "      <td>ACIDENTE</td>\n",
              "      <td>2021-08-02</td>\n",
              "      <td>36</td>\n",
              "      <td>[30, 40)</td>\n",
              "      <td>[30, 40)</td>\n",
              "    </tr>\n",
              "    <tr>\n",
              "      <th>2</th>\n",
              "      <td>1976.0</td>\n",
              "      <td>SUBSTANCIAL</td>\n",
              "      <td>0.0</td>\n",
              "      <td>FATOR OPERACIONAL</td>\n",
              "      <td>ACIDENTE</td>\n",
              "      <td>2020-12-09</td>\n",
              "      <td>44</td>\n",
              "      <td>[40, 50)</td>\n",
              "      <td>[40, 80)</td>\n",
              "    </tr>\n",
              "    <tr>\n",
              "      <th>3</th>\n",
              "      <td>1996.0</td>\n",
              "      <td>LEVE</td>\n",
              "      <td>0.0</td>\n",
              "      <td>FATOR OPERACIONAL</td>\n",
              "      <td>INCIDENTE GRAVE</td>\n",
              "      <td>2016-12-08</td>\n",
              "      <td>20</td>\n",
              "      <td>[20, 30)</td>\n",
              "      <td>[20, 30)</td>\n",
              "    </tr>\n",
              "    <tr>\n",
              "      <th>4</th>\n",
              "      <td>1974.0</td>\n",
              "      <td>SUBSTANCIAL</td>\n",
              "      <td>2.0</td>\n",
              "      <td>FATOR HUMANO</td>\n",
              "      <td>ACIDENTE</td>\n",
              "      <td>2014-12-06</td>\n",
              "      <td>40</td>\n",
              "      <td>[40, 50)</td>\n",
              "      <td>[40, 80)</td>\n",
              "    </tr>\n",
              "  </tbody>\n",
              "</table>\n",
              "</div>"
            ],
            "text/plain": [
              "   aeronave_ano_fabricacao aeronave_nivel_dano  aeronave_fatalidades_total  \\\n",
              "0                   1980.0              NENHUM                         0.0   \n",
              "1                   1985.0         SUBSTANCIAL                         0.0   \n",
              "2                   1976.0         SUBSTANCIAL                         0.0   \n",
              "3                   1996.0                LEVE                         0.0   \n",
              "4                   1974.0         SUBSTANCIAL                         2.0   \n",
              "\n",
              "          fator_area ocorrencia_classificacao ocorrencia_dia  idade_aeronave  \\\n",
              "0  FATOR OPERACIONAL          INCIDENTE GRAVE     2014-04-09              34   \n",
              "1  FATOR OPERACIONAL                 ACIDENTE     2021-08-02              36   \n",
              "2  FATOR OPERACIONAL                 ACIDENTE     2020-12-09              44   \n",
              "3  FATOR OPERACIONAL          INCIDENTE GRAVE     2016-12-08              20   \n",
              "4       FATOR HUMANO                 ACIDENTE     2014-12-06              40   \n",
              "\n",
              "  idade_discretizada idade_discretizada_modificada  \n",
              "0           [30, 40)                      [30, 40)  \n",
              "1           [30, 40)                      [30, 40)  \n",
              "2           [40, 50)                      [40, 80)  \n",
              "3           [20, 30)                      [20, 30)  \n",
              "4           [40, 50)                      [40, 80)  "
            ]
          },
          "execution_count": 36,
          "metadata": {},
          "output_type": "execute_result"
        }
      ],
      "source": [
        "more10 = dados[~(dados[\"idade_discretizada_modificada\"] == pd.Interval(0, 10, closed='left'))].sample(n=SAMPLE_SIZE, replace=False, axis=0, ignore_index=True)\n",
        "more10.head()"
      ]
    },
    {
      "cell_type": "markdown",
      "metadata": {},
      "source": [
        "**Notice:**\n",
        "- p̂<sub><10</sub> represents the proportion of airplanes with less than 10 years which had no damage in the occurences.\n",
        "- p̂<sub>>=10</sub> represents the proportion of airplanes with more than or equal 10 years which had no damage in the occurences.\n",
        "\n",
        "$H_0$: **There IS NO** difference between proportions of airplanes with less than 10 years and more than or equal 10 years which had no damage.\n",
        "> p̂<sub><10</sub> − p̂<sub>>=10</sub> = 0  \n",
        "\n",
        "$H_A$: **There IS** difference between proportions of airplanes with less than 10 years and more than or equal 10 years which had no damage.  \n",
        "> p̂<sub><10</sub> - p̂<sub>>=10</sub> ≠ 0\n",
        "\n",
        "\n",
        "**Checking conditions for the sampling distribution of p̂1 − p̂2 to be normal**:\n",
        "\n",
        "1. **Independence**\n",
        "- Because the data come from a simple random sample, the observations are independent, both within and between samples."
      ]
    },
    {
      "cell_type": "markdown",
      "metadata": {},
      "source": [
        "2. **Success-failure condition**\n",
        "- Since the null hypothesis is that the proportions are equal, we use the pooled proportion ($p̂_{pooled}$) to verify the success-failure condition and estimate the standard error.\n",
        "- $p̂_{pooled} = \\frac{p̂_1 \\ * \\ n_1 \\ + \\ p̂_2 \\ * \\ n_2}{n_1 + n_2}$\n",
        "- $n_1 \\ * \\ p̂_{pooled} \\ ≥ \\ 10 \\ and \\ n_1 \\ * \\ (1 - p̂_{pooled}) ≥ 10$\n",
        "- $n_2 \\ * \\ p̂_{pooled} \\ ≥ \\ 10 \\ and \\ n_2 \\ * \\ (1 - p̂_{pooled}) ≥ 10$\n"
      ]
    },
    {
      "cell_type": "code",
      "execution_count": 37,
      "metadata": {},
      "outputs": [
        {
          "name": "stdout",
          "output_type": "stream",
          "text": [
            "p-hat less than 10 = 0.13333333333333333\n"
          ]
        }
      ],
      "source": [
        "p_hat_less10 = less10[\"aeronave_nivel_dano\"].value_counts(normalize=True).NENHUM\n",
        "print(\"p-hat less than 10 =\", p_hat_less10)"
      ]
    },
    {
      "cell_type": "code",
      "execution_count": 38,
      "metadata": {},
      "outputs": [
        {
          "name": "stdout",
          "output_type": "stream",
          "text": [
            "p-hat more than or equal 10 = 0.06\n"
          ]
        }
      ],
      "source": [
        "p_hat_more10 = more10[\"aeronave_nivel_dano\"].value_counts(normalize=True).NENHUM\n",
        "print(\"p-hat more than or equal 10 =\", p_hat_more10)"
      ]
    },
    {
      "cell_type": "code",
      "execution_count": 39,
      "metadata": {},
      "outputs": [
        {
          "name": "stdout",
          "output_type": "stream",
          "text": [
            "p-hat pooled = 0.09666666666666666\n"
          ]
        }
      ],
      "source": [
        "p_pooled = (p_hat_less10 * SAMPLE_SIZE + p_hat_more10 * SAMPLE_SIZE) / (SAMPLE_SIZE + SAMPLE_SIZE)\n",
        "print(\"p-hat pooled =\", p_pooled)"
      ]
    },
    {
      "cell_type": "code",
      "execution_count": 40,
      "metadata": {},
      "outputs": [
        {
          "name": "stdout",
          "output_type": "stream",
          "text": [
            "Conditions 𝑛1 𝑥 𝑝̂ 𝑝𝑜𝑜𝑙𝑒𝑑 ≥ 10 𝑎𝑛𝑑 𝑛1 𝑥 (1−𝑝̂ 𝑝𝑜𝑜𝑙𝑒𝑑) ≥ 10 met!\n",
            "Conditions 𝑛2 𝑥 𝑝̂ 𝑝𝑜𝑜𝑙𝑒𝑑 ≥ 10 𝑎𝑛𝑑 𝑛2 𝑥 (1−𝑝̂ 𝑝𝑜𝑜𝑙𝑒𝑑) ≥ 10 met!\n"
          ]
        }
      ],
      "source": [
        "ck1 = p_pooled * SAMPLE_SIZE\n",
        "ck2 = (1 - p_pooled) * SAMPLE_SIZE\n",
        "\n",
        "if ck1 >= 10 and ck2 >= 10:\n",
        "    print(\"Conditions 𝑛1 𝑥 𝑝̂ 𝑝𝑜𝑜𝑙𝑒𝑑 ≥ 10 𝑎𝑛𝑑 𝑛1 𝑥 (1−𝑝̂ 𝑝𝑜𝑜𝑙𝑒𝑑) ≥ 10 met!\")\n",
        "else:\n",
        "    print(\"Conditions 𝑛1 𝑥 𝑝̂ 𝑝𝑜𝑜𝑙𝑒𝑑 ≥ 10 𝑎𝑛𝑑 𝑛1 𝑥 (1−𝑝̂ 𝑝𝑜𝑜𝑙𝑒𝑑) ≥ 10 DOES NOT met!\")\n",
        "\n",
        "ck3 = p_pooled * SAMPLE_SIZE\n",
        "ck4 = (1 - p_pooled) * SAMPLE_SIZE\n",
        "\n",
        "if ck3 >= 10 and ck4 >= 10:\n",
        "    print(\"Conditions 𝑛2 𝑥 𝑝̂ 𝑝𝑜𝑜𝑙𝑒𝑑 ≥ 10 𝑎𝑛𝑑 𝑛2 𝑥 (1−𝑝̂ 𝑝𝑜𝑜𝑙𝑒𝑑) ≥ 10 met!\")\n",
        "else:\n",
        "    print(\"Conditions 𝑛2 𝑥 𝑝̂ 𝑝𝑜𝑜𝑙𝑒𝑑 ≥ 10 𝑎𝑛𝑑 𝑛2 𝑥 (1−𝑝̂ 𝑝𝑜𝑜𝑙𝑒𝑑) ≥ 10 DOES NOT met!\")"
      ]
    },
    {
      "cell_type": "markdown",
      "metadata": {},
      "source": [
        "**As both conditions are satisfied, we can safely model the difference in proportions using a normal distribution!**"
      ]
    },
    {
      "cell_type": "markdown",
      "metadata": {},
      "source": [
        "### Calculations"
      ]
    },
    {
      "cell_type": "markdown",
      "metadata": {},
      "source": [
        "#### Standard error for the difference of proportions\n",
        "$SE = \\sqrt{\\frac{p̂_{pooled} \\ * \\ (1 - p̂_{pooled})}{n_1} + \\frac{p̂_{pooled} \\ * \\ (1 - p̂_{pooled})}{n_2}}$\n",
        "\n",
        "#### Test statistic\n",
        "$Z^* = \\frac{point \\ estimate \\ - \\ null \\ value}{SE}$\n",
        "\n",
        "#### Significance level we will use\n",
        "$\\alpha = 0.05$"
      ]
    },
    {
      "cell_type": "code",
      "execution_count": 41,
      "metadata": {},
      "outputs": [
        {
          "name": "stdout",
          "output_type": "stream",
          "text": [
            "SE = 0.03412178624129013\n"
          ]
        }
      ],
      "source": [
        "SE = sqrt(p_pooled*(1 - p_pooled) / len(less10) + p_pooled*(1 - p_pooled) / len(more10))\n",
        "print(\"SE =\", SE)"
      ]
    },
    {
      "cell_type": "code",
      "execution_count": 42,
      "metadata": {},
      "outputs": [
        {
          "name": "stdout",
          "output_type": "stream",
          "text": [
            "Point estimate = 0.07333333333333333\n"
          ]
        }
      ],
      "source": [
        "point_estimate = p_hat_less10 - p_hat_more10\n",
        "print(\"Point estimate =\", point_estimate)"
      ]
    },
    {
      "cell_type": "code",
      "execution_count": 43,
      "metadata": {},
      "outputs": [
        {
          "name": "stdout",
          "output_type": "stream",
          "text": [
            "Null value = 0\n",
            "It comes from the null hypothesis, since we are considering the difference between proportions 0\n"
          ]
        }
      ],
      "source": [
        "null_value = 0     # it comes from the null hypothesis, since we are considering the difference between proportions 0\n",
        "print(\"Null value =\", null_value)\n",
        "print(\"It comes from the null hypothesis, since we are considering the difference between proportions 0\")"
      ]
    },
    {
      "cell_type": "code",
      "execution_count": 44,
      "metadata": {},
      "outputs": [
        {
          "name": "stdout",
          "output_type": "stream",
          "text": [
            "Test statistic (Z*) = 2.1491645488533675\n"
          ]
        }
      ],
      "source": [
        "z_score = (point_estimate - null_value) / SE\n",
        "print(\"Test statistic (Z*) =\", z_score)"
      ]
    },
    {
      "cell_type": "code",
      "execution_count": 45,
      "metadata": {},
      "outputs": [
        {
          "name": "stdout",
          "output_type": "stream",
          "text": [
            "For a p-value = 0.031621358416154516 and alpha = 0.05 we REJECT the null hypothesis!\n"
          ]
        }
      ],
      "source": [
        "# p_value is calculate for one-tail and we are using two-tails\n",
        "# because of this we must double the value encountered\n",
        "p_value = stats.norm.sf(abs(z_score)) * 2\n",
        "alpha = 0.05\n",
        "\n",
        "if p_value < alpha:\n",
        "    print(f\"For a p-value = {p_value} and alpha = {alpha} we REJECT the null hypothesis!\")\n",
        "else: \n",
        "    print(f\"For a p-value = {p_value} and alpha = {alpha} we DO NOT REJECT the null hypothesis!\")"
      ]
    },
    {
      "cell_type": "markdown",
      "metadata": {},
      "source": [
        "### Conclusion\n",
        "\n",
        "Since we have rejected the null hypothesis, we can conclude that **There IS** difference between proportions of airplanes with less than 10 years and more than or equal 10 years which had no damage.\n",
        "\n",
        "Furthermore, the point estimate indicate that the direction of that\n",
        "difference is that airplanes with less than 10 years have proportions of occurences with no damage greater than airplanes with more than or equal 10 years."
      ]
    },
    {
      "cell_type": "markdown",
      "metadata": {},
      "source": [
        "## Checking Hypothesis 2\n",
        "\n",
        "The proportion of airplanes with **greater than 20 years which had substancial damage in the occurences** is significantly greater than proportion of airplanes with **more than 20 years**"
      ]
    },
    {
      "cell_type": "code",
      "execution_count": 46,
      "metadata": {},
      "outputs": [
        {
          "data": {
            "text/html": [
              "<div>\n",
              "<style scoped>\n",
              "    .dataframe tbody tr th:only-of-type {\n",
              "        vertical-align: middle;\n",
              "    }\n",
              "\n",
              "    .dataframe tbody tr th {\n",
              "        vertical-align: top;\n",
              "    }\n",
              "\n",
              "    .dataframe thead th {\n",
              "        text-align: right;\n",
              "    }\n",
              "</style>\n",
              "<table border=\"1\" class=\"dataframe\">\n",
              "  <thead>\n",
              "    <tr style=\"text-align: right;\">\n",
              "      <th></th>\n",
              "      <th>aeronave_ano_fabricacao</th>\n",
              "      <th>aeronave_nivel_dano</th>\n",
              "      <th>aeronave_fatalidades_total</th>\n",
              "      <th>fator_area</th>\n",
              "      <th>ocorrencia_classificacao</th>\n",
              "      <th>ocorrencia_dia</th>\n",
              "      <th>idade_aeronave</th>\n",
              "      <th>idade_discretizada</th>\n",
              "      <th>idade_discretizada_modificada</th>\n",
              "    </tr>\n",
              "  </thead>\n",
              "  <tbody>\n",
              "    <tr>\n",
              "      <th>45396</th>\n",
              "      <td>2005.0</td>\n",
              "      <td>LEVE</td>\n",
              "      <td>0.0</td>\n",
              "      <td>FATOR OPERACIONAL</td>\n",
              "      <td>INCIDENTE GRAVE</td>\n",
              "      <td>2012-01-11</td>\n",
              "      <td>7</td>\n",
              "      <td>[0, 10)</td>\n",
              "      <td>[0, 10)</td>\n",
              "    </tr>\n",
              "    <tr>\n",
              "      <th>45396</th>\n",
              "      <td>2005.0</td>\n",
              "      <td>LEVE</td>\n",
              "      <td>0.0</td>\n",
              "      <td>FATOR OPERACIONAL</td>\n",
              "      <td>INCIDENTE GRAVE</td>\n",
              "      <td>2012-01-11</td>\n",
              "      <td>7</td>\n",
              "      <td>[0, 10)</td>\n",
              "      <td>[0, 10)</td>\n",
              "    </tr>\n",
              "    <tr>\n",
              "      <th>45396</th>\n",
              "      <td>2005.0</td>\n",
              "      <td>LEVE</td>\n",
              "      <td>0.0</td>\n",
              "      <td>FATOR OPERACIONAL</td>\n",
              "      <td>INCIDENTE GRAVE</td>\n",
              "      <td>2012-01-11</td>\n",
              "      <td>7</td>\n",
              "      <td>[0, 10)</td>\n",
              "      <td>[0, 10)</td>\n",
              "    </tr>\n",
              "    <tr>\n",
              "      <th>45396</th>\n",
              "      <td>2005.0</td>\n",
              "      <td>LEVE</td>\n",
              "      <td>0.0</td>\n",
              "      <td>FATOR OPERACIONAL</td>\n",
              "      <td>INCIDENTE GRAVE</td>\n",
              "      <td>2012-01-11</td>\n",
              "      <td>7</td>\n",
              "      <td>[0, 10)</td>\n",
              "      <td>[0, 10)</td>\n",
              "    </tr>\n",
              "    <tr>\n",
              "      <th>45564</th>\n",
              "      <td>2007.0</td>\n",
              "      <td>SUBSTANCIAL</td>\n",
              "      <td>0.0</td>\n",
              "      <td>FATOR OPERACIONAL</td>\n",
              "      <td>ACIDENTE</td>\n",
              "      <td>2012-02-08</td>\n",
              "      <td>5</td>\n",
              "      <td>[0, 10)</td>\n",
              "      <td>[0, 10)</td>\n",
              "    </tr>\n",
              "    <tr>\n",
              "      <th>...</th>\n",
              "      <td>...</td>\n",
              "      <td>...</td>\n",
              "      <td>...</td>\n",
              "      <td>...</td>\n",
              "      <td>...</td>\n",
              "      <td>...</td>\n",
              "      <td>...</td>\n",
              "      <td>...</td>\n",
              "      <td>...</td>\n",
              "    </tr>\n",
              "    <tr>\n",
              "      <th>81086</th>\n",
              "      <td>2008.0</td>\n",
              "      <td>SUBSTANCIAL</td>\n",
              "      <td>0.0</td>\n",
              "      <td>FATOR OPERACIONAL</td>\n",
              "      <td>ACIDENTE</td>\n",
              "      <td>2022-10-29</td>\n",
              "      <td>14</td>\n",
              "      <td>[10, 20)</td>\n",
              "      <td>[10, 20)</td>\n",
              "    </tr>\n",
              "    <tr>\n",
              "      <th>81086</th>\n",
              "      <td>2008.0</td>\n",
              "      <td>SUBSTANCIAL</td>\n",
              "      <td>0.0</td>\n",
              "      <td>FATOR OPERACIONAL</td>\n",
              "      <td>ACIDENTE</td>\n",
              "      <td>2022-10-29</td>\n",
              "      <td>14</td>\n",
              "      <td>[10, 20)</td>\n",
              "      <td>[10, 20)</td>\n",
              "    </tr>\n",
              "    <tr>\n",
              "      <th>81086</th>\n",
              "      <td>2008.0</td>\n",
              "      <td>SUBSTANCIAL</td>\n",
              "      <td>0.0</td>\n",
              "      <td>FATOR OPERACIONAL</td>\n",
              "      <td>ACIDENTE</td>\n",
              "      <td>2022-10-29</td>\n",
              "      <td>14</td>\n",
              "      <td>[10, 20)</td>\n",
              "      <td>[10, 20)</td>\n",
              "    </tr>\n",
              "    <tr>\n",
              "      <th>81086</th>\n",
              "      <td>2008.0</td>\n",
              "      <td>SUBSTANCIAL</td>\n",
              "      <td>0.0</td>\n",
              "      <td>FATOR OPERACIONAL</td>\n",
              "      <td>ACIDENTE</td>\n",
              "      <td>2022-10-29</td>\n",
              "      <td>14</td>\n",
              "      <td>[10, 20)</td>\n",
              "      <td>[10, 20)</td>\n",
              "    </tr>\n",
              "    <tr>\n",
              "      <th>81086</th>\n",
              "      <td>2008.0</td>\n",
              "      <td>SUBSTANCIAL</td>\n",
              "      <td>0.0</td>\n",
              "      <td>FATOR OPERACIONAL</td>\n",
              "      <td>ACIDENTE</td>\n",
              "      <td>2022-10-29</td>\n",
              "      <td>14</td>\n",
              "      <td>[10, 20)</td>\n",
              "      <td>[10, 20)</td>\n",
              "    </tr>\n",
              "  </tbody>\n",
              "</table>\n",
              "<p>2170 rows × 9 columns</p>\n",
              "</div>"
            ],
            "text/plain": [
              "       aeronave_ano_fabricacao aeronave_nivel_dano  \\\n",
              "45396                   2005.0                LEVE   \n",
              "45396                   2005.0                LEVE   \n",
              "45396                   2005.0                LEVE   \n",
              "45396                   2005.0                LEVE   \n",
              "45564                   2007.0         SUBSTANCIAL   \n",
              "...                        ...                 ...   \n",
              "81086                   2008.0         SUBSTANCIAL   \n",
              "81086                   2008.0         SUBSTANCIAL   \n",
              "81086                   2008.0         SUBSTANCIAL   \n",
              "81086                   2008.0         SUBSTANCIAL   \n",
              "81086                   2008.0         SUBSTANCIAL   \n",
              "\n",
              "       aeronave_fatalidades_total         fator_area ocorrencia_classificacao  \\\n",
              "45396                         0.0  FATOR OPERACIONAL          INCIDENTE GRAVE   \n",
              "45396                         0.0  FATOR OPERACIONAL          INCIDENTE GRAVE   \n",
              "45396                         0.0  FATOR OPERACIONAL          INCIDENTE GRAVE   \n",
              "45396                         0.0  FATOR OPERACIONAL          INCIDENTE GRAVE   \n",
              "45564                         0.0  FATOR OPERACIONAL                 ACIDENTE   \n",
              "...                           ...                ...                      ...   \n",
              "81086                         0.0  FATOR OPERACIONAL                 ACIDENTE   \n",
              "81086                         0.0  FATOR OPERACIONAL                 ACIDENTE   \n",
              "81086                         0.0  FATOR OPERACIONAL                 ACIDENTE   \n",
              "81086                         0.0  FATOR OPERACIONAL                 ACIDENTE   \n",
              "81086                         0.0  FATOR OPERACIONAL                 ACIDENTE   \n",
              "\n",
              "      ocorrencia_dia  idade_aeronave idade_discretizada  \\\n",
              "45396     2012-01-11               7            [0, 10)   \n",
              "45396     2012-01-11               7            [0, 10)   \n",
              "45396     2012-01-11               7            [0, 10)   \n",
              "45396     2012-01-11               7            [0, 10)   \n",
              "45564     2012-02-08               5            [0, 10)   \n",
              "...              ...             ...                ...   \n",
              "81086     2022-10-29              14           [10, 20)   \n",
              "81086     2022-10-29              14           [10, 20)   \n",
              "81086     2022-10-29              14           [10, 20)   \n",
              "81086     2022-10-29              14           [10, 20)   \n",
              "81086     2022-10-29              14           [10, 20)   \n",
              "\n",
              "      idade_discretizada_modificada  \n",
              "45396                       [0, 10)  \n",
              "45396                       [0, 10)  \n",
              "45396                       [0, 10)  \n",
              "45396                       [0, 10)  \n",
              "45564                       [0, 10)  \n",
              "...                             ...  \n",
              "81086                      [10, 20)  \n",
              "81086                      [10, 20)  \n",
              "81086                      [10, 20)  \n",
              "81086                      [10, 20)  \n",
              "81086                      [10, 20)  \n",
              "\n",
              "[2170 rows x 9 columns]"
            ]
          },
          "execution_count": 46,
          "metadata": {},
          "output_type": "execute_result"
        }
      ],
      "source": [
        "# taking broad samples\n",
        "SAMPLE_SIZE_2 = 100\n",
        "filter_less_10 = dados[\"idade_discretizada_modificada\"] == pd.Interval(0, 10, closed='left')\n",
        "filter_btw_10_20 = dados[\"idade_discretizada_modificada\"] == pd.Interval(10, 20, closed='left')\n",
        "\n",
        "less10_2 = dados[filter_less_10]\n",
        "btw_10_20 = dados[filter_btw_10_20]\n",
        "\n",
        "less20 = pd.concat([less10_2, btw_10_20], axis=0)\n",
        "less20"
      ]
    },
    {
      "cell_type": "code",
      "execution_count": 47,
      "metadata": {},
      "outputs": [
        {
          "data": {
            "text/html": [
              "<div>\n",
              "<style scoped>\n",
              "    .dataframe tbody tr th:only-of-type {\n",
              "        vertical-align: middle;\n",
              "    }\n",
              "\n",
              "    .dataframe tbody tr th {\n",
              "        vertical-align: top;\n",
              "    }\n",
              "\n",
              "    .dataframe thead th {\n",
              "        text-align: right;\n",
              "    }\n",
              "</style>\n",
              "<table border=\"1\" class=\"dataframe\">\n",
              "  <thead>\n",
              "    <tr style=\"text-align: right;\">\n",
              "      <th></th>\n",
              "      <th>aeronave_ano_fabricacao</th>\n",
              "      <th>aeronave_nivel_dano</th>\n",
              "      <th>aeronave_fatalidades_total</th>\n",
              "      <th>fator_area</th>\n",
              "      <th>ocorrencia_classificacao</th>\n",
              "      <th>ocorrencia_dia</th>\n",
              "      <th>idade_aeronave</th>\n",
              "      <th>idade_discretizada</th>\n",
              "      <th>idade_discretizada_modificada</th>\n",
              "    </tr>\n",
              "  </thead>\n",
              "  <tbody>\n",
              "    <tr>\n",
              "      <th>45390</th>\n",
              "      <td>1989.0</td>\n",
              "      <td>SUBSTANCIAL</td>\n",
              "      <td>0.0</td>\n",
              "      <td>FATOR OPERACIONAL</td>\n",
              "      <td>ACIDENTE</td>\n",
              "      <td>2012-01-20</td>\n",
              "      <td>23</td>\n",
              "      <td>[20, 30)</td>\n",
              "      <td>[20, 30)</td>\n",
              "    </tr>\n",
              "    <tr>\n",
              "      <th>45390</th>\n",
              "      <td>1989.0</td>\n",
              "      <td>SUBSTANCIAL</td>\n",
              "      <td>0.0</td>\n",
              "      <td>FATOR OPERACIONAL</td>\n",
              "      <td>ACIDENTE</td>\n",
              "      <td>2012-01-20</td>\n",
              "      <td>23</td>\n",
              "      <td>[20, 30)</td>\n",
              "      <td>[20, 30)</td>\n",
              "    </tr>\n",
              "    <tr>\n",
              "      <th>45393</th>\n",
              "      <td>1967.0</td>\n",
              "      <td>SUBSTANCIAL</td>\n",
              "      <td>0.0</td>\n",
              "      <td>FATOR OPERACIONAL</td>\n",
              "      <td>ACIDENTE</td>\n",
              "      <td>2012-01-22</td>\n",
              "      <td>45</td>\n",
              "      <td>[40, 50)</td>\n",
              "      <td>[40, 80)</td>\n",
              "    </tr>\n",
              "    <tr>\n",
              "      <th>45393</th>\n",
              "      <td>1967.0</td>\n",
              "      <td>SUBSTANCIAL</td>\n",
              "      <td>0.0</td>\n",
              "      <td>FATOR OPERACIONAL</td>\n",
              "      <td>ACIDENTE</td>\n",
              "      <td>2012-01-22</td>\n",
              "      <td>45</td>\n",
              "      <td>[40, 50)</td>\n",
              "      <td>[40, 80)</td>\n",
              "    </tr>\n",
              "    <tr>\n",
              "      <th>45393</th>\n",
              "      <td>1967.0</td>\n",
              "      <td>SUBSTANCIAL</td>\n",
              "      <td>0.0</td>\n",
              "      <td>FATOR OPERACIONAL</td>\n",
              "      <td>ACIDENTE</td>\n",
              "      <td>2012-01-22</td>\n",
              "      <td>45</td>\n",
              "      <td>[40, 50)</td>\n",
              "      <td>[40, 80)</td>\n",
              "    </tr>\n",
              "  </tbody>\n",
              "</table>\n",
              "</div>"
            ],
            "text/plain": [
              "       aeronave_ano_fabricacao aeronave_nivel_dano  \\\n",
              "45390                   1989.0         SUBSTANCIAL   \n",
              "45390                   1989.0         SUBSTANCIAL   \n",
              "45393                   1967.0         SUBSTANCIAL   \n",
              "45393                   1967.0         SUBSTANCIAL   \n",
              "45393                   1967.0         SUBSTANCIAL   \n",
              "\n",
              "       aeronave_fatalidades_total         fator_area ocorrencia_classificacao  \\\n",
              "45390                         0.0  FATOR OPERACIONAL                 ACIDENTE   \n",
              "45390                         0.0  FATOR OPERACIONAL                 ACIDENTE   \n",
              "45393                         0.0  FATOR OPERACIONAL                 ACIDENTE   \n",
              "45393                         0.0  FATOR OPERACIONAL                 ACIDENTE   \n",
              "45393                         0.0  FATOR OPERACIONAL                 ACIDENTE   \n",
              "\n",
              "      ocorrencia_dia  idade_aeronave idade_discretizada  \\\n",
              "45390     2012-01-20              23           [20, 30)   \n",
              "45390     2012-01-20              23           [20, 30)   \n",
              "45393     2012-01-22              45           [40, 50)   \n",
              "45393     2012-01-22              45           [40, 50)   \n",
              "45393     2012-01-22              45           [40, 50)   \n",
              "\n",
              "      idade_discretizada_modificada  \n",
              "45390                      [20, 30)  \n",
              "45390                      [20, 30)  \n",
              "45393                      [40, 80)  \n",
              "45393                      [40, 80)  \n",
              "45393                      [40, 80)  "
            ]
          },
          "execution_count": 47,
          "metadata": {},
          "output_type": "execute_result"
        }
      ],
      "source": [
        "more20 = dados[~(dados[\"idade_discretizada_modificada\"].isin(less20[\"idade_discretizada_modificada\"]))]\n",
        "more20.head()"
      ]
    },
    {
      "cell_type": "markdown",
      "metadata": {},
      "source": [
        "**Notice:**\n",
        "- p̂<sub><20</sub> represents the proportion of airplanes with less than 20 years which had substancial damage in the occurences.\n",
        "- p̂<sub>>=20</sub> represents the proportion of airplanes with more than or equal 20 years which had substancial damage in the occurences.\n",
        "\n",
        "$H_0$: **There IS NO** difference between proportions of airplanes with less than 20 years and more than or equal 20 years which had substancial damage.\n",
        "> p̂<sub><20</sub> − p̂<sub>>=20</sub> = 0  \n",
        "\n",
        "$H_A$: **There IS** difference between proportions of airplanes with less than 10 years and more than or equal 10 years which had no damage.  \n",
        "> p̂<sub>>=20</sub> - p̂<sub><20</sub> ≠ 0\n",
        "\n",
        "\n",
        "**Checking conditions for the sampling distribution of p̂1 − p̂2 to be normal**:\n",
        "\n",
        "1. **Independence**\n",
        "- Because the data come from a simple random sample, the observations are independent, both within and between samples."
      ]
    },
    {
      "cell_type": "markdown",
      "metadata": {},
      "source": [
        "2. **Success-failure condition**\n",
        "- Since the null hypothesis is that the proportions are equal, we use the pooled proportion ($p̂_{pooled}$) to verify the success-failure condition and estimate the standard error.\n",
        "- $p̂_{pooled} = \\frac{p̂_1 \\ * \\ n_1 \\ + \\ p̂_2 \\ * \\ n_2}{n_1 + n_2}$\n",
        "- $n_1 \\ * \\ p̂_{pooled} \\ ≥ \\ 10 \\ and \\ n_1 \\ * \\ (1 - p̂_{pooled}) ≥ 10$\n",
        "- $n_2 \\ * \\ p̂_{pooled} \\ ≥ \\ 10 \\ and \\ n_2 \\ * \\ (1 - p̂_{pooled}) ≥ 10$\n"
      ]
    },
    {
      "cell_type": "code",
      "execution_count": 48,
      "metadata": {},
      "outputs": [
        {
          "name": "stdout",
          "output_type": "stream",
          "text": [
            "p-hat less than 20 = 0.5746543778801844\n"
          ]
        }
      ],
      "source": [
        "p_hat_less20 = less20[\"aeronave_nivel_dano\"].value_counts(normalize=True).SUBSTANCIAL\n",
        "print(\"p-hat less than 20 =\", p_hat_less20)"
      ]
    },
    {
      "cell_type": "code",
      "execution_count": 49,
      "metadata": {},
      "outputs": [
        {
          "name": "stdout",
          "output_type": "stream",
          "text": [
            "p-hat more than or equal 20 = 0.6897668393782384\n"
          ]
        }
      ],
      "source": [
        "p_hat_more20 = more20[\"aeronave_nivel_dano\"].value_counts(normalize=True).SUBSTANCIAL\n",
        "print(\"p-hat more than or equal 20 =\", p_hat_more20)"
      ]
    },
    {
      "cell_type": "code",
      "execution_count": 50,
      "metadata": {},
      "outputs": [
        {
          "name": "stdout",
          "output_type": "stream",
          "text": [
            "p-hat pooled = 0.6322106086292113\n"
          ]
        }
      ],
      "source": [
        "p_pooled_2 = (p_hat_less20 * SAMPLE_SIZE_2 + p_hat_more20 * SAMPLE_SIZE_2) / (SAMPLE_SIZE_2 + SAMPLE_SIZE_2)\n",
        "print(\"p-hat pooled =\", p_pooled_2)"
      ]
    },
    {
      "cell_type": "code",
      "execution_count": 51,
      "metadata": {},
      "outputs": [
        {
          "name": "stdout",
          "output_type": "stream",
          "text": [
            "Conditions 𝑛1 𝑥 𝑝̂ 𝑝𝑜𝑜𝑙𝑒𝑑 ≥ 10 𝑎𝑛𝑑 𝑛1 𝑥 (1−𝑝̂ 𝑝𝑜𝑜𝑙𝑒𝑑) ≥ 10 DOES NOT met!\n",
            "Conditions 𝑛2 𝑥 𝑝̂ 𝑝𝑜𝑜𝑙𝑒𝑑 ≥ 10 𝑎𝑛𝑑 𝑛2 𝑥 (1−𝑝̂ 𝑝𝑜𝑜𝑙𝑒𝑑) ≥ 10 DOES NOT met!\n"
          ]
        }
      ],
      "source": [
        "ck1_2 = p_pooled * SAMPLE_SIZE_2\n",
        "ck2_2 = (1 - p_pooled) * SAMPLE_SIZE_2\n",
        "\n",
        "if ck1_2 >= 10 and ck2_2 >= 10:\n",
        "    print(\"Conditions 𝑛1 𝑥 𝑝̂ 𝑝𝑜𝑜𝑙𝑒𝑑 ≥ 10 𝑎𝑛𝑑 𝑛1 𝑥 (1−𝑝̂ 𝑝𝑜𝑜𝑙𝑒𝑑) ≥ 10 met!\")\n",
        "else:\n",
        "    print(\"Conditions 𝑛1 𝑥 𝑝̂ 𝑝𝑜𝑜𝑙𝑒𝑑 ≥ 10 𝑎𝑛𝑑 𝑛1 𝑥 (1−𝑝̂ 𝑝𝑜𝑜𝑙𝑒𝑑) ≥ 10 DOES NOT met!\")\n",
        "\n",
        "ck3_2 = p_pooled * SAMPLE_SIZE_2\n",
        "ck4_2 = (1 - p_pooled) * SAMPLE_SIZE_2\n",
        "\n",
        "if ck3_2 >= 10 and ck4_2 >= 10:\n",
        "    print(\"Conditions 𝑛2 𝑥 𝑝̂ 𝑝𝑜𝑜𝑙𝑒𝑑 ≥ 10 𝑎𝑛𝑑 𝑛2 𝑥 (1−𝑝̂ 𝑝𝑜𝑜𝑙𝑒𝑑) ≥ 10 met!\")\n",
        "else:\n",
        "    print(\"Conditions 𝑛2 𝑥 𝑝̂ 𝑝𝑜𝑜𝑙𝑒𝑑 ≥ 10 𝑎𝑛𝑑 𝑛2 𝑥 (1−𝑝̂ 𝑝𝑜𝑜𝑙𝑒𝑑) ≥ 10 DOES NOT met!\")"
      ]
    },
    {
      "cell_type": "markdown",
      "metadata": {},
      "source": [
        "**As both conditions are satisfied, we can safely model the difference in proportions using a normal distribution!**"
      ]
    },
    {
      "cell_type": "markdown",
      "metadata": {},
      "source": [
        "### Calculations"
      ]
    },
    {
      "cell_type": "markdown",
      "metadata": {},
      "source": [
        "#### Standard error for the difference of proportions\n",
        "$SE = \\sqrt{\\frac{p̂_{pooled} \\ * \\ (1 - p̂_{pooled})}{n_1} + \\frac{p̂_{pooled} \\ * \\ (1 - p̂_{pooled})}{n_2}}$\n",
        "\n",
        "#### Test statistic\n",
        "$Z^* = \\frac{point \\ estimate \\ - \\ null \\ value}{SE}$\n",
        "\n",
        "#### Significance level we will use\n",
        "$\\alpha = 0.05$"
      ]
    },
    {
      "cell_type": "code",
      "execution_count": 52,
      "metadata": {},
      "outputs": [
        {
          "name": "stdout",
          "output_type": "stream",
          "text": [
            "SE = 0.013507415730727569\n"
          ]
        }
      ],
      "source": [
        "SE_2 = sqrt(p_pooled_2*(1 - p_pooled_2) / len(less20) + p_pooled_2*(1 - p_pooled_2) / len(more20))\n",
        "print(\"SE =\", SE_2)"
      ]
    },
    {
      "cell_type": "code",
      "execution_count": 53,
      "metadata": {},
      "outputs": [
        {
          "name": "stdout",
          "output_type": "stream",
          "text": [
            "Point estimate = 0.11511246149805399\n"
          ]
        }
      ],
      "source": [
        "point_estimate_2 = p_hat_more20 - p_hat_less20\n",
        "print(\"Point estimate =\", point_estimate_2)"
      ]
    },
    {
      "cell_type": "code",
      "execution_count": 54,
      "metadata": {},
      "outputs": [
        {
          "name": "stdout",
          "output_type": "stream",
          "text": [
            "Null value = 0\n",
            "It comes from the null hypothesis, since we are considering the difference between proportions 0\n"
          ]
        }
      ],
      "source": [
        "null_value_2 = 0     # it comes from the null hypothesis, since we are considering the difference between proportions 0\n",
        "print(\"Null value =\", null_value_2)\n",
        "print(\"It comes from the null hypothesis, since we are considering the difference between proportions 0\")"
      ]
    },
    {
      "cell_type": "code",
      "execution_count": 55,
      "metadata": {},
      "outputs": [
        {
          "name": "stdout",
          "output_type": "stream",
          "text": [
            "Test statistic (Z*) = 8.522167659072526\n"
          ]
        }
      ],
      "source": [
        "z_score_2 = (point_estimate_2 - null_value_2) / SE_2\n",
        "print(\"Test statistic (Z*) =\", z_score_2)"
      ]
    },
    {
      "cell_type": "code",
      "execution_count": 56,
      "metadata": {},
      "outputs": [
        {
          "name": "stdout",
          "output_type": "stream",
          "text": [
            "For a p-value = 1.5659448195649963e-17 and alpha = 0.05 we REJECT the null hypothesis!\n"
          ]
        }
      ],
      "source": [
        "# p_value is calculate for one-tail and we are using two-tails\n",
        "# because of this we must double the value encountered\n",
        "p_value_2 = stats.norm.sf(abs(z_score_2)) * 2\n",
        "alpha_2 = 0.05\n",
        "\n",
        "if p_value_2 < alpha_2:\n",
        "    print(f\"For a p-value = {p_value_2} and alpha = {alpha_2} we REJECT the null hypothesis!\")\n",
        "else: \n",
        "    print(f\"For a p-value = {p_value_2} and alpha = {alpha_2} we DO NOT REJECT the null hypothesis!\")"
      ]
    },
    {
      "cell_type": "markdown",
      "metadata": {},
      "source": [
        "### Conclusion\n",
        "\n",
        "Since we have rejected the null hypothesis, we can conclude that **There IS** difference between proportions of airplanes with less than 20 years and more than or equal 20 years which had substancial damage.\n",
        "\n",
        "Furthermore, the point estimate indicate that the direction of that\n",
        "difference is that airplanes with more than or equal 20 years have proportions of occurences with susbtancial damage greater than airplanes with less than 20 years."
      ]
    }
  ],
  "metadata": {
    "colab": {
      "provenance": []
    },
    "kernelspec": {
      "display_name": "Python 3",
      "name": "python3"
    },
    "language_info": {
      "codemirror_mode": {
        "name": "ipython",
        "version": 3
      },
      "file_extension": ".py",
      "mimetype": "text/x-python",
      "name": "python",
      "nbconvert_exporter": "python",
      "pygments_lexer": "ipython3",
      "version": "3.11.4"
    }
  },
  "nbformat": 4,
  "nbformat_minor": 0
}
