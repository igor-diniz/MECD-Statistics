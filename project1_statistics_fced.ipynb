{
  "cells": [
    {
      "cell_type": "code",
      "execution_count": 1,
      "metadata": {
        "colab": {
          "base_uri": "https://localhost:8080/"
        },
        "id": "BEC6hni9X9ib",
        "outputId": "ca6f7134-7a94-417c-bbb0-a2f8d785fdbf"
      },
      "outputs": [],
      "source": [
        "!pip install pywaffle -q\n",
        "%matplotlib inline\n",
        "import pandas as pd\n",
        "import matplotlib.pyplot as plt\n",
        "from plotly import graph_objects as go, express as px\n",
        "from pywaffle import Waffle\n",
        "import numpy as np\n",
        "import seaborn as sns\n",
        "from math import sqrt\n",
        "import warnings\n",
        "warnings.filterwarnings('ignore')"
      ]
    },
    {
      "cell_type": "code",
      "execution_count": 2,
      "metadata": {
        "colab": {
          "base_uri": "https://localhost:8080/"
        },
        "id": "mm7GGGRfYK0C",
        "outputId": "ffd19aaa-ef39-4b46-dc7e-4113d47f0df7"
      },
      "outputs": [],
      "source": [
        "df_ocorrencias = pd.read_csv('https://raw.githubusercontent.com/igor-diniz/MECD-Statistics/main/data/ocorrencia.csv', sep=';', error_bad_lines=False,  encoding='latin-1')\n",
        "df_tipo_ocorrencia = pd.read_csv('https://raw.githubusercontent.com/igor-diniz/MECD-Statistics/main/data/ocorrencia_tipo.csv', sep=';', error_bad_lines=False,  encoding='latin-1')\n",
        "df_aeronave = pd.read_csv('https://raw.githubusercontent.com/igor-diniz/MECD-Statistics/main/data/aeronave.csv', sep=';', error_bad_lines=False,  encoding='latin-1')\n",
        "df_fator = pd.read_csv('https://raw.githubusercontent.com/igor-diniz/MECD-Statistics/main/data/fator_contribuinte.csv', sep=';', error_bad_lines=False,  encoding='latin-1')\n"
      ]
    },
    {
      "cell_type": "code",
      "execution_count": 3,
      "metadata": {
        "id": "u4Wv99dOftW9"
      },
      "outputs": [],
      "source": [
        "df_ocorrencias.set_index('codigo_ocorrencia', inplace=True)\n",
        "df_tipo_ocorrencia.set_index('codigo_ocorrencia1', inplace=True)\n",
        "df_aeronave.set_index('codigo_ocorrencia2', inplace=True)\n",
        "df_fator.set_index('codigo_ocorrencia3', inplace=True)"
      ]
    },
    {
      "cell_type": "code",
      "execution_count": 4,
      "metadata": {
        "colab": {
          "base_uri": "https://localhost:8080/",
          "height": 455
        },
        "id": "7_5vVTyZgHFB",
        "outputId": "65347943-fd10-4a26-e9d7-38a07601bac3"
      },
      "outputs": [
        {
          "data": {
            "text/html": [
              "<div>\n",
              "<style scoped>\n",
              "    .dataframe tbody tr th:only-of-type {\n",
              "        vertical-align: middle;\n",
              "    }\n",
              "\n",
              "    .dataframe tbody tr th {\n",
              "        vertical-align: top;\n",
              "    }\n",
              "\n",
              "    .dataframe thead th {\n",
              "        text-align: right;\n",
              "    }\n",
              "</style>\n",
              "<table border=\"1\" class=\"dataframe\">\n",
              "  <thead>\n",
              "    <tr style=\"text-align: right;\">\n",
              "      <th></th>\n",
              "      <th>fator_nome</th>\n",
              "      <th>fator_aspecto</th>\n",
              "      <th>fator_condicionante</th>\n",
              "      <th>fator_area</th>\n",
              "    </tr>\n",
              "    <tr>\n",
              "      <th>codigo_ocorrencia3</th>\n",
              "      <th></th>\n",
              "      <th></th>\n",
              "      <th></th>\n",
              "      <th></th>\n",
              "    </tr>\n",
              "  </thead>\n",
              "  <tbody>\n",
              "    <tr>\n",
              "      <th>81195</th>\n",
              "      <td>APLICAÇÃO DE COMANDOS</td>\n",
              "      <td>DESEMPENHO DO SER HUMANO</td>\n",
              "      <td>OPERAÇÃO DA AERONAVE</td>\n",
              "      <td>FATOR OPERACIONAL</td>\n",
              "    </tr>\n",
              "    <tr>\n",
              "      <th>81195</th>\n",
              "      <td>ATITUDE</td>\n",
              "      <td>ASPECTO PSICOLÓGICO</td>\n",
              "      <td>INDIVIDUAL</td>\n",
              "      <td>FATOR HUMANO</td>\n",
              "    </tr>\n",
              "    <tr>\n",
              "      <th>81195</th>\n",
              "      <td>MANUTENÇÃO DA AERONAVE</td>\n",
              "      <td>DESEMPENHO DO SER HUMANO</td>\n",
              "      <td>MANUTENÇÃO DA AERONAVE</td>\n",
              "      <td>FATOR OPERACIONAL</td>\n",
              "    </tr>\n",
              "    <tr>\n",
              "      <th>81195</th>\n",
              "      <td>POUCA EXPERIÊNCIA DO PILOTO</td>\n",
              "      <td>DESEMPENHO DO SER HUMANO</td>\n",
              "      <td>OPERAÇÃO DA AERONAVE</td>\n",
              "      <td>FATOR OPERACIONAL</td>\n",
              "    </tr>\n",
              "    <tr>\n",
              "      <th>81195</th>\n",
              "      <td>PROCESSO DECISÓRIO</td>\n",
              "      <td>ASPECTO PSICOLÓGICO</td>\n",
              "      <td>INDIVIDUAL</td>\n",
              "      <td>FATOR HUMANO</td>\n",
              "    </tr>\n",
              "    <tr>\n",
              "      <th>...</th>\n",
              "      <td>...</td>\n",
              "      <td>...</td>\n",
              "      <td>...</td>\n",
              "      <td>...</td>\n",
              "    </tr>\n",
              "    <tr>\n",
              "      <th>45331</th>\n",
              "      <td>FRASEOLOGIA DO ÓRGÃO ATS</td>\n",
              "      <td>DESEMPENHO DO SER HUMANO</td>\n",
              "      <td>PRESTAÇÃO DE SERVIÇOS DE TRÁFEGO AÉREO</td>\n",
              "      <td>FATOR OPERACIONAL</td>\n",
              "    </tr>\n",
              "    <tr>\n",
              "      <th>45331</th>\n",
              "      <td>LIDERANÇA</td>\n",
              "      <td>ASPECTO PSICOLÓGICO</td>\n",
              "      <td>PSICOSSOCIAL</td>\n",
              "      <td>FATOR HUMANO</td>\n",
              "    </tr>\n",
              "    <tr>\n",
              "      <th>45331</th>\n",
              "      <td>PERCEPÇÃO</td>\n",
              "      <td>ASPECTO PSICOLÓGICO</td>\n",
              "      <td>INDIVIDUAL</td>\n",
              "      <td>FATOR HUMANO</td>\n",
              "    </tr>\n",
              "    <tr>\n",
              "      <th>45331</th>\n",
              "      <td>PROCESSOS ORGANIZACIONAIS</td>\n",
              "      <td>ASPECTO PSICOLÓGICO</td>\n",
              "      <td>ORGANIZACIONAL</td>\n",
              "      <td>FATOR HUMANO</td>\n",
              "    </tr>\n",
              "    <tr>\n",
              "      <th>45331</th>\n",
              "      <td>SUPERVISÃO GERENCIAL</td>\n",
              "      <td>DESEMPENHO DO SER HUMANO</td>\n",
              "      <td>OPERAÇÃO DA AERONAVE</td>\n",
              "      <td>FATOR OPERACIONAL</td>\n",
              "    </tr>\n",
              "  </tbody>\n",
              "</table>\n",
              "<p>4867 rows × 4 columns</p>\n",
              "</div>"
            ],
            "text/plain": [
              "                                     fator_nome             fator_aspecto  \\\n",
              "codigo_ocorrencia3                                                          \n",
              "81195                     APLICAÇÃO DE COMANDOS  DESEMPENHO DO SER HUMANO   \n",
              "81195                                   ATITUDE       ASPECTO PSICOLÓGICO   \n",
              "81195                    MANUTENÇÃO DA AERONAVE  DESEMPENHO DO SER HUMANO   \n",
              "81195               POUCA EXPERIÊNCIA DO PILOTO  DESEMPENHO DO SER HUMANO   \n",
              "81195                        PROCESSO DECISÓRIO       ASPECTO PSICOLÓGICO   \n",
              "...                                         ...                       ...   \n",
              "45331                  FRASEOLOGIA DO ÓRGÃO ATS  DESEMPENHO DO SER HUMANO   \n",
              "45331                                 LIDERANÇA       ASPECTO PSICOLÓGICO   \n",
              "45331                                 PERCEPÇÃO       ASPECTO PSICOLÓGICO   \n",
              "45331                 PROCESSOS ORGANIZACIONAIS       ASPECTO PSICOLÓGICO   \n",
              "45331                      SUPERVISÃO GERENCIAL  DESEMPENHO DO SER HUMANO   \n",
              "\n",
              "                                       fator_condicionante         fator_area  \n",
              "codigo_ocorrencia3                                                             \n",
              "81195                                 OPERAÇÃO DA AERONAVE  FATOR OPERACIONAL  \n",
              "81195                                           INDIVIDUAL       FATOR HUMANO  \n",
              "81195                               MANUTENÇÃO DA AERONAVE  FATOR OPERACIONAL  \n",
              "81195                                 OPERAÇÃO DA AERONAVE  FATOR OPERACIONAL  \n",
              "81195                                           INDIVIDUAL       FATOR HUMANO  \n",
              "...                                                    ...                ...  \n",
              "45331               PRESTAÇÃO DE SERVIÇOS DE TRÁFEGO AÉREO  FATOR OPERACIONAL  \n",
              "45331                                         PSICOSSOCIAL       FATOR HUMANO  \n",
              "45331                                           INDIVIDUAL       FATOR HUMANO  \n",
              "45331                                       ORGANIZACIONAL       FATOR HUMANO  \n",
              "45331                                 OPERAÇÃO DA AERONAVE  FATOR OPERACIONAL  \n",
              "\n",
              "[4867 rows x 4 columns]"
            ]
          },
          "execution_count": 4,
          "metadata": {},
          "output_type": "execute_result"
        }
      ],
      "source": [
        "df_fator"
      ]
    },
    {
      "cell_type": "code",
      "execution_count": 4,
      "metadata": {
        "id": "Y70Y_cx5eRpA"
      },
      "outputs": [],
      "source": [
        "df_ocorrencias.drop(['codigo_ocorrencia1','codigo_ocorrencia2','codigo_ocorrencia3','codigo_ocorrencia4'], inplace=True, axis=1)"
      ]
    },
    {
      "cell_type": "code",
      "execution_count": 6,
      "metadata": {
        "colab": {
          "base_uri": "https://localhost:8080/"
        },
        "id": "XD6ShAohgdCk",
        "outputId": "5701dbb7-b9a6-405f-dd98-cec4a37ed98e"
      },
      "outputs": [
        {
          "name": "stdout",
          "output_type": "stream",
          "text": [
            "<class 'pandas.core.frame.DataFrame'>\n",
            "Int64Index: 8778 entries, 82047 to 28256\n",
            "Data columns (total 17 columns):\n",
            " #   Column                          Non-Null Count  Dtype \n",
            "---  ------                          --------------  ----- \n",
            " 0   ocorrencia_classificacao        8778 non-null   object\n",
            " 1   ocorrencia_latitude             6200 non-null   object\n",
            " 2   ocorrencia_longitude            6200 non-null   object\n",
            " 3   ocorrencia_cidade               8778 non-null   object\n",
            " 4   ocorrencia_uf                   8778 non-null   object\n",
            " 5   ocorrencia_pais                 8778 non-null   object\n",
            " 6   ocorrencia_aerodromo            8778 non-null   object\n",
            " 7   ocorrencia_dia                  8778 non-null   object\n",
            " 8   ocorrencia_hora                 8776 non-null   object\n",
            " 9   investigacao_aeronave_liberada  8475 non-null   object\n",
            " 10  investigacao_status             7364 non-null   object\n",
            " 11  divulgacao_relatorio_numero     6913 non-null   object\n",
            " 12  divulgacao_relatorio_publicado  8778 non-null   object\n",
            " 13  divulgacao_dia_publicacao       2311 non-null   object\n",
            " 14  total_recomendacoes             8778 non-null   int64 \n",
            " 15  total_aeronaves_envolvidas      8778 non-null   int64 \n",
            " 16  ocorrencia_saida_pista          8778 non-null   object\n",
            "dtypes: int64(2), object(15)\n",
            "memory usage: 1.2+ MB\n"
          ]
        }
      ],
      "source": [
        "df_ocorrencias.info()"
      ]
    },
    {
      "cell_type": "code",
      "execution_count": 7,
      "metadata": {
        "colab": {
          "base_uri": "https://localhost:8080/"
        },
        "id": "5imIJadbgi_v",
        "outputId": "6c4a9aca-1eed-4b70-9e37-7d111d47ddaf"
      },
      "outputs": [
        {
          "name": "stdout",
          "output_type": "stream",
          "text": [
            "<class 'pandas.core.frame.DataFrame'>\n",
            "Int64Index: 4867 entries, 81195 to 45331\n",
            "Data columns (total 4 columns):\n",
            " #   Column               Non-Null Count  Dtype \n",
            "---  ------               --------------  ----- \n",
            " 0   fator_nome           4867 non-null   object\n",
            " 1   fator_aspecto        4867 non-null   object\n",
            " 2   fator_condicionante  4867 non-null   object\n",
            " 3   fator_area           4867 non-null   object\n",
            "dtypes: object(4)\n",
            "memory usage: 190.1+ KB\n"
          ]
        }
      ],
      "source": [
        "df_fator.info()"
      ]
    },
    {
      "cell_type": "code",
      "execution_count": 8,
      "metadata": {
        "colab": {
          "base_uri": "https://localhost:8080/"
        },
        "id": "77_7TrNXguaf",
        "outputId": "4c54cb1d-39e0-416d-e448-dd149c876fb6"
      },
      "outputs": [
        {
          "name": "stdout",
          "output_type": "stream",
          "text": [
            "<class 'pandas.core.frame.DataFrame'>\n",
            "Int64Index: 8867 entries, 82047 to 28256\n",
            "Data columns (total 22 columns):\n",
            " #   Column                       Non-Null Count  Dtype  \n",
            "---  ------                       --------------  -----  \n",
            " 0   aeronave_matricula           6228 non-null   object \n",
            " 1   aeronave_operador_categoria  6228 non-null   object \n",
            " 2   aeronave_tipo_veiculo        6228 non-null   object \n",
            " 3   aeronave_fabricante          6228 non-null   object \n",
            " 4   aeronave_modelo              6227 non-null   object \n",
            " 5   aeronave_tipo_icao           6228 non-null   object \n",
            " 6   aeronave_motor_tipo          6195 non-null   object \n",
            " 7   aeronave_motor_quantidade    6228 non-null   object \n",
            " 8   aeronave_pmd                 6228 non-null   float64\n",
            " 9   aeronave_pmd_categoria       6228 non-null   float64\n",
            " 10  aeronave_assentos            5932 non-null   float64\n",
            " 11  aeronave_ano_fabricacao      5972 non-null   float64\n",
            " 12  aeronave_pais_fabricante     6228 non-null   object \n",
            " 13  aeronave_pais_registro       6228 non-null   object \n",
            " 14  aeronave_registro_categoria  6228 non-null   object \n",
            " 15  aeronave_registro_segmento   6228 non-null   object \n",
            " 16  aeronave_voo_origem          6227 non-null   object \n",
            " 17  aeronave_voo_destino         6227 non-null   object \n",
            " 18  aeronave_fase_operacao       6228 non-null   object \n",
            " 19  aeronave_tipo_operacao       6228 non-null   object \n",
            " 20  aeronave_nivel_dano          6228 non-null   object \n",
            " 21  aeronave_fatalidades_total   6228 non-null   float64\n",
            "dtypes: float64(5), object(17)\n",
            "memory usage: 1.6+ MB\n"
          ]
        }
      ],
      "source": [
        "df_aeronave.info()"
      ]
    },
    {
      "cell_type": "code",
      "execution_count": 9,
      "metadata": {
        "colab": {
          "base_uri": "https://localhost:8080/"
        },
        "id": "Zh7VnWLIgyqX",
        "outputId": "0943a9d6-c3ec-44ab-97c6-d0d67f61797d"
      },
      "outputs": [
        {
          "name": "stdout",
          "output_type": "stream",
          "text": [
            "<class 'pandas.core.frame.DataFrame'>\n",
            "Int64Index: 4867 entries, 81195 to 45331\n",
            "Data columns (total 4 columns):\n",
            " #   Column               Non-Null Count  Dtype \n",
            "---  ------               --------------  ----- \n",
            " 0   fator_nome           4867 non-null   object\n",
            " 1   fator_aspecto        4867 non-null   object\n",
            " 2   fator_condicionante  4867 non-null   object\n",
            " 3   fator_area           4867 non-null   object\n",
            "dtypes: object(4)\n",
            "memory usage: 190.1+ KB\n"
          ]
        }
      ],
      "source": [
        "df_fator.info()"
      ]
    },
    {
      "cell_type": "code",
      "execution_count": 10,
      "metadata": {
        "colab": {
          "base_uri": "https://localhost:8080/"
        },
        "id": "_qg6WP9Suf05",
        "outputId": "525f4b30-ca84-47ae-b172-ba2c8f6ab270"
      },
      "outputs": [
        {
          "data": {
            "text/plain": [
              "array(['FATOR OPERACIONAL', 'FATOR HUMANO', 'OUTRO', 'FATOR MATERIAL'],\n",
              "      dtype=object)"
            ]
          },
          "execution_count": 10,
          "metadata": {},
          "output_type": "execute_result"
        }
      ],
      "source": [
        "df_fator[\"fator_area\"].unique()"
      ]
    },
    {
      "cell_type": "code",
      "execution_count": 11,
      "metadata": {
        "colab": {
          "base_uri": "https://localhost:8080/"
        },
        "id": "czyIpw3dg-Ar",
        "outputId": "31118921-7321-45e6-bca0-eb0eaa15dde7"
      },
      "outputs": [
        {
          "data": {
            "text/plain": [
              "array([   0., 1936., 1940., 1942., 1945., 1946., 1947., 1948., 1949.,\n",
              "       1950., 1951., 1952., 1953., 1954., 1955., 1956., 1957., 1958.,\n",
              "       1959., 1960., 1961., 1962., 1963., 1964., 1965., 1966., 1967.,\n",
              "       1968., 1969., 1970., 1971., 1972., 1973., 1974., 1975., 1976.,\n",
              "       1977., 1978., 1979., 1980., 1981., 1982., 1983., 1984., 1985.,\n",
              "       1986., 1987., 1988., 1989., 1990., 1991., 1992., 1993., 1994.,\n",
              "       1995., 1996., 1997., 1998., 1999., 2000., 2001., 2002., 2003.,\n",
              "       2004., 2005., 2006., 2007., 2008., 2009., 2010., 2011., 2012.,\n",
              "       2013., 2014., 2015., 2016., 2017., 2018., 2019., 2020., 2021.,\n",
              "       2022., 9999.,   nan])"
            ]
          },
          "execution_count": 11,
          "metadata": {},
          "output_type": "execute_result"
        }
      ],
      "source": [
        "df_aeronave[\"aeronave_ano_fabricacao\"].sort_values().unique()"
      ]
    },
    {
      "cell_type": "code",
      "execution_count": 5,
      "metadata": {
        "id": "evUScM_ehbFe"
      },
      "outputs": [
        {
          "data": {
            "text/html": [
              "<div>\n",
              "<style scoped>\n",
              "    .dataframe tbody tr th:only-of-type {\n",
              "        vertical-align: middle;\n",
              "    }\n",
              "\n",
              "    .dataframe tbody tr th {\n",
              "        vertical-align: top;\n",
              "    }\n",
              "\n",
              "    .dataframe thead th {\n",
              "        text-align: right;\n",
              "    }\n",
              "</style>\n",
              "<table border=\"1\" class=\"dataframe\">\n",
              "  <thead>\n",
              "    <tr style=\"text-align: right;\">\n",
              "      <th></th>\n",
              "      <th>ocorrencia_classificacao</th>\n",
              "      <th>ocorrencia_latitude</th>\n",
              "      <th>ocorrencia_longitude</th>\n",
              "      <th>ocorrencia_cidade</th>\n",
              "      <th>ocorrencia_uf</th>\n",
              "      <th>ocorrencia_pais</th>\n",
              "      <th>ocorrencia_aerodromo</th>\n",
              "      <th>ocorrencia_dia</th>\n",
              "      <th>ocorrencia_hora</th>\n",
              "      <th>investigacao_aeronave_liberada</th>\n",
              "      <th>...</th>\n",
              "      <th>aeronave_tipo_operacao</th>\n",
              "      <th>aeronave_nivel_dano</th>\n",
              "      <th>aeronave_fatalidades_total</th>\n",
              "      <th>fator_nome</th>\n",
              "      <th>fator_aspecto</th>\n",
              "      <th>fator_condicionante</th>\n",
              "      <th>fator_area</th>\n",
              "      <th>ocorrencia_tipo</th>\n",
              "      <th>ocorrencia_tipo_categoria</th>\n",
              "      <th>taxonomia_tipo_icao</th>\n",
              "    </tr>\n",
              "  </thead>\n",
              "  <tbody>\n",
              "    <tr>\n",
              "      <th>28256</th>\n",
              "      <td>ACIDENTE</td>\n",
              "      <td>-22.2180555556</td>\n",
              "      <td>-47.1763888889</td>\n",
              "      <td>MOGI GUAÇU</td>\n",
              "      <td>SP</td>\n",
              "      <td>BRASIL</td>\n",
              "      <td>***</td>\n",
              "      <td>07/01/2007</td>\n",
              "      <td>11:30:00</td>\n",
              "      <td>***</td>\n",
              "      <td>...</td>\n",
              "      <td>NaN</td>\n",
              "      <td>NaN</td>\n",
              "      <td>NaN</td>\n",
              "      <td>NaN</td>\n",
              "      <td>NaN</td>\n",
              "      <td>NaN</td>\n",
              "      <td>NaN</td>\n",
              "      <td>OPERAÇÃO A BAIXA ALTITUDE</td>\n",
              "      <td>OPERAÇÃO A BAIXA ALTITUDE</td>\n",
              "      <td>LALT</td>\n",
              "    </tr>\n",
              "    <tr>\n",
              "      <th>28335</th>\n",
              "      <td>ACIDENTE</td>\n",
              "      <td>-23.3444444444</td>\n",
              "      <td>-51.0633333333</td>\n",
              "      <td>LONDRINA</td>\n",
              "      <td>PR</td>\n",
              "      <td>BRASIL</td>\n",
              "      <td>***</td>\n",
              "      <td>19/01/2007</td>\n",
              "      <td>12:30:00</td>\n",
              "      <td>NaN</td>\n",
              "      <td>...</td>\n",
              "      <td>NaN</td>\n",
              "      <td>NaN</td>\n",
              "      <td>NaN</td>\n",
              "      <td>NaN</td>\n",
              "      <td>NaN</td>\n",
              "      <td>NaN</td>\n",
              "      <td>NaN</td>\n",
              "      <td>VOO CONTROLADO CONTRA O TERRENO</td>\n",
              "      <td>VOO CONTROLADO CONTRA O TERRENO</td>\n",
              "      <td>CFIT</td>\n",
              "    </tr>\n",
              "    <tr>\n",
              "      <th>28355</th>\n",
              "      <td>ACIDENTE</td>\n",
              "      <td>-17.2541666667</td>\n",
              "      <td>-43.8536111111</td>\n",
              "      <td>BOCAIÚVA</td>\n",
              "      <td>MG</td>\n",
              "      <td>BRASIL</td>\n",
              "      <td>***</td>\n",
              "      <td>18/01/2007</td>\n",
              "      <td>09:10:00</td>\n",
              "      <td>NaN</td>\n",
              "      <td>...</td>\n",
              "      <td>NaN</td>\n",
              "      <td>NaN</td>\n",
              "      <td>NaN</td>\n",
              "      <td>NaN</td>\n",
              "      <td>NaN</td>\n",
              "      <td>NaN</td>\n",
              "      <td>NaN</td>\n",
              "      <td>FALHA ESTRUTURAL</td>\n",
              "      <td>FALHA OU MAU FUNCIONAMENTO DE SISTEMA / COMPON...</td>\n",
              "      <td>SCF-NP</td>\n",
              "    </tr>\n",
              "    <tr>\n",
              "      <th>28375</th>\n",
              "      <td>ACIDENTE</td>\n",
              "      <td>-23.6122222222</td>\n",
              "      <td>-51.385</td>\n",
              "      <td>APUCARANA</td>\n",
              "      <td>PR</td>\n",
              "      <td>BRASIL</td>\n",
              "      <td>***</td>\n",
              "      <td>26/01/2007</td>\n",
              "      <td>18:15:00</td>\n",
              "      <td>NaN</td>\n",
              "      <td>...</td>\n",
              "      <td>NaN</td>\n",
              "      <td>NaN</td>\n",
              "      <td>NaN</td>\n",
              "      <td>NaN</td>\n",
              "      <td>NaN</td>\n",
              "      <td>NaN</td>\n",
              "      <td>NaN</td>\n",
              "      <td>COLISÃO COM OBSTÁCULO DURANTE A DECOLAGEM E POUSO</td>\n",
              "      <td>COLISÃO COM OBSTÁCULO DURANTE A DECOLAGEM E POUSO</td>\n",
              "      <td>CTOL</td>\n",
              "    </tr>\n",
              "    <tr>\n",
              "      <th>28377</th>\n",
              "      <td>ACIDENTE</td>\n",
              "      <td>***</td>\n",
              "      <td>***</td>\n",
              "      <td>IMPERATRIZ</td>\n",
              "      <td>MA</td>\n",
              "      <td>BRASIL</td>\n",
              "      <td>***</td>\n",
              "      <td>27/01/2007</td>\n",
              "      <td>11:18:00</td>\n",
              "      <td>NaN</td>\n",
              "      <td>...</td>\n",
              "      <td>NaN</td>\n",
              "      <td>NaN</td>\n",
              "      <td>NaN</td>\n",
              "      <td>NaN</td>\n",
              "      <td>NaN</td>\n",
              "      <td>NaN</td>\n",
              "      <td>NaN</td>\n",
              "      <td>FALHA DO MOTOR EM VOO</td>\n",
              "      <td>FALHA OU MAU FUNCIONAMENTO DO MOTOR | FALHA DO...</td>\n",
              "      <td>SCF-PP</td>\n",
              "    </tr>\n",
              "  </tbody>\n",
              "</table>\n",
              "<p>5 rows × 46 columns</p>\n",
              "</div>"
            ],
            "text/plain": [
              "      ocorrencia_classificacao ocorrencia_latitude ocorrencia_longitude  \\\n",
              "28256                 ACIDENTE      -22.2180555556       -47.1763888889   \n",
              "28335                 ACIDENTE      -23.3444444444       -51.0633333333   \n",
              "28355                 ACIDENTE      -17.2541666667       -43.8536111111   \n",
              "28375                 ACIDENTE      -23.6122222222              -51.385   \n",
              "28377                 ACIDENTE                 ***                  ***   \n",
              "\n",
              "      ocorrencia_cidade ocorrencia_uf ocorrencia_pais ocorrencia_aerodromo  \\\n",
              "28256        MOGI GUAÇU            SP          BRASIL                  ***   \n",
              "28335          LONDRINA            PR          BRASIL                  ***   \n",
              "28355          BOCAIÚVA            MG          BRASIL                  ***   \n",
              "28375         APUCARANA            PR          BRASIL                  ***   \n",
              "28377        IMPERATRIZ            MA          BRASIL                  ***   \n",
              "\n",
              "      ocorrencia_dia ocorrencia_hora investigacao_aeronave_liberada  ...  \\\n",
              "28256     07/01/2007        11:30:00                            ***  ...   \n",
              "28335     19/01/2007        12:30:00                            NaN  ...   \n",
              "28355     18/01/2007        09:10:00                            NaN  ...   \n",
              "28375     26/01/2007        18:15:00                            NaN  ...   \n",
              "28377     27/01/2007        11:18:00                            NaN  ...   \n",
              "\n",
              "      aeronave_tipo_operacao aeronave_nivel_dano aeronave_fatalidades_total  \\\n",
              "28256                    NaN                 NaN                        NaN   \n",
              "28335                    NaN                 NaN                        NaN   \n",
              "28355                    NaN                 NaN                        NaN   \n",
              "28375                    NaN                 NaN                        NaN   \n",
              "28377                    NaN                 NaN                        NaN   \n",
              "\n",
              "      fator_nome  fator_aspecto  fator_condicionante fator_area  \\\n",
              "28256        NaN            NaN                  NaN        NaN   \n",
              "28335        NaN            NaN                  NaN        NaN   \n",
              "28355        NaN            NaN                  NaN        NaN   \n",
              "28375        NaN            NaN                  NaN        NaN   \n",
              "28377        NaN            NaN                  NaN        NaN   \n",
              "\n",
              "                                         ocorrencia_tipo  \\\n",
              "28256                          OPERAÇÃO A BAIXA ALTITUDE   \n",
              "28335                    VOO CONTROLADO CONTRA O TERRENO   \n",
              "28355                                   FALHA ESTRUTURAL   \n",
              "28375  COLISÃO COM OBSTÁCULO DURANTE A DECOLAGEM E POUSO   \n",
              "28377                              FALHA DO MOTOR EM VOO   \n",
              "\n",
              "                               ocorrencia_tipo_categoria taxonomia_tipo_icao  \n",
              "28256                          OPERAÇÃO A BAIXA ALTITUDE                LALT  \n",
              "28335                    VOO CONTROLADO CONTRA O TERRENO                CFIT  \n",
              "28355  FALHA OU MAU FUNCIONAMENTO DE SISTEMA / COMPON...              SCF-NP  \n",
              "28375  COLISÃO COM OBSTÁCULO DURANTE A DECOLAGEM E POUSO                CTOL  \n",
              "28377  FALHA OU MAU FUNCIONAMENTO DO MOTOR | FALHA DO...              SCF-PP  \n",
              "\n",
              "[5 rows x 46 columns]"
            ]
          },
          "execution_count": 5,
          "metadata": {},
          "output_type": "execute_result"
        }
      ],
      "source": [
        "df = df_ocorrencias.join(df_aeronave).join(df_fator).join(df_tipo_ocorrencia)\n",
        "df.head()"
      ]
    },
    {
      "cell_type": "code",
      "execution_count": 6,
      "metadata": {
        "id": "mpKAbX_8iANe"
      },
      "outputs": [
        {
          "data": {
            "text/html": [
              "<div>\n",
              "<style scoped>\n",
              "    .dataframe tbody tr th:only-of-type {\n",
              "        vertical-align: middle;\n",
              "    }\n",
              "\n",
              "    .dataframe tbody tr th {\n",
              "        vertical-align: top;\n",
              "    }\n",
              "\n",
              "    .dataframe thead th {\n",
              "        text-align: right;\n",
              "    }\n",
              "</style>\n",
              "<table border=\"1\" class=\"dataframe\">\n",
              "  <thead>\n",
              "    <tr style=\"text-align: right;\">\n",
              "      <th></th>\n",
              "      <th>ocorrencia_classificacao</th>\n",
              "      <th>ocorrencia_latitude</th>\n",
              "      <th>ocorrencia_longitude</th>\n",
              "      <th>ocorrencia_cidade</th>\n",
              "      <th>ocorrencia_uf</th>\n",
              "      <th>ocorrencia_pais</th>\n",
              "      <th>ocorrencia_aerodromo</th>\n",
              "      <th>ocorrencia_dia</th>\n",
              "      <th>ocorrencia_hora</th>\n",
              "      <th>investigacao_aeronave_liberada</th>\n",
              "      <th>...</th>\n",
              "      <th>aeronave_nivel_dano</th>\n",
              "      <th>aeronave_fatalidades_total</th>\n",
              "      <th>fator_nome</th>\n",
              "      <th>fator_aspecto</th>\n",
              "      <th>fator_condicionante</th>\n",
              "      <th>fator_area</th>\n",
              "      <th>ocorrencia_tipo</th>\n",
              "      <th>ocorrencia_tipo_categoria</th>\n",
              "      <th>taxonomia_tipo_icao</th>\n",
              "      <th>idade_aeronave</th>\n",
              "    </tr>\n",
              "  </thead>\n",
              "  <tbody>\n",
              "    <tr>\n",
              "      <th>82037</th>\n",
              "      <td>INCIDENTE</td>\n",
              "      <td>-12.90861111111</td>\n",
              "      <td>-38.3225</td>\n",
              "      <td>SALVADOR</td>\n",
              "      <td>BA</td>\n",
              "      <td>BRASIL</td>\n",
              "      <td>SBSV</td>\n",
              "      <td>2023-04-18</td>\n",
              "      <td>11:25:00</td>\n",
              "      <td>SIM</td>\n",
              "      <td>...</td>\n",
              "      <td>NENHUM</td>\n",
              "      <td>0.0</td>\n",
              "      <td>NaN</td>\n",
              "      <td>NaN</td>\n",
              "      <td>NaN</td>\n",
              "      <td>NaN</td>\n",
              "      <td>COLISÃO COM AVE</td>\n",
              "      <td>COLISÃO COM AVE</td>\n",
              "      <td>BIRD</td>\n",
              "      <td>10.0</td>\n",
              "    </tr>\n",
              "    <tr>\n",
              "      <th>82038</th>\n",
              "      <td>INCIDENTE</td>\n",
              "      <td>-23.43555555555</td>\n",
              "      <td>-46.47305555555</td>\n",
              "      <td>GUARULHOS</td>\n",
              "      <td>SP</td>\n",
              "      <td>BRASIL</td>\n",
              "      <td>SBGR</td>\n",
              "      <td>2023-04-18</td>\n",
              "      <td>09:55:00</td>\n",
              "      <td>SIM</td>\n",
              "      <td>...</td>\n",
              "      <td>NENHUM</td>\n",
              "      <td>0.0</td>\n",
              "      <td>NaN</td>\n",
              "      <td>NaN</td>\n",
              "      <td>NaN</td>\n",
              "      <td>NaN</td>\n",
              "      <td>COLISÃO COM AVE</td>\n",
              "      <td>COLISÃO COM AVE</td>\n",
              "      <td>BIRD</td>\n",
              "      <td>10.0</td>\n",
              "    </tr>\n",
              "    <tr>\n",
              "      <th>82039</th>\n",
              "      <td>INCIDENTE</td>\n",
              "      <td>-22.81</td>\n",
              "      <td>-43.25055555555</td>\n",
              "      <td>RIO DE JANEIRO</td>\n",
              "      <td>RJ</td>\n",
              "      <td>BRASIL</td>\n",
              "      <td>SBGL</td>\n",
              "      <td>2023-04-17</td>\n",
              "      <td>13:20:00</td>\n",
              "      <td>SIM</td>\n",
              "      <td>...</td>\n",
              "      <td>NENHUM</td>\n",
              "      <td>0.0</td>\n",
              "      <td>NaN</td>\n",
              "      <td>NaN</td>\n",
              "      <td>NaN</td>\n",
              "      <td>NaN</td>\n",
              "      <td>COLISÃO COM AVE</td>\n",
              "      <td>COLISÃO COM AVE</td>\n",
              "      <td>BIRD</td>\n",
              "      <td>2023.0</td>\n",
              "    </tr>\n",
              "    <tr>\n",
              "      <th>82045</th>\n",
              "      <td>INCIDENTE</td>\n",
              "      <td>-25.53166666666</td>\n",
              "      <td>-49.17611111111</td>\n",
              "      <td>SÃO JOSÉ DOS PINHAIS</td>\n",
              "      <td>PR</td>\n",
              "      <td>BRASIL</td>\n",
              "      <td>SBCT</td>\n",
              "      <td>2023-04-09</td>\n",
              "      <td>20:50:00</td>\n",
              "      <td>SIM</td>\n",
              "      <td>...</td>\n",
              "      <td>NENHUM</td>\n",
              "      <td>0.0</td>\n",
              "      <td>NaN</td>\n",
              "      <td>NaN</td>\n",
              "      <td>NaN</td>\n",
              "      <td>NaN</td>\n",
              "      <td>COLISÃO COM AVE</td>\n",
              "      <td>COLISÃO COM AVE</td>\n",
              "      <td>BIRD</td>\n",
              "      <td>2023.0</td>\n",
              "    </tr>\n",
              "    <tr>\n",
              "      <th>82047</th>\n",
              "      <td>INCIDENTE</td>\n",
              "      <td>-20.46944444444</td>\n",
              "      <td>-54.67027777777</td>\n",
              "      <td>CAMPO GRANDE</td>\n",
              "      <td>MS</td>\n",
              "      <td>BRASIL</td>\n",
              "      <td>SBCG</td>\n",
              "      <td>2023-04-19</td>\n",
              "      <td>13:25:00</td>\n",
              "      <td>SIM</td>\n",
              "      <td>...</td>\n",
              "      <td>NENHUM</td>\n",
              "      <td>0.0</td>\n",
              "      <td>NaN</td>\n",
              "      <td>NaN</td>\n",
              "      <td>NaN</td>\n",
              "      <td>NaN</td>\n",
              "      <td>COLISÃO COM AVE</td>\n",
              "      <td>COLISÃO COM AVE</td>\n",
              "      <td>BIRD</td>\n",
              "      <td>10.0</td>\n",
              "    </tr>\n",
              "  </tbody>\n",
              "</table>\n",
              "<p>5 rows × 47 columns</p>\n",
              "</div>"
            ],
            "text/plain": [
              "      ocorrencia_classificacao ocorrencia_latitude ocorrencia_longitude  \\\n",
              "82037                INCIDENTE     -12.90861111111             -38.3225   \n",
              "82038                INCIDENTE     -23.43555555555      -46.47305555555   \n",
              "82039                INCIDENTE              -22.81      -43.25055555555   \n",
              "82045                INCIDENTE     -25.53166666666      -49.17611111111   \n",
              "82047                INCIDENTE     -20.46944444444      -54.67027777777   \n",
              "\n",
              "          ocorrencia_cidade ocorrencia_uf ocorrencia_pais  \\\n",
              "82037              SALVADOR            BA          BRASIL   \n",
              "82038             GUARULHOS            SP          BRASIL   \n",
              "82039        RIO DE JANEIRO            RJ          BRASIL   \n",
              "82045  SÃO JOSÉ DOS PINHAIS            PR          BRASIL   \n",
              "82047          CAMPO GRANDE            MS          BRASIL   \n",
              "\n",
              "      ocorrencia_aerodromo ocorrencia_dia ocorrencia_hora  \\\n",
              "82037                 SBSV     2023-04-18        11:25:00   \n",
              "82038                 SBGR     2023-04-18        09:55:00   \n",
              "82039                 SBGL     2023-04-17        13:20:00   \n",
              "82045                 SBCT     2023-04-09        20:50:00   \n",
              "82047                 SBCG     2023-04-19        13:25:00   \n",
              "\n",
              "      investigacao_aeronave_liberada  ... aeronave_nivel_dano  \\\n",
              "82037                            SIM  ...              NENHUM   \n",
              "82038                            SIM  ...              NENHUM   \n",
              "82039                            SIM  ...              NENHUM   \n",
              "82045                            SIM  ...              NENHUM   \n",
              "82047                            SIM  ...              NENHUM   \n",
              "\n",
              "      aeronave_fatalidades_total fator_nome fator_aspecto  \\\n",
              "82037                        0.0        NaN           NaN   \n",
              "82038                        0.0        NaN           NaN   \n",
              "82039                        0.0        NaN           NaN   \n",
              "82045                        0.0        NaN           NaN   \n",
              "82047                        0.0        NaN           NaN   \n",
              "\n",
              "       fator_condicionante  fator_area  ocorrencia_tipo  \\\n",
              "82037                  NaN         NaN  COLISÃO COM AVE   \n",
              "82038                  NaN         NaN  COLISÃO COM AVE   \n",
              "82039                  NaN         NaN  COLISÃO COM AVE   \n",
              "82045                  NaN         NaN  COLISÃO COM AVE   \n",
              "82047                  NaN         NaN  COLISÃO COM AVE   \n",
              "\n",
              "      ocorrencia_tipo_categoria taxonomia_tipo_icao idade_aeronave  \n",
              "82037           COLISÃO COM AVE                BIRD           10.0  \n",
              "82038           COLISÃO COM AVE                BIRD           10.0  \n",
              "82039           COLISÃO COM AVE                BIRD         2023.0  \n",
              "82045           COLISÃO COM AVE                BIRD         2023.0  \n",
              "82047           COLISÃO COM AVE                BIRD           10.0  \n",
              "\n",
              "[5 rows x 47 columns]"
            ]
          },
          "execution_count": 6,
          "metadata": {},
          "output_type": "execute_result"
        }
      ],
      "source": [
        "df[\"ocorrencia_dia\"] = pd.to_datetime(df[\"ocorrencia_dia\"], format=\"%d/%m/%Y\")\n",
        "\n",
        "df[\"idade_aeronave\"] = df[\"ocorrencia_dia\"].dt.year - df[\"aeronave_ano_fabricacao\"]\n",
        "df.tail()"
      ]
    },
    {
      "cell_type": "markdown",
      "metadata": {
        "id": "F9rjkKfRrXRx"
      },
      "source": [
        "### Cleaning Data\n",
        "\n",
        "\n",
        "Variáveis:\n",
        "- aeronave_ano_fabricacao (Tabela aeronave)\n",
        "- aeronave_nivel_dano (Tabela aeronave)\n",
        "- aeronave_fatalidades_total (Tabela aeronave)\n",
        "- fator_aspecto (Tabela fator_contribuinte)\n",
        "- ocorrencia_classificacao (Tabela ocorrencias)\n",
        "- ocorrencia_dia (Tabela ocorrencias)\n",
        "- ocorrencia_hora (Tabela ocorrencias)"
      ]
    },
    {
      "cell_type": "code",
      "execution_count": 7,
      "metadata": {
        "id": "mFi96wRmrZNF"
      },
      "outputs": [],
      "source": [
        "dados = df[[\"aeronave_ano_fabricacao\", \"aeronave_nivel_dano\", \"aeronave_fatalidades_total\", \"fator_area\", \"ocorrencia_classificacao\", \"ocorrencia_dia\", \"idade_aeronave\"]].copy()\n"
      ]
    },
    {
      "cell_type": "code",
      "execution_count": 8,
      "metadata": {
        "id": "W8BHTzPtsDOB"
      },
      "outputs": [],
      "source": [
        "dados['ocorrencia_dia'] = pd.to_datetime(df['ocorrencia_dia'], format='%d/%m/%Y')\n",
        "dados.dropna(inplace=True)"
      ]
    },
    {
      "cell_type": "code",
      "execution_count": 16,
      "metadata": {
        "colab": {
          "base_uri": "https://localhost:8080/"
        },
        "id": "b-SqI3nCsiu9",
        "outputId": "75ebc2f4-342d-4b0e-b082-cee059263627"
      },
      "outputs": [
        {
          "data": {
            "text/plain": [
              "array([0.000e+00, 1.000e+00, 2.000e+00, 3.000e+00, 4.000e+00, 5.000e+00,\n",
              "       6.000e+00, 7.000e+00, 8.000e+00, 9.000e+00, 1.000e+01, 1.100e+01,\n",
              "       1.200e+01, 1.300e+01, 1.400e+01, 1.500e+01, 1.600e+01, 1.700e+01,\n",
              "       1.800e+01, 1.900e+01, 2.000e+01, 2.100e+01, 2.200e+01, 2.300e+01,\n",
              "       2.400e+01, 2.500e+01, 2.600e+01, 2.700e+01, 2.800e+01, 2.900e+01,\n",
              "       3.000e+01, 3.100e+01, 3.200e+01, 3.300e+01, 3.400e+01, 3.500e+01,\n",
              "       3.600e+01, 3.700e+01, 3.800e+01, 3.900e+01, 4.000e+01, 4.100e+01,\n",
              "       4.200e+01, 4.300e+01, 4.400e+01, 4.500e+01, 4.600e+01, 4.700e+01,\n",
              "       4.800e+01, 4.900e+01, 5.000e+01, 5.100e+01, 5.200e+01, 5.300e+01,\n",
              "       5.400e+01, 5.500e+01, 5.600e+01, 5.700e+01, 5.800e+01, 5.900e+01,\n",
              "       6.000e+01, 6.100e+01, 6.200e+01, 6.300e+01, 6.400e+01, 6.500e+01,\n",
              "       6.600e+01, 6.700e+01, 6.800e+01, 6.900e+01, 7.000e+01, 7.100e+01,\n",
              "       7.200e+01, 7.300e+01, 7.500e+01, 7.600e+01, 2.012e+03, 2.013e+03,\n",
              "       2.014e+03, 2.017e+03, 2.018e+03, 2.019e+03, 2.020e+03, 2.021e+03,\n",
              "       2.022e+03])"
            ]
          },
          "execution_count": 16,
          "metadata": {},
          "output_type": "execute_result"
        }
      ],
      "source": [
        "#np.set_printoptions(suppress=True)\n",
        "np.sort(dados[\"idade_aeronave\"].unique())"
      ]
    },
    {
      "cell_type": "code",
      "execution_count": 9,
      "metadata": {
        "id": "q5R0gw4IsP0G"
      },
      "outputs": [],
      "source": [
        "dados = dados[dados['aeronave_ano_fabricacao'] > 0]\n",
        "dados = dados[dados['aeronave_nivel_dano'] != \"***\"]\n"
      ]
    },
    {
      "cell_type": "code",
      "execution_count": 18,
      "metadata": {
        "colab": {
          "base_uri": "https://localhost:8080/",
          "height": 469
        },
        "id": "JtotnT9imdiy",
        "outputId": "15258e5d-0dee-4bb0-f805-a6ac15cfd266"
      },
      "outputs": [
        {
          "data": {
            "image/png": "[encoded data removed]",
            "text/plain": [
              "<Figure size 1500x800 with 2 Axes>"
            ]
          },
          "metadata": {},
          "output_type": "display_data"
        }
      ],
      "source": [
        "fig, axs = plt.subplots(1,2, figsize=(15, 8))\n",
        "sns.histplot(data=dados, x=\"idade_aeronave\", kde=True, bins=10, ax=axs[0])\n",
        "sns.boxplot(data=dados, x=\"idade_aeronave\", ax=axs[1])\n",
        "fig.suptitle(\"Aircraft Age Distribution\")\n",
        "plt.show()"
      ]
    },
    {
      "cell_type": "code",
      "execution_count": 19,
      "metadata": {
        "id": "r-h5pECCnZxW"
      },
      "outputs": [],
      "source": [
        "q1= dados[dados[\"idade_aeronave\"] < 11]\n",
        "q2= dados[dados[\"idade_aeronave\"].between(11, 24)]\n",
        "q3= dados[dados[\"idade_aeronave\"].between(24,38)]\n",
        "q4= dados[dados[\"idade_aeronave\"] >= 38]\n",
        "q234 = dados[dados[\"idade_aeronave\"] > 11]"
      ]
    },
    {
      "cell_type": "code",
      "execution_count": 20,
      "metadata": {
        "colab": {
          "base_uri": "https://localhost:8080/",
          "height": 300
        },
        "id": "exa2_XtktgQE",
        "outputId": "115b4f3d-4b5a-4ae2-c21d-7d70a92234e6"
      },
      "outputs": [
        {
          "data": {
            "text/html": [
              "<div>\n",
              "<style scoped>\n",
              "    .dataframe tbody tr th:only-of-type {\n",
              "        vertical-align: middle;\n",
              "    }\n",
              "\n",
              "    .dataframe tbody tr th {\n",
              "        vertical-align: top;\n",
              "    }\n",
              "\n",
              "    .dataframe thead th {\n",
              "        text-align: right;\n",
              "    }\n",
              "</style>\n",
              "<table border=\"1\" class=\"dataframe\">\n",
              "  <thead>\n",
              "    <tr style=\"text-align: right;\">\n",
              "      <th></th>\n",
              "      <th>aeronave_ano_fabricacao</th>\n",
              "      <th>aeronave_fatalidades_total</th>\n",
              "      <th>idade_aeronave</th>\n",
              "    </tr>\n",
              "  </thead>\n",
              "  <tbody>\n",
              "    <tr>\n",
              "      <th>count</th>\n",
              "      <td>5258.000000</td>\n",
              "      <td>5258.000000</td>\n",
              "      <td>5258.000000</td>\n",
              "    </tr>\n",
              "    <tr>\n",
              "      <th>mean</th>\n",
              "      <td>1990.858692</td>\n",
              "      <td>0.629897</td>\n",
              "      <td>25.534994</td>\n",
              "    </tr>\n",
              "    <tr>\n",
              "      <th>std</th>\n",
              "      <td>16.222558</td>\n",
              "      <td>1.454515</td>\n",
              "      <td>16.230823</td>\n",
              "    </tr>\n",
              "    <tr>\n",
              "      <th>min</th>\n",
              "      <td>1945.000000</td>\n",
              "      <td>0.000000</td>\n",
              "      <td>0.000000</td>\n",
              "    </tr>\n",
              "    <tr>\n",
              "      <th>25%</th>\n",
              "      <td>1977.000000</td>\n",
              "      <td>0.000000</td>\n",
              "      <td>11.000000</td>\n",
              "    </tr>\n",
              "    <tr>\n",
              "      <th>50%</th>\n",
              "      <td>1992.000000</td>\n",
              "      <td>0.000000</td>\n",
              "      <td>24.000000</td>\n",
              "    </tr>\n",
              "    <tr>\n",
              "      <th>75%</th>\n",
              "      <td>2006.000000</td>\n",
              "      <td>0.000000</td>\n",
              "      <td>38.000000</td>\n",
              "    </tr>\n",
              "    <tr>\n",
              "      <th>max</th>\n",
              "      <td>2021.000000</td>\n",
              "      <td>10.000000</td>\n",
              "      <td>76.000000</td>\n",
              "    </tr>\n",
              "  </tbody>\n",
              "</table>\n",
              "</div>"
            ],
            "text/plain": [
              "       aeronave_ano_fabricacao  aeronave_fatalidades_total  idade_aeronave\n",
              "count              5258.000000                 5258.000000     5258.000000\n",
              "mean               1990.858692                    0.629897       25.534994\n",
              "std                  16.222558                    1.454515       16.230823\n",
              "min                1945.000000                    0.000000        0.000000\n",
              "25%                1977.000000                    0.000000       11.000000\n",
              "50%                1992.000000                    0.000000       24.000000\n",
              "75%                2006.000000                    0.000000       38.000000\n",
              "max                2021.000000                   10.000000       76.000000"
            ]
          },
          "execution_count": 20,
          "metadata": {},
          "output_type": "execute_result"
        }
      ],
      "source": [
        "dados.describe()"
      ]
    },
    {
      "cell_type": "code",
      "execution_count": 21,
      "metadata": {
        "colab": {
          "base_uri": "https://localhost:8080/",
          "height": 683
        },
        "id": "qPYZvhvrnxR_",
        "outputId": "462df508-2ae6-43b8-f89f-212cc6afe3a6"
      },
      "outputs": [
        {
          "data": {
            "image/png": "[encoded data removed]",
            "text/plain": [
              "<Figure size 3200x1200 with 4 Axes>"
            ]
          },
          "metadata": {},
          "output_type": "display_data"
        }
      ],
      "source": [
        "classificacao_q1 = q1.groupby('ocorrencia_classificacao').size()\n",
        "classificacao_q1 = (classificacao_q1/ classificacao_q1.sum())\n",
        "\n",
        "\n",
        "classificacao_q2 = q2.groupby('ocorrencia_classificacao').size()\n",
        "classificacao_q2 = (classificacao_q2/ classificacao_q2.sum())\n",
        "\n",
        "classificacao_q3 = q2.groupby('ocorrencia_classificacao').size()\n",
        "classificacao_q3 = (classificacao_q3/ classificacao_q3.sum())\n",
        "\n",
        "classificacao_q4 = q2.groupby('ocorrencia_classificacao').size()\n",
        "classificacao_q4 = (classificacao_q4/ classificacao_q4.sum())\n",
        "\n",
        "# Create subplots\n",
        "fig, axs = plt.subplots(2, 2, figsize=(32, 12))\n",
        "\n",
        "# Plot the first bar chart (left subplot)\n",
        "plot_classificacao_q1 = classificacao_q1.plot(kind='bar', ax=axs[0,0], alpha=0.7)\n",
        "axs[0,0].set_title('Q1')\n",
        "axs[0,0].set_xlabel('CLASSIFICAÇÃO DA OCORRÊNCIA')\n",
        "axs[0,0].set_ylabel('QUANTIDADE')\n",
        "\n",
        "# Plot the second bar chart (right subplot)\n",
        "plot_classificacao_q2 = classificacao_q2.plot(kind='bar', ax=axs[0,1], alpha=0.7, color=\"red\")\n",
        "axs[0,1].set_title('Q2')\n",
        "axs[0,1].set_xlabel('CLASSIFICAÇÃO DA OCORRÊNCIA')\n",
        "axs[0,1].set_ylabel('QUANTIDADE')\n",
        "\n",
        "# Plot the Third bar chart (left subplot)\n",
        "plot_classificacao_q3 = classificacao_q3.plot(kind='bar', ax=axs[1,0], alpha=0.7, color=\"red\")\n",
        "axs[1,0].set_title('Q3')\n",
        "axs[1,0].set_xlabel('CLASSIFICAÇÃO DA OCORRÊNCIA')\n",
        "axs[1,0].set_ylabel('QUANTIDADE')\n",
        "\n",
        "# Plot the fourth bar chart (right subplot)\n",
        "plot_classificacao_q4 = classificacao_q4.plot(kind='bar', ax=axs[1,1], alpha=0.7, color=\"red\")\n",
        "axs[1,1].set_title('Q4')\n",
        "axs[1,1].set_xlabel('CLASSIFICAÇÃO DA OCORRÊNCIA')\n",
        "axs[1,1].set_ylabel('QUANTIDADE')\n",
        "\n",
        "# Adjust spacing between subplots\n",
        "plt.tight_layout()\n",
        "\n",
        "# Show the plots\n",
        "plt.show()"
      ]
    },
    {
      "cell_type": "code",
      "execution_count": 23,
      "metadata": {
        "colab": {
          "base_uri": "https://localhost:8080/",
          "height": 683
        },
        "id": "dUZrWxUbU1Kv",
        "outputId": "23b55f27-5ad7-466b-9bda-9e805d15ce33"
      },
      "outputs": [
        {
          "data": {
            "image/png": "[encoded data removed]",
            "text/plain": [
              "<Figure size 3200x1200 with 2 Axes>"
            ]
          },
          "metadata": {},
          "output_type": "display_data"
        }
      ],
      "source": [
        "classificacao_q1 = q1.groupby('ocorrencia_classificacao').size()\n",
        "proportion_q1 = (classificacao_q1/ classificacao_q1.sum())\n",
        "\n",
        "\n",
        "classificacao_q234 = q2.groupby('ocorrencia_classificacao').size()\n",
        "proportion_q234 = (classificacao_q234/ classificacao_q234.sum())\n",
        "\n",
        "\n",
        "# Create subplots\n",
        "fig, axs = plt.subplots(1, 2, figsize=(32, 12))\n",
        "\n",
        "# Plot the first bar chart (left subplot)\n",
        "plot_q1 = proportion_q1.plot(kind='bar', ax=axs[0], alpha=0.7)\n",
        "axs[0].set_title('Q1')\n",
        "axs[0].set_xlabel('CLASSIFICAÇÃO DA OCORRÊNCIA')\n",
        "axs[0].set_ylabel('QUANTIDADE')\n",
        "\n",
        "# Plot the second bar chart (right subplot)\n",
        "plot_q234 = proportion_q234.plot(kind='bar', ax=axs[1], alpha=0.7, color=\"red\")\n",
        "axs[1].set_title('Q2')\n",
        "axs[1].set_xlabel('CLASSIFICAÇÃO DA OCORRÊNCIA')\n",
        "axs[1].set_ylabel('QUANTIDADE')\n",
        "\n",
        "\n",
        "# Adjust spacing between subplots\n",
        "plt.tight_layout()\n",
        "\n",
        "# Show the plots\n",
        "plt.show()"
      ]
    },
    {
      "cell_type": "code",
      "execution_count": 24,
      "metadata": {
        "id": "L1iPzI2JTmRU"
      },
      "outputs": [
        {
          "data": {
            "text/plain": [
              "'if p_value < alpha:\\n    print(f\"Reject the null hypothesis. We can afirm with a {confidence_level}% confidence_level that the proportion of accidents of older aircrafts is higher than newer ones.    P value = {p_value}\")\\nelse:\\n    print(\"Don´t Reject the null hypothesis. There´s no enough evidence to confirm that older aircrafts have a higher proportion of accidents than newer ones.\")\\n'"
            ]
          },
          "execution_count": 24,
          "metadata": {},
          "output_type": "execute_result"
        }
      ],
      "source": [
        "\"\"\"if p_value < alpha:\n",
        "    print(f\"Reject the null hypothesis. We can afirm with a {confidence_level}% confidence_level that the proportion of accidents of older aircrafts is higher than newer ones.\\\n",
        "    P value = {p_value}\")\n",
        "else:\n",
        "    print(\"Don´t Reject the null hypothesis. There´s no enough evidence to confirm that older aircrafts have a higher proportion of accidents than newer ones.\")\n",
        "\"\"\""
      ]
    },
    {
      "cell_type": "markdown",
      "metadata": {
        "id": "daRgY8E5ToDN"
      },
      "source": [
        "### Checking Null Hypothesis\n",
        "  - H0 = There´s no difference between the proportion of accidents in aircrafts older than 11 years then on aircrafts newer than 11 years\n",
        "  - H1 = There´s a difference between the proportion of accidents in aircrafts older than 11 years then on aircrafts newer than 11 years"
      ]
    },
    {
      "cell_type": "code",
      "execution_count": 25,
      "metadata": {
        "colab": {
          "base_uri": "https://localhost:8080/"
        },
        "id": "WGDMsaM6yvuO",
        "outputId": "fc2899df-261e-4d05-c819-14b9813855be"
      },
      "outputs": [
        {
          "name": "stdout",
          "output_type": "stream",
          "text": [
            "We can confirm with a 0.95% confindence level that older aircrafts tend to have 3.88PP to 10.67PP more accidents than newer ones\n"
          ]
        }
      ],
      "source": [
        "import numpy as np\n",
        "import scipy.stats as stats\n",
        "\n",
        "# Given data\n",
        "newer_sample_size = len(q1)\n",
        "older_sample_size = len(q1)\n",
        "older_sample_proportion = proportion_q234[\"ACIDENTE\"]\n",
        "confidence_level = 0.95\n",
        "\n",
        "# Calculate the sample proportion\n",
        "newer_sample_proportion = proportion_q1[\"ACIDENTE\"]\n",
        "\n",
        "# Calculate the standard error\n",
        "standard_error = np.sqrt(\n",
        "    ((older_sample_proportion * (1 - older_sample_proportion)) / older_sample_size) # OLDER SE\n",
        "    +\n",
        "    ((newer_sample_proportion * (1 - newer_sample_proportion)) / newer_sample_size) # NEWER SE\n",
        ")\n",
        "\n",
        "# Calculate the critical value (Z) for the desired confidence level\n",
        "alpha = 1 - confidence_level\n",
        "z_critical = stats.norm.ppf(1 - alpha / 2)\n",
        "\n",
        "# Calculate the margin of error for the confidence interval\n",
        "margin_of_error = z_critical * standard_error\n",
        "\n",
        "# Calculate the confidence interval\n",
        "proportion_diff = older_sample_proportion - newer_sample_proportion\n",
        "confidence_interval_lower = proportion_diff - margin_of_error\n",
        "confidence_interval_upper = proportion_diff + margin_of_error\n",
        "\n",
        "def to_percentual_points(n):\n",
        "  return round(n*100, 2)\n",
        "print(f\"We can confirm with a {confidence_level}% confindence level that older aircrafts tend to have\\\n",
        " {to_percentual_points(confidence_interval_lower)}PP to {to_percentual_points(confidence_interval_upper)}PP more accidents than newer ones\")\n"
      ]
    },
    {
      "cell_type": "code",
      "execution_count": 25,
      "metadata": {
        "colab": {
          "base_uri": "https://localhost:8080/"
        },
        "id": "Gybm5vhPYSps",
        "outputId": "54f9b65d-c5dd-493e-ad3c-f0b96d80795e"
      },
      "outputs": [],
      "source": [
        "# print(sample_proportion)\n",
        "# print(claimed_accidents)"
      ]
    },
    {
      "cell_type": "code",
      "execution_count": null,
      "metadata": {},
      "outputs": [],
      "source": []
    },
    {
      "cell_type": "code",
      "execution_count": null,
      "metadata": {},
      "outputs": [],
      "source": []
    },
    {
      "cell_type": "markdown",
      "metadata": {
        "colab": {
          "base_uri": "https://localhost:8080/"
        },
        "id": "1hHJwdvyYVVV",
        "outputId": "33836006-78ac-4365-ccbb-08267242d907"
      },
      "source": [
        "# Damage level analysis"
      ]
    },
    {
      "cell_type": "markdown",
      "metadata": {},
      "source": [
        "## Discritized age distribution"
      ]
    },
    {
      "cell_type": "code",
      "execution_count": 10,
      "metadata": {},
      "outputs": [
        {
          "data": {
            "text/plain": [
              "0.25    11.0\n",
              "0.50    24.0\n",
              "0.75    38.0\n",
              "Name: idade_aeronave, dtype: float64"
            ]
          },
          "execution_count": 10,
          "metadata": {},
          "output_type": "execute_result"
        }
      ],
      "source": [
        "quartiles = dados[\"idade_aeronave\"].quantile([0.25, 0.5, 0.75])\n",
        "quartiles"
      ]
    },
    {
      "cell_type": "code",
      "execution_count": 11,
      "metadata": {},
      "outputs": [
        {
          "data": {
            "text/plain": [
              "45331     [0.0, 12.0)\n",
              "61031     [0.0, 12.0)\n",
              "61014     [0.0, 12.0)\n",
              "61014     [0.0, 12.0)\n",
              "61014     [0.0, 12.0)\n",
              "             ...     \n",
              "79206    [39.0, 77.0)\n",
              "79206    [39.0, 77.0)\n",
              "79206    [39.0, 77.0)\n",
              "48727    [39.0, 77.0)\n",
              "53377    [39.0, 77.0)\n",
              "Name: idade_discretizada, Length: 5258, dtype: category\n",
              "Categories (4, interval[float64, left]): [[0.0, 12.0) < [12.0, 25.0) < [25.0, 39.0) < [39.0, 77.0)]"
            ]
          },
          "execution_count": 11,
          "metadata": {},
          "output_type": "execute_result"
        }
      ],
      "source": [
        "# implementing discretization for the aircraft age\n",
        "age_max = dados[\"idade_aeronave\"].max() + 1\n",
        "intervals = [0]\n",
        "intervals.extend(quartiles.values + 1)     # +1 because the upper limit of intervals is opend\n",
        "intervals.append(age_max)\n",
        "\n",
        "dados[\"idade_aeronave\"] = dados[\"idade_aeronave\"].astype(int)\n",
        "\n",
        "dados[\"idade_discretizada\"] = pd.cut(dados[\"idade_aeronave\"], bins=intervals, right=False)\n",
        "\n",
        "dados[\"idade_discretizada\"].sort_values()"
      ]
    },
    {
      "cell_type": "code",
      "execution_count": 12,
      "metadata": {},
      "outputs": [
        {
          "data": {
            "image/png": "[encoded data removed]",
            "text/plain": [
              "<Figure size 640x480 with 1 Axes>"
            ]
          },
          "metadata": {},
          "output_type": "display_data"
        }
      ],
      "source": [
        "sns.countplot(data=dados, x=\"idade_discretizada\")\n",
        "plt.title(\"Aircraft ages discritized per quartiles [11, 24, 38]\")\n",
        "plt.show()"
      ]
    },
    {
      "cell_type": "markdown",
      "metadata": {},
      "source": [
        "## Damage Levels Proportions"
      ]
    },
    {
      "cell_type": "code",
      "execution_count": 13,
      "metadata": {},
      "outputs": [
        {
          "data": {
            "image/png": "[encoded data removed]",
            "text/plain": [
              "<Figure size 640x480 with 1 Axes>"
            ]
          },
          "metadata": {},
          "output_type": "display_data"
        }
      ],
      "source": [
        "sns.barplot(x=dados[\"aeronave_nivel_dano\"].value_counts(normalize=True).index,\n",
        "             y=dados[\"aeronave_nivel_dano\"].value_counts(normalize=True)\n",
        "            )\n",
        "plt.title(\"Damage level proportion for each classification\")\n",
        "plt.ylabel(\"Proportion\")\n",
        "plt.xlabel(\"Damage Levels\")\n",
        "plt.show()"
      ]
    },
    {
      "cell_type": "markdown",
      "metadata": {},
      "source": [
        "## Proportion of Discritized Ages Per Damage Level"
      ]
    },
    {
      "cell_type": "code",
      "execution_count": 14,
      "metadata": {},
      "outputs": [
        {
          "data": {
            "text/html": [
              "<div>\n",
              "<style scoped>\n",
              "    .dataframe tbody tr th:only-of-type {\n",
              "        vertical-align: middle;\n",
              "    }\n",
              "\n",
              "    .dataframe tbody tr th {\n",
              "        vertical-align: top;\n",
              "    }\n",
              "\n",
              "    .dataframe thead th {\n",
              "        text-align: right;\n",
              "    }\n",
              "</style>\n",
              "<table border=\"1\" class=\"dataframe\">\n",
              "  <thead>\n",
              "    <tr style=\"text-align: right;\">\n",
              "      <th>aeronave_nivel_dano</th>\n",
              "      <th>DESTRUÍDA</th>\n",
              "      <th>LEVE</th>\n",
              "      <th>NENHUM</th>\n",
              "      <th>SUBSTANCIAL</th>\n",
              "    </tr>\n",
              "    <tr>\n",
              "      <th>idade_discretizada</th>\n",
              "      <th></th>\n",
              "      <th></th>\n",
              "      <th></th>\n",
              "      <th></th>\n",
              "    </tr>\n",
              "  </thead>\n",
              "  <tbody>\n",
              "    <tr>\n",
              "      <th>[0.0, 12.0)</th>\n",
              "      <td>0.158050</td>\n",
              "      <td>0.119645</td>\n",
              "      <td>0.147710</td>\n",
              "      <td>0.574594</td>\n",
              "    </tr>\n",
              "    <tr>\n",
              "      <th>[12.0, 25.0)</th>\n",
              "      <td>0.227811</td>\n",
              "      <td>0.119822</td>\n",
              "      <td>0.066568</td>\n",
              "      <td>0.585799</td>\n",
              "    </tr>\n",
              "    <tr>\n",
              "      <th>[25.0, 39.0)</th>\n",
              "      <td>0.163752</td>\n",
              "      <td>0.093800</td>\n",
              "      <td>0.042925</td>\n",
              "      <td>0.699523</td>\n",
              "    </tr>\n",
              "    <tr>\n",
              "      <th>[39.0, 77.0)</th>\n",
              "      <td>0.187017</td>\n",
              "      <td>0.054096</td>\n",
              "      <td>0.042504</td>\n",
              "      <td>0.716383</td>\n",
              "    </tr>\n",
              "  </tbody>\n",
              "</table>\n",
              "</div>"
            ],
            "text/plain": [
              "aeronave_nivel_dano  DESTRUÍDA      LEVE    NENHUM  SUBSTANCIAL\n",
              "idade_discretizada                                             \n",
              "[0.0, 12.0)           0.158050  0.119645  0.147710     0.574594\n",
              "[12.0, 25.0)          0.227811  0.119822  0.066568     0.585799\n",
              "[25.0, 39.0)          0.163752  0.093800  0.042925     0.699523\n",
              "[39.0, 77.0)          0.187017  0.054096  0.042504     0.716383"
            ]
          },
          "execution_count": 14,
          "metadata": {},
          "output_type": "execute_result"
        }
      ],
      "source": [
        "proportions_damage_age = pd.crosstab(dados[\"idade_discretizada\"], dados[\"aeronave_nivel_dano\"], normalize=\"index\")\n",
        "proportions_damage_age"
      ]
    },
    {
      "cell_type": "code",
      "execution_count": 15,
      "metadata": {},
      "outputs": [
        {
          "data": {
            "text/html": [
              "<div>\n",
              "<style scoped>\n",
              "    .dataframe tbody tr th:only-of-type {\n",
              "        vertical-align: middle;\n",
              "    }\n",
              "\n",
              "    .dataframe tbody tr th {\n",
              "        vertical-align: top;\n",
              "    }\n",
              "\n",
              "    .dataframe thead th {\n",
              "        text-align: right;\n",
              "    }\n",
              "</style>\n",
              "<table border=\"1\" class=\"dataframe\">\n",
              "  <thead>\n",
              "    <tr style=\"text-align: right;\">\n",
              "      <th></th>\n",
              "      <th>idade_discretizada</th>\n",
              "      <th>Nivel</th>\n",
              "      <th>Proportion</th>\n",
              "    </tr>\n",
              "  </thead>\n",
              "  <tbody>\n",
              "    <tr>\n",
              "      <th>0</th>\n",
              "      <td>[0.0, 12.0)</td>\n",
              "      <td>DESTRUÍDA</td>\n",
              "      <td>0.158050</td>\n",
              "    </tr>\n",
              "    <tr>\n",
              "      <th>1</th>\n",
              "      <td>[12.0, 25.0)</td>\n",
              "      <td>DESTRUÍDA</td>\n",
              "      <td>0.227811</td>\n",
              "    </tr>\n",
              "    <tr>\n",
              "      <th>2</th>\n",
              "      <td>[25.0, 39.0)</td>\n",
              "      <td>DESTRUÍDA</td>\n",
              "      <td>0.163752</td>\n",
              "    </tr>\n",
              "    <tr>\n",
              "      <th>3</th>\n",
              "      <td>[39.0, 77.0)</td>\n",
              "      <td>DESTRUÍDA</td>\n",
              "      <td>0.187017</td>\n",
              "    </tr>\n",
              "    <tr>\n",
              "      <th>4</th>\n",
              "      <td>[0.0, 12.0)</td>\n",
              "      <td>LEVE</td>\n",
              "      <td>0.119645</td>\n",
              "    </tr>\n",
              "    <tr>\n",
              "      <th>5</th>\n",
              "      <td>[12.0, 25.0)</td>\n",
              "      <td>LEVE</td>\n",
              "      <td>0.119822</td>\n",
              "    </tr>\n",
              "    <tr>\n",
              "      <th>6</th>\n",
              "      <td>[25.0, 39.0)</td>\n",
              "      <td>LEVE</td>\n",
              "      <td>0.093800</td>\n",
              "    </tr>\n",
              "    <tr>\n",
              "      <th>7</th>\n",
              "      <td>[39.0, 77.0)</td>\n",
              "      <td>LEVE</td>\n",
              "      <td>0.054096</td>\n",
              "    </tr>\n",
              "    <tr>\n",
              "      <th>8</th>\n",
              "      <td>[0.0, 12.0)</td>\n",
              "      <td>NENHUM</td>\n",
              "      <td>0.147710</td>\n",
              "    </tr>\n",
              "    <tr>\n",
              "      <th>9</th>\n",
              "      <td>[12.0, 25.0)</td>\n",
              "      <td>NENHUM</td>\n",
              "      <td>0.066568</td>\n",
              "    </tr>\n",
              "    <tr>\n",
              "      <th>10</th>\n",
              "      <td>[25.0, 39.0)</td>\n",
              "      <td>NENHUM</td>\n",
              "      <td>0.042925</td>\n",
              "    </tr>\n",
              "    <tr>\n",
              "      <th>11</th>\n",
              "      <td>[39.0, 77.0)</td>\n",
              "      <td>NENHUM</td>\n",
              "      <td>0.042504</td>\n",
              "    </tr>\n",
              "    <tr>\n",
              "      <th>12</th>\n",
              "      <td>[0.0, 12.0)</td>\n",
              "      <td>SUBSTANCIAL</td>\n",
              "      <td>0.574594</td>\n",
              "    </tr>\n",
              "    <tr>\n",
              "      <th>13</th>\n",
              "      <td>[12.0, 25.0)</td>\n",
              "      <td>SUBSTANCIAL</td>\n",
              "      <td>0.585799</td>\n",
              "    </tr>\n",
              "    <tr>\n",
              "      <th>14</th>\n",
              "      <td>[25.0, 39.0)</td>\n",
              "      <td>SUBSTANCIAL</td>\n",
              "      <td>0.699523</td>\n",
              "    </tr>\n",
              "    <tr>\n",
              "      <th>15</th>\n",
              "      <td>[39.0, 77.0)</td>\n",
              "      <td>SUBSTANCIAL</td>\n",
              "      <td>0.716383</td>\n",
              "    </tr>\n",
              "  </tbody>\n",
              "</table>\n",
              "</div>"
            ],
            "text/plain": [
              "   idade_discretizada        Nivel  Proportion\n",
              "0         [0.0, 12.0)    DESTRUÍDA    0.158050\n",
              "1        [12.0, 25.0)    DESTRUÍDA    0.227811\n",
              "2        [25.0, 39.0)    DESTRUÍDA    0.163752\n",
              "3        [39.0, 77.0)    DESTRUÍDA    0.187017\n",
              "4         [0.0, 12.0)         LEVE    0.119645\n",
              "5        [12.0, 25.0)         LEVE    0.119822\n",
              "6        [25.0, 39.0)         LEVE    0.093800\n",
              "7        [39.0, 77.0)         LEVE    0.054096\n",
              "8         [0.0, 12.0)       NENHUM    0.147710\n",
              "9        [12.0, 25.0)       NENHUM    0.066568\n",
              "10       [25.0, 39.0)       NENHUM    0.042925\n",
              "11       [39.0, 77.0)       NENHUM    0.042504\n",
              "12        [0.0, 12.0)  SUBSTANCIAL    0.574594\n",
              "13       [12.0, 25.0)  SUBSTANCIAL    0.585799\n",
              "14       [25.0, 39.0)  SUBSTANCIAL    0.699523\n",
              "15       [39.0, 77.0)  SUBSTANCIAL    0.716383"
            ]
          },
          "execution_count": 15,
          "metadata": {},
          "output_type": "execute_result"
        }
      ],
      "source": [
        "proportions_damage_age.reset_index(inplace=True)\n",
        "long_p_damage_age = pd.melt(proportions_damage_age, id_vars=['idade_discretizada'], value_vars=proportions_damage_age.columns.tolist(), var_name='Nivel', value_name='Proportion')\n",
        "long_p_damage_age"
      ]
    },
    {
      "cell_type": "code",
      "execution_count": 20,
      "metadata": {},
      "outputs": [
        {
          "data": {
            "image/png": "[encoded data removed]",
            "text/plain": [
              "<Figure size 641.236x500 with 1 Axes>"
            ]
          },
          "metadata": {},
          "output_type": "display_data"
        }
      ],
      "source": [
        "sns.catplot(data=long_p_damage_age, x=\"Nivel\", y=\"Proportion\", hue=\"idade_discretizada\", kind=\"bar\")\n",
        "plt.show()"
      ]
    },
    {
      "cell_type": "markdown",
      "metadata": {},
      "source": [
        "Analysing the charts we can propose two hypothesis:\n",
        "\n",
        "1. The proportion of airplanes with **less than or equal 11 years which had no damage in the occurences** is significantly greater than proportion of airplanes with **more than 11 years**.\n",
        "2. The proportion of airplanes with **greater than or equal 11 years which had substancial damage in the occurences** is significantly greater than proportion of airplanes with **less than 11 years**"
      ]
    },
    {
      "cell_type": "markdown",
      "metadata": {},
      "source": [
        "## Checking Hypothesis 1\n",
        "\n",
        "The proportion of airplanes with **less than 11 years which had no damage in the occurences** is significantly greater than proportion of airplanes with **more than 11 years**."
      ]
    },
    {
      "cell_type": "code",
      "execution_count": 76,
      "metadata": {},
      "outputs": [
        {
          "data": {
            "text/html": [
              "<div>\n",
              "<style scoped>\n",
              "    .dataframe tbody tr th:only-of-type {\n",
              "        vertical-align: middle;\n",
              "    }\n",
              "\n",
              "    .dataframe tbody tr th {\n",
              "        vertical-align: top;\n",
              "    }\n",
              "\n",
              "    .dataframe thead th {\n",
              "        text-align: right;\n",
              "    }\n",
              "</style>\n",
              "<table border=\"1\" class=\"dataframe\">\n",
              "  <thead>\n",
              "    <tr style=\"text-align: right;\">\n",
              "      <th></th>\n",
              "      <th>aeronave_ano_fabricacao</th>\n",
              "      <th>aeronave_nivel_dano</th>\n",
              "      <th>aeronave_fatalidades_total</th>\n",
              "      <th>fator_area</th>\n",
              "      <th>ocorrencia_classificacao</th>\n",
              "      <th>ocorrencia_dia</th>\n",
              "      <th>idade_aeronave</th>\n",
              "      <th>idade_discretizada</th>\n",
              "    </tr>\n",
              "  </thead>\n",
              "  <tbody>\n",
              "    <tr>\n",
              "      <th>0</th>\n",
              "      <td>2011.0</td>\n",
              "      <td>SUBSTANCIAL</td>\n",
              "      <td>0.0</td>\n",
              "      <td>FATOR OPERACIONAL</td>\n",
              "      <td>ACIDENTE</td>\n",
              "      <td>2019-02-01</td>\n",
              "      <td>8</td>\n",
              "      <td>[0.0, 12.0)</td>\n",
              "    </tr>\n",
              "    <tr>\n",
              "      <th>1</th>\n",
              "      <td>2016.0</td>\n",
              "      <td>SUBSTANCIAL</td>\n",
              "      <td>0.0</td>\n",
              "      <td>FATOR OPERACIONAL</td>\n",
              "      <td>ACIDENTE</td>\n",
              "      <td>2019-05-28</td>\n",
              "      <td>3</td>\n",
              "      <td>[0.0, 12.0)</td>\n",
              "    </tr>\n",
              "    <tr>\n",
              "      <th>2</th>\n",
              "      <td>2013.0</td>\n",
              "      <td>SUBSTANCIAL</td>\n",
              "      <td>0.0</td>\n",
              "      <td>FATOR HUMANO</td>\n",
              "      <td>ACIDENTE</td>\n",
              "      <td>2014-12-29</td>\n",
              "      <td>1</td>\n",
              "      <td>[0.0, 12.0)</td>\n",
              "    </tr>\n",
              "    <tr>\n",
              "      <th>3</th>\n",
              "      <td>2009.0</td>\n",
              "      <td>SUBSTANCIAL</td>\n",
              "      <td>0.0</td>\n",
              "      <td>FATOR OPERACIONAL</td>\n",
              "      <td>ACIDENTE</td>\n",
              "      <td>2020-01-18</td>\n",
              "      <td>11</td>\n",
              "      <td>[0.0, 12.0)</td>\n",
              "    </tr>\n",
              "    <tr>\n",
              "      <th>4</th>\n",
              "      <td>2011.0</td>\n",
              "      <td>NENHUM</td>\n",
              "      <td>0.0</td>\n",
              "      <td>FATOR HUMANO</td>\n",
              "      <td>INCIDENTE GRAVE</td>\n",
              "      <td>2018-09-26</td>\n",
              "      <td>7</td>\n",
              "      <td>[0.0, 12.0)</td>\n",
              "    </tr>\n",
              "  </tbody>\n",
              "</table>\n",
              "</div>"
            ],
            "text/plain": [
              "   aeronave_ano_fabricacao aeronave_nivel_dano  aeronave_fatalidades_total  \\\n",
              "0                   2011.0         SUBSTANCIAL                         0.0   \n",
              "1                   2016.0         SUBSTANCIAL                         0.0   \n",
              "2                   2013.0         SUBSTANCIAL                         0.0   \n",
              "3                   2009.0         SUBSTANCIAL                         0.0   \n",
              "4                   2011.0              NENHUM                         0.0   \n",
              "\n",
              "          fator_area ocorrencia_classificacao ocorrencia_dia  idade_aeronave  \\\n",
              "0  FATOR OPERACIONAL                 ACIDENTE     2019-02-01               8   \n",
              "1  FATOR OPERACIONAL                 ACIDENTE     2019-05-28               3   \n",
              "2       FATOR HUMANO                 ACIDENTE     2014-12-29               1   \n",
              "3  FATOR OPERACIONAL                 ACIDENTE     2020-01-18              11   \n",
              "4       FATOR HUMANO          INCIDENTE GRAVE     2018-09-26               7   \n",
              "\n",
              "  idade_discretizada  \n",
              "0        [0.0, 12.0)  \n",
              "1        [0.0, 12.0)  \n",
              "2        [0.0, 12.0)  \n",
              "3        [0.0, 12.0)  \n",
              "4        [0.0, 12.0)  "
            ]
          },
          "execution_count": 76,
          "metadata": {},
          "output_type": "execute_result"
        }
      ],
      "source": [
        "# taking broad samples\n",
        "SAMPLE_SIZE = 200\n",
        "less11 = dados[dados[\"idade_discretizada\"] == pd.Interval(intervals[0], intervals[1], closed='left')].sample(n=SAMPLE_SIZE, replace=False, axis=0, ignore_index=True)\n",
        "less11.head()"
      ]
    },
    {
      "cell_type": "code",
      "execution_count": 77,
      "metadata": {},
      "outputs": [
        {
          "data": {
            "text/html": [
              "<div>\n",
              "<style scoped>\n",
              "    .dataframe tbody tr th:only-of-type {\n",
              "        vertical-align: middle;\n",
              "    }\n",
              "\n",
              "    .dataframe tbody tr th {\n",
              "        vertical-align: top;\n",
              "    }\n",
              "\n",
              "    .dataframe thead th {\n",
              "        text-align: right;\n",
              "    }\n",
              "</style>\n",
              "<table border=\"1\" class=\"dataframe\">\n",
              "  <thead>\n",
              "    <tr style=\"text-align: right;\">\n",
              "      <th></th>\n",
              "      <th>aeronave_ano_fabricacao</th>\n",
              "      <th>aeronave_nivel_dano</th>\n",
              "      <th>aeronave_fatalidades_total</th>\n",
              "      <th>fator_area</th>\n",
              "      <th>ocorrencia_classificacao</th>\n",
              "      <th>ocorrencia_dia</th>\n",
              "      <th>idade_aeronave</th>\n",
              "      <th>idade_discretizada</th>\n",
              "    </tr>\n",
              "  </thead>\n",
              "  <tbody>\n",
              "    <tr>\n",
              "      <th>0</th>\n",
              "      <td>1990.0</td>\n",
              "      <td>SUBSTANCIAL</td>\n",
              "      <td>0.0</td>\n",
              "      <td>FATOR OPERACIONAL</td>\n",
              "      <td>INCIDENTE GRAVE</td>\n",
              "      <td>2012-05-23</td>\n",
              "      <td>22</td>\n",
              "      <td>[12.0, 25.0)</td>\n",
              "    </tr>\n",
              "    <tr>\n",
              "      <th>1</th>\n",
              "      <td>1972.0</td>\n",
              "      <td>SUBSTANCIAL</td>\n",
              "      <td>0.0</td>\n",
              "      <td>FATOR HUMANO</td>\n",
              "      <td>ACIDENTE</td>\n",
              "      <td>2017-07-08</td>\n",
              "      <td>45</td>\n",
              "      <td>[39.0, 77.0)</td>\n",
              "    </tr>\n",
              "    <tr>\n",
              "      <th>2</th>\n",
              "      <td>1998.0</td>\n",
              "      <td>SUBSTANCIAL</td>\n",
              "      <td>0.0</td>\n",
              "      <td>FATOR OPERACIONAL</td>\n",
              "      <td>ACIDENTE</td>\n",
              "      <td>2019-04-11</td>\n",
              "      <td>21</td>\n",
              "      <td>[12.0, 25.0)</td>\n",
              "    </tr>\n",
              "    <tr>\n",
              "      <th>3</th>\n",
              "      <td>1991.0</td>\n",
              "      <td>SUBSTANCIAL</td>\n",
              "      <td>0.0</td>\n",
              "      <td>FATOR OPERACIONAL</td>\n",
              "      <td>ACIDENTE</td>\n",
              "      <td>2015-04-06</td>\n",
              "      <td>24</td>\n",
              "      <td>[12.0, 25.0)</td>\n",
              "    </tr>\n",
              "    <tr>\n",
              "      <th>4</th>\n",
              "      <td>1950.0</td>\n",
              "      <td>SUBSTANCIAL</td>\n",
              "      <td>0.0</td>\n",
              "      <td>FATOR OPERACIONAL</td>\n",
              "      <td>ACIDENTE</td>\n",
              "      <td>2012-02-07</td>\n",
              "      <td>62</td>\n",
              "      <td>[39.0, 77.0)</td>\n",
              "    </tr>\n",
              "  </tbody>\n",
              "</table>\n",
              "</div>"
            ],
            "text/plain": [
              "   aeronave_ano_fabricacao aeronave_nivel_dano  aeronave_fatalidades_total  \\\n",
              "0                   1990.0         SUBSTANCIAL                         0.0   \n",
              "1                   1972.0         SUBSTANCIAL                         0.0   \n",
              "2                   1998.0         SUBSTANCIAL                         0.0   \n",
              "3                   1991.0         SUBSTANCIAL                         0.0   \n",
              "4                   1950.0         SUBSTANCIAL                         0.0   \n",
              "\n",
              "          fator_area ocorrencia_classificacao ocorrencia_dia  idade_aeronave  \\\n",
              "0  FATOR OPERACIONAL          INCIDENTE GRAVE     2012-05-23              22   \n",
              "1       FATOR HUMANO                 ACIDENTE     2017-07-08              45   \n",
              "2  FATOR OPERACIONAL                 ACIDENTE     2019-04-11              21   \n",
              "3  FATOR OPERACIONAL                 ACIDENTE     2015-04-06              24   \n",
              "4  FATOR OPERACIONAL                 ACIDENTE     2012-02-07              62   \n",
              "\n",
              "  idade_discretizada  \n",
              "0       [12.0, 25.0)  \n",
              "1       [39.0, 77.0)  \n",
              "2       [12.0, 25.0)  \n",
              "3       [12.0, 25.0)  \n",
              "4       [39.0, 77.0)  "
            ]
          },
          "execution_count": 77,
          "metadata": {},
          "output_type": "execute_result"
        }
      ],
      "source": [
        "more11 = dados[~(dados[\"idade_discretizada\"] == pd.Interval(intervals[0], intervals[1], closed='left'))].sample(n=SAMPLE_SIZE, replace=False, axis=0, ignore_index=True)\n",
        "more11.head()"
      ]
    },
    {
      "cell_type": "markdown",
      "metadata": {},
      "source": [
        "**Notice:**\n",
        "- p̂<sub><=11</sub> represents the proportion of airplanes with less than 11 years which had no damage in the occurences.\n",
        "- p̂<sub>>11</sub> represents the proportion of airplanes with more than or equal 11 years which had no damage in the occurences.\n",
        "\n",
        "$H_0$: **There IS NO** difference between proportions of airplanes with less than 11 years and more than or equal 11 years which had no damage.\n",
        "> p̂<sub><=11</sub> − p̂<sub>>11</sub> = 0  \n",
        "\n",
        "$H_A$: **There IS** difference between proportions of airplanes with less than 11 years and more than or equal 11 years which had no damage.  \n",
        "> p̂<sub><=11</sub> - p̂<sub>>11</sub> ≠ 0\n",
        "\n",
        "\n",
        "**Checking conditions for the sampling distribution of p̂1 − p̂2 to be normal**:\n",
        "\n",
        "1. **Independence**\n",
        "- Because the data come from a simple random sample, the observations are independent, both within and between samples."
      ]
    },
    {
      "cell_type": "markdown",
      "metadata": {},
      "source": [
        "2. **Success-failure condition**\n",
        "- Since the null hypothesis is that the proportions are equal, we use the pooled proportion ($p̂_{pooled}$) to verify the success-failure condition and estimate the standard error.\n",
        "- $p̂_{pooled} = \\frac{p̂_1 \\ * \\ n_1 \\ + \\ p̂_2 \\ * \\ n_2}{n_1 + n_2}$\n",
        "- $n_1 \\ * \\ p̂_{pooled} \\ ≥ \\ 10 \\ and \\ n_1 \\ * \\ (1 - p̂_{pooled}) ≥ 10$\n",
        "- $n_2 \\ * \\ p̂_{pooled} \\ ≥ \\ 10 \\ and \\ n_2 \\ * \\ (1 - p̂_{pooled}) ≥ 10$\n"
      ]
    },
    {
      "cell_type": "code",
      "execution_count": 90,
      "metadata": {},
      "outputs": [
        {
          "name": "stdout",
          "output_type": "stream",
          "text": [
            "p-hat less than or equal 11 = 0.15\n"
          ]
        }
      ],
      "source": [
        "p_hat_less11 = less11[\"aeronave_nivel_dano\"].value_counts(normalize=True).NENHUM\n",
        "print(\"p-hat less than or equal 11 =\", p_hat_less11)"
      ]
    },
    {
      "cell_type": "code",
      "execution_count": 91,
      "metadata": {},
      "outputs": [
        {
          "name": "stdout",
          "output_type": "stream",
          "text": [
            "p-hat more than 10 = 0.03\n"
          ]
        }
      ],
      "source": [
        "p_hat_more11 = more11[\"aeronave_nivel_dano\"].value_counts(normalize=True).NENHUM\n",
        "print(\"p-hat more than 10 =\", p_hat_more11)"
      ]
    },
    {
      "cell_type": "code",
      "execution_count": 80,
      "metadata": {},
      "outputs": [
        {
          "name": "stdout",
          "output_type": "stream",
          "text": [
            "p-hat pooled = 0.09\n"
          ]
        }
      ],
      "source": [
        "p_pooled = (p_hat_less11 * SAMPLE_SIZE + p_hat_more11 * SAMPLE_SIZE) / (SAMPLE_SIZE + SAMPLE_SIZE)\n",
        "print(\"p-hat pooled =\", p_pooled)"
      ]
    },
    {
      "cell_type": "code",
      "execution_count": 81,
      "metadata": {},
      "outputs": [
        {
          "name": "stdout",
          "output_type": "stream",
          "text": [
            "Conditions 𝑛1 𝑥 𝑝̂ 𝑝𝑜𝑜𝑙𝑒𝑑 ≥ 10 𝑎𝑛𝑑 𝑛1 𝑥 (1−𝑝̂ 𝑝𝑜𝑜𝑙𝑒𝑑) ≥ 10 met!\n",
            "Conditions 𝑛2 𝑥 𝑝̂ 𝑝𝑜𝑜𝑙𝑒𝑑 ≥ 10 𝑎𝑛𝑑 𝑛2 𝑥 (1−𝑝̂ 𝑝𝑜𝑜𝑙𝑒𝑑) ≥ 10 met!\n"
          ]
        }
      ],
      "source": [
        "ck1 = p_pooled * SAMPLE_SIZE\n",
        "ck2 = (1 - p_pooled) * SAMPLE_SIZE\n",
        "\n",
        "if ck1 >= 10 and ck2 >= 10:\n",
        "    print(\"Conditions 𝑛1 𝑥 𝑝̂ 𝑝𝑜𝑜𝑙𝑒𝑑 ≥ 10 𝑎𝑛𝑑 𝑛1 𝑥 (1−𝑝̂ 𝑝𝑜𝑜𝑙𝑒𝑑) ≥ 10 met!\")\n",
        "else:\n",
        "    print(\"Conditions 𝑛1 𝑥 𝑝̂ 𝑝𝑜𝑜𝑙𝑒𝑑 ≥ 10 𝑎𝑛𝑑 𝑛1 𝑥 (1−𝑝̂ 𝑝𝑜𝑜𝑙𝑒𝑑) ≥ 10 DOES NOT met!\")\n",
        "\n",
        "ck3 = p_pooled * SAMPLE_SIZE\n",
        "ck4 = (1 - p_pooled) * SAMPLE_SIZE\n",
        "\n",
        "if ck3 >= 10 and ck4 >= 10:\n",
        "    print(\"Conditions 𝑛2 𝑥 𝑝̂ 𝑝𝑜𝑜𝑙𝑒𝑑 ≥ 10 𝑎𝑛𝑑 𝑛2 𝑥 (1−𝑝̂ 𝑝𝑜𝑜𝑙𝑒𝑑) ≥ 10 met!\")\n",
        "else:\n",
        "    print(\"Conditions 𝑛2 𝑥 𝑝̂ 𝑝𝑜𝑜𝑙𝑒𝑑 ≥ 10 𝑎𝑛𝑑 𝑛2 𝑥 (1−𝑝̂ 𝑝𝑜𝑜𝑙𝑒𝑑) ≥ 10 DOES NOT met!\")"
      ]
    },
    {
      "cell_type": "markdown",
      "metadata": {},
      "source": [
        "**As both conditions are satisfied, we can safely model the difference in proportions using a normal distribution!**"
      ]
    },
    {
      "cell_type": "markdown",
      "metadata": {},
      "source": [
        "### Calculations"
      ]
    },
    {
      "cell_type": "markdown",
      "metadata": {},
      "source": [
        "#### Standard error for the difference of proportions\n",
        "$SE = \\sqrt{\\frac{p̂_{pooled} \\ * \\ (1 - p̂_{pooled})}{n_1} + \\frac{p̂_{pooled} \\ * \\ (1 - p̂_{pooled})}{n_2}}$\n",
        "\n",
        "#### Test statistic\n",
        "$Z^* = \\frac{point \\ estimate \\ - \\ null \\ value}{SE}$\n",
        "\n",
        "#### Significance level we will use\n",
        "$\\alpha = 0.05$"
      ]
    },
    {
      "cell_type": "code",
      "execution_count": 82,
      "metadata": {},
      "outputs": [
        {
          "name": "stdout",
          "output_type": "stream",
          "text": [
            "SE = 0.02861817604250837\n"
          ]
        }
      ],
      "source": [
        "SE = sqrt(p_pooled*(1 - p_pooled) / len(less11) + p_pooled*(1 - p_pooled) / len(more11))\n",
        "print(\"SE =\", SE)"
      ]
    },
    {
      "cell_type": "code",
      "execution_count": 83,
      "metadata": {},
      "outputs": [
        {
          "name": "stdout",
          "output_type": "stream",
          "text": [
            "Point estimate = 0.12\n"
          ]
        }
      ],
      "source": [
        "point_estimate = p_hat_less11 - p_hat_more11\n",
        "print(\"Point estimate =\", point_estimate)"
      ]
    },
    {
      "cell_type": "code",
      "execution_count": 84,
      "metadata": {},
      "outputs": [
        {
          "name": "stdout",
          "output_type": "stream",
          "text": [
            "Null value = 0\n",
            "It comes from the null hypothesis, since we are considering the difference between proportions 0\n"
          ]
        }
      ],
      "source": [
        "null_value = 0     # it comes from the null hypothesis, since we are considering the difference between proportions 0\n",
        "print(\"Null value =\", null_value)\n",
        "print(\"It comes from the null hypothesis, since we are considering the difference between proportions 0\")"
      ]
    },
    {
      "cell_type": "code",
      "execution_count": 85,
      "metadata": {},
      "outputs": [
        {
          "name": "stdout",
          "output_type": "stream",
          "text": [
            "Test statistic (Z*) = 4.193139346887673\n"
          ]
        }
      ],
      "source": [
        "z_score = (point_estimate - null_value) / SE\n",
        "print(\"Test statistic (Z*) =\", z_score)"
      ]
    },
    {
      "cell_type": "code",
      "execution_count": 86,
      "metadata": {},
      "outputs": [
        {
          "name": "stdout",
          "output_type": "stream",
          "text": [
            "For a p-value = 2.7512032496213586e-05 and alpha = 0.05 we REJECT the null hypothesis!\n"
          ]
        }
      ],
      "source": [
        "# p_value is calculate for one-tail and we are using two-tails\n",
        "# because of this we must double the value encountered\n",
        "p_value = stats.norm.sf(abs(z_score)) * 2\n",
        "alpha = 0.05\n",
        "\n",
        "if p_value < alpha:\n",
        "    print(f\"For a p-value = {p_value} and alpha = {alpha} we REJECT the null hypothesis!\")\n",
        "else: \n",
        "    print(f\"For a p-value = {p_value} and alpha = {alpha} we DO NOT REJECT the null hypothesis!\")"
      ]
    },
    {
      "cell_type": "markdown",
      "metadata": {},
      "source": [
        "### Conclusion\n",
        "\n",
        "Since we have rejected the null hypothesis, we can conclude that **There IS** difference between proportions of airplanes with less than or equal 11 years and more than 11 years which had no damage.\n",
        "\n",
        "Furthermore, the point estimate indicate that the direction of that\n",
        "difference is that airplanes with less than or equal 11 years have proportions of occurences with no damage greater than airplanes with more than 11 years."
      ]
    },
    {
      "cell_type": "markdown",
      "metadata": {},
      "source": [
        "## Checking Hypothesis 2\n",
        "\n",
        "The proportion of airplanes with **greater than 11 years which had substancial damage in the occurences** is significantly greater than proportion of airplanes with **more than 11 years**"
      ]
    },
    {
      "cell_type": "code",
      "execution_count": 87,
      "metadata": {},
      "outputs": [
        {
          "data": {
            "text/html": [
              "<div>\n",
              "<style scoped>\n",
              "    .dataframe tbody tr th:only-of-type {\n",
              "        vertical-align: middle;\n",
              "    }\n",
              "\n",
              "    .dataframe tbody tr th {\n",
              "        vertical-align: top;\n",
              "    }\n",
              "\n",
              "    .dataframe thead th {\n",
              "        text-align: right;\n",
              "    }\n",
              "</style>\n",
              "<table border=\"1\" class=\"dataframe\">\n",
              "  <thead>\n",
              "    <tr style=\"text-align: right;\">\n",
              "      <th></th>\n",
              "      <th>aeronave_ano_fabricacao</th>\n",
              "      <th>aeronave_nivel_dano</th>\n",
              "      <th>aeronave_fatalidades_total</th>\n",
              "      <th>fator_area</th>\n",
              "      <th>ocorrencia_classificacao</th>\n",
              "      <th>ocorrencia_dia</th>\n",
              "      <th>idade_aeronave</th>\n",
              "      <th>idade_discretizada</th>\n",
              "    </tr>\n",
              "  </thead>\n",
              "  <tbody>\n",
              "    <tr>\n",
              "      <th>45331</th>\n",
              "      <td>2001.0</td>\n",
              "      <td>NENHUM</td>\n",
              "      <td>0.0</td>\n",
              "      <td>FATOR OPERACIONAL</td>\n",
              "      <td>ACIDENTE</td>\n",
              "      <td>2012-01-06</td>\n",
              "      <td>11</td>\n",
              "      <td>[0.0, 12.0)</td>\n",
              "    </tr>\n",
              "    <tr>\n",
              "      <th>45331</th>\n",
              "      <td>2001.0</td>\n",
              "      <td>NENHUM</td>\n",
              "      <td>0.0</td>\n",
              "      <td>FATOR HUMANO</td>\n",
              "      <td>ACIDENTE</td>\n",
              "      <td>2012-01-06</td>\n",
              "      <td>11</td>\n",
              "      <td>[0.0, 12.0)</td>\n",
              "    </tr>\n",
              "    <tr>\n",
              "      <th>45331</th>\n",
              "      <td>2001.0</td>\n",
              "      <td>NENHUM</td>\n",
              "      <td>0.0</td>\n",
              "      <td>FATOR HUMANO</td>\n",
              "      <td>ACIDENTE</td>\n",
              "      <td>2012-01-06</td>\n",
              "      <td>11</td>\n",
              "      <td>[0.0, 12.0)</td>\n",
              "    </tr>\n",
              "    <tr>\n",
              "      <th>45331</th>\n",
              "      <td>2001.0</td>\n",
              "      <td>NENHUM</td>\n",
              "      <td>0.0</td>\n",
              "      <td>FATOR HUMANO</td>\n",
              "      <td>ACIDENTE</td>\n",
              "      <td>2012-01-06</td>\n",
              "      <td>11</td>\n",
              "      <td>[0.0, 12.0)</td>\n",
              "    </tr>\n",
              "    <tr>\n",
              "      <th>45331</th>\n",
              "      <td>2001.0</td>\n",
              "      <td>NENHUM</td>\n",
              "      <td>0.0</td>\n",
              "      <td>FATOR HUMANO</td>\n",
              "      <td>ACIDENTE</td>\n",
              "      <td>2012-01-06</td>\n",
              "      <td>11</td>\n",
              "      <td>[0.0, 12.0)</td>\n",
              "    </tr>\n",
              "    <tr>\n",
              "      <th>...</th>\n",
              "      <td>...</td>\n",
              "      <td>...</td>\n",
              "      <td>...</td>\n",
              "      <td>...</td>\n",
              "      <td>...</td>\n",
              "      <td>...</td>\n",
              "      <td>...</td>\n",
              "      <td>...</td>\n",
              "    </tr>\n",
              "    <tr>\n",
              "      <th>81021</th>\n",
              "      <td>2021.0</td>\n",
              "      <td>SUBSTANCIAL</td>\n",
              "      <td>0.0</td>\n",
              "      <td>FATOR OPERACIONAL</td>\n",
              "      <td>ACIDENTE</td>\n",
              "      <td>2022-10-02</td>\n",
              "      <td>1</td>\n",
              "      <td>[0.0, 12.0)</td>\n",
              "    </tr>\n",
              "    <tr>\n",
              "      <th>81021</th>\n",
              "      <td>2021.0</td>\n",
              "      <td>SUBSTANCIAL</td>\n",
              "      <td>0.0</td>\n",
              "      <td>FATOR OPERACIONAL</td>\n",
              "      <td>ACIDENTE</td>\n",
              "      <td>2022-10-02</td>\n",
              "      <td>1</td>\n",
              "      <td>[0.0, 12.0)</td>\n",
              "    </tr>\n",
              "    <tr>\n",
              "      <th>81021</th>\n",
              "      <td>2021.0</td>\n",
              "      <td>SUBSTANCIAL</td>\n",
              "      <td>0.0</td>\n",
              "      <td>FATOR OPERACIONAL</td>\n",
              "      <td>ACIDENTE</td>\n",
              "      <td>2022-10-02</td>\n",
              "      <td>1</td>\n",
              "      <td>[0.0, 12.0)</td>\n",
              "    </tr>\n",
              "    <tr>\n",
              "      <th>81021</th>\n",
              "      <td>2021.0</td>\n",
              "      <td>SUBSTANCIAL</td>\n",
              "      <td>0.0</td>\n",
              "      <td>FATOR HUMANO</td>\n",
              "      <td>ACIDENTE</td>\n",
              "      <td>2022-10-02</td>\n",
              "      <td>1</td>\n",
              "      <td>[0.0, 12.0)</td>\n",
              "    </tr>\n",
              "    <tr>\n",
              "      <th>81021</th>\n",
              "      <td>2021.0</td>\n",
              "      <td>SUBSTANCIAL</td>\n",
              "      <td>0.0</td>\n",
              "      <td>FATOR HUMANO</td>\n",
              "      <td>ACIDENTE</td>\n",
              "      <td>2022-10-02</td>\n",
              "      <td>1</td>\n",
              "      <td>[0.0, 12.0)</td>\n",
              "    </tr>\n",
              "  </tbody>\n",
              "</table>\n",
              "<p>1354 rows × 8 columns</p>\n",
              "</div>"
            ],
            "text/plain": [
              "       aeronave_ano_fabricacao aeronave_nivel_dano  \\\n",
              "45331                   2001.0              NENHUM   \n",
              "45331                   2001.0              NENHUM   \n",
              "45331                   2001.0              NENHUM   \n",
              "45331                   2001.0              NENHUM   \n",
              "45331                   2001.0              NENHUM   \n",
              "...                        ...                 ...   \n",
              "81021                   2021.0         SUBSTANCIAL   \n",
              "81021                   2021.0         SUBSTANCIAL   \n",
              "81021                   2021.0         SUBSTANCIAL   \n",
              "81021                   2021.0         SUBSTANCIAL   \n",
              "81021                   2021.0         SUBSTANCIAL   \n",
              "\n",
              "       aeronave_fatalidades_total         fator_area ocorrencia_classificacao  \\\n",
              "45331                         0.0  FATOR OPERACIONAL                 ACIDENTE   \n",
              "45331                         0.0       FATOR HUMANO                 ACIDENTE   \n",
              "45331                         0.0       FATOR HUMANO                 ACIDENTE   \n",
              "45331                         0.0       FATOR HUMANO                 ACIDENTE   \n",
              "45331                         0.0       FATOR HUMANO                 ACIDENTE   \n",
              "...                           ...                ...                      ...   \n",
              "81021                         0.0  FATOR OPERACIONAL                 ACIDENTE   \n",
              "81021                         0.0  FATOR OPERACIONAL                 ACIDENTE   \n",
              "81021                         0.0  FATOR OPERACIONAL                 ACIDENTE   \n",
              "81021                         0.0       FATOR HUMANO                 ACIDENTE   \n",
              "81021                         0.0       FATOR HUMANO                 ACIDENTE   \n",
              "\n",
              "      ocorrencia_dia  idade_aeronave idade_discretizada  \n",
              "45331     2012-01-06              11        [0.0, 12.0)  \n",
              "45331     2012-01-06              11        [0.0, 12.0)  \n",
              "45331     2012-01-06              11        [0.0, 12.0)  \n",
              "45331     2012-01-06              11        [0.0, 12.0)  \n",
              "45331     2012-01-06              11        [0.0, 12.0)  \n",
              "...              ...             ...                ...  \n",
              "81021     2022-10-02               1        [0.0, 12.0)  \n",
              "81021     2022-10-02               1        [0.0, 12.0)  \n",
              "81021     2022-10-02               1        [0.0, 12.0)  \n",
              "81021     2022-10-02               1        [0.0, 12.0)  \n",
              "81021     2022-10-02               1        [0.0, 12.0)  \n",
              "\n",
              "[1354 rows x 8 columns]"
            ]
          },
          "execution_count": 87,
          "metadata": {},
          "output_type": "execute_result"
        }
      ],
      "source": [
        "# taking broad samples\n",
        "SAMPLE_SIZE_2 = 100\n",
        "filter_less_11 = dados[\"idade_discretizada\"] == pd.Interval(intervals[0], intervals[1], closed='left')\n",
        "\n",
        "less11_2 = dados[filter_less_11]\n",
        "less11_2"
      ]
    },
    {
      "cell_type": "code",
      "execution_count": 89,
      "metadata": {},
      "outputs": [
        {
          "data": {
            "text/html": [
              "<div>\n",
              "<style scoped>\n",
              "    .dataframe tbody tr th:only-of-type {\n",
              "        vertical-align: middle;\n",
              "    }\n",
              "\n",
              "    .dataframe tbody tr th {\n",
              "        vertical-align: top;\n",
              "    }\n",
              "\n",
              "    .dataframe thead th {\n",
              "        text-align: right;\n",
              "    }\n",
              "</style>\n",
              "<table border=\"1\" class=\"dataframe\">\n",
              "  <thead>\n",
              "    <tr style=\"text-align: right;\">\n",
              "      <th></th>\n",
              "      <th>aeronave_ano_fabricacao</th>\n",
              "      <th>aeronave_nivel_dano</th>\n",
              "      <th>aeronave_fatalidades_total</th>\n",
              "      <th>fator_area</th>\n",
              "      <th>ocorrencia_classificacao</th>\n",
              "      <th>ocorrencia_dia</th>\n",
              "      <th>idade_aeronave</th>\n",
              "      <th>idade_discretizada</th>\n",
              "    </tr>\n",
              "  </thead>\n",
              "  <tbody>\n",
              "    <tr>\n",
              "      <th>45390</th>\n",
              "      <td>1989.0</td>\n",
              "      <td>SUBSTANCIAL</td>\n",
              "      <td>0.0</td>\n",
              "      <td>FATOR OPERACIONAL</td>\n",
              "      <td>ACIDENTE</td>\n",
              "      <td>2012-01-20</td>\n",
              "      <td>23</td>\n",
              "      <td>[12.0, 25.0)</td>\n",
              "    </tr>\n",
              "    <tr>\n",
              "      <th>45390</th>\n",
              "      <td>1989.0</td>\n",
              "      <td>SUBSTANCIAL</td>\n",
              "      <td>0.0</td>\n",
              "      <td>FATOR OPERACIONAL</td>\n",
              "      <td>ACIDENTE</td>\n",
              "      <td>2012-01-20</td>\n",
              "      <td>23</td>\n",
              "      <td>[12.0, 25.0)</td>\n",
              "    </tr>\n",
              "    <tr>\n",
              "      <th>45392</th>\n",
              "      <td>2000.0</td>\n",
              "      <td>SUBSTANCIAL</td>\n",
              "      <td>0.0</td>\n",
              "      <td>FATOR OPERACIONAL</td>\n",
              "      <td>ACIDENTE</td>\n",
              "      <td>2012-01-19</td>\n",
              "      <td>12</td>\n",
              "      <td>[12.0, 25.0)</td>\n",
              "    </tr>\n",
              "    <tr>\n",
              "      <th>45392</th>\n",
              "      <td>2000.0</td>\n",
              "      <td>SUBSTANCIAL</td>\n",
              "      <td>0.0</td>\n",
              "      <td>FATOR OPERACIONAL</td>\n",
              "      <td>ACIDENTE</td>\n",
              "      <td>2012-01-19</td>\n",
              "      <td>12</td>\n",
              "      <td>[12.0, 25.0)</td>\n",
              "    </tr>\n",
              "    <tr>\n",
              "      <th>45392</th>\n",
              "      <td>2000.0</td>\n",
              "      <td>SUBSTANCIAL</td>\n",
              "      <td>0.0</td>\n",
              "      <td>FATOR OPERACIONAL</td>\n",
              "      <td>ACIDENTE</td>\n",
              "      <td>2012-01-19</td>\n",
              "      <td>12</td>\n",
              "      <td>[12.0, 25.0)</td>\n",
              "    </tr>\n",
              "  </tbody>\n",
              "</table>\n",
              "</div>"
            ],
            "text/plain": [
              "       aeronave_ano_fabricacao aeronave_nivel_dano  \\\n",
              "45390                   1989.0         SUBSTANCIAL   \n",
              "45390                   1989.0         SUBSTANCIAL   \n",
              "45392                   2000.0         SUBSTANCIAL   \n",
              "45392                   2000.0         SUBSTANCIAL   \n",
              "45392                   2000.0         SUBSTANCIAL   \n",
              "\n",
              "       aeronave_fatalidades_total         fator_area ocorrencia_classificacao  \\\n",
              "45390                         0.0  FATOR OPERACIONAL                 ACIDENTE   \n",
              "45390                         0.0  FATOR OPERACIONAL                 ACIDENTE   \n",
              "45392                         0.0  FATOR OPERACIONAL                 ACIDENTE   \n",
              "45392                         0.0  FATOR OPERACIONAL                 ACIDENTE   \n",
              "45392                         0.0  FATOR OPERACIONAL                 ACIDENTE   \n",
              "\n",
              "      ocorrencia_dia  idade_aeronave idade_discretizada  \n",
              "45390     2012-01-20              23       [12.0, 25.0)  \n",
              "45390     2012-01-20              23       [12.0, 25.0)  \n",
              "45392     2012-01-19              12       [12.0, 25.0)  \n",
              "45392     2012-01-19              12       [12.0, 25.0)  \n",
              "45392     2012-01-19              12       [12.0, 25.0)  "
            ]
          },
          "execution_count": 89,
          "metadata": {},
          "output_type": "execute_result"
        }
      ],
      "source": [
        "more11_2 = dados[~(dados[\"idade_discretizada\"].isin(less11_2[\"idade_discretizada\"]))]\n",
        "more11_2.head()"
      ]
    },
    {
      "cell_type": "markdown",
      "metadata": {},
      "source": [
        "**Notice:**\n",
        "- p̂<sub><=11</sub> represents the proportion of airplanes with less than or equal 11 years which had substancial damage in the occurences.\n",
        "- p̂<sub>>11</sub> represents the proportion of airplanes with more than 11 years which had substancial damage in the occurences.\n",
        "\n",
        "$H_0$: **There IS NO** difference between proportions of airplanes with less or equal than 11 years and more than 11 years which had substancial damage.\n",
        ">  p̂<sub>>11</sub> − p̂<sub><=11</sub> = 0  \n",
        "\n",
        "$H_A$: **There IS** difference between proportions of airplanes with less than or equal 11 years and more than 11 years which had no damage.  \n",
        "> p̂<sub>>11</sub> - p̂<sub><=11</sub> ≠ 0\n",
        "\n",
        "\n",
        "**Checking conditions for the sampling distribution of p̂1 − p̂2 to be normal**:\n",
        "\n",
        "1. **Independence**\n",
        "- Because the data come from a simple random sample, the observations are independent, both within and between samples."
      ]
    },
    {
      "cell_type": "markdown",
      "metadata": {},
      "source": [
        "2. **Success-failure condition**\n",
        "- Since the null hypothesis is that the proportions are equal, we use the pooled proportion ($p̂_{pooled}$) to verify the success-failure condition and estimate the standard error.\n",
        "- $p̂_{pooled} = \\frac{p̂_1 \\ * \\ n_1 \\ + \\ p̂_2 \\ * \\ n_2}{n_1 + n_2}$\n",
        "- $n_1 \\ * \\ p̂_{pooled} \\ ≥ \\ 10 \\ and \\ n_1 \\ * \\ (1 - p̂_{pooled}) ≥ 10$\n",
        "- $n_2 \\ * \\ p̂_{pooled} \\ ≥ \\ 10 \\ and \\ n_2 \\ * \\ (1 - p̂_{pooled}) ≥ 10$\n"
      ]
    },
    {
      "cell_type": "code",
      "execution_count": 95,
      "metadata": {},
      "outputs": [
        {
          "name": "stdout",
          "output_type": "stream",
          "text": [
            "p-hat less than or equal 11 = 0.5745937961595273\n"
          ]
        }
      ],
      "source": [
        "p_hat_less11_2 = less11_2[\"aeronave_nivel_dano\"].value_counts(normalize=True).SUBSTANCIAL\n",
        "print(\"p-hat less than or equal 11 =\", p_hat_less11_2)"
      ]
    },
    {
      "cell_type": "code",
      "execution_count": 96,
      "metadata": {},
      "outputs": [
        {
          "name": "stdout",
          "output_type": "stream",
          "text": [
            "p-hat more than or equal 11 = 0.6657274590163934\n"
          ]
        }
      ],
      "source": [
        "p_hat_more11_2 = more11_2[\"aeronave_nivel_dano\"].value_counts(normalize=True).SUBSTANCIAL\n",
        "print(\"p-hat more than or equal 11 =\", p_hat_more11_2)"
      ]
    },
    {
      "cell_type": "code",
      "execution_count": 97,
      "metadata": {},
      "outputs": [
        {
          "name": "stdout",
          "output_type": "stream",
          "text": [
            "p-hat pooled = 0.6201606275879604\n"
          ]
        }
      ],
      "source": [
        "p_pooled_2 = (p_hat_less11_2 * SAMPLE_SIZE_2 + p_hat_more11_2 * SAMPLE_SIZE_2) / (SAMPLE_SIZE_2 + SAMPLE_SIZE_2)\n",
        "print(\"p-hat pooled =\", p_pooled_2)"
      ]
    },
    {
      "cell_type": "code",
      "execution_count": 98,
      "metadata": {},
      "outputs": [
        {
          "name": "stdout",
          "output_type": "stream",
          "text": [
            "Conditions 𝑛1 𝑥 𝑝̂ 𝑝𝑜𝑜𝑙𝑒𝑑 ≥ 10 𝑎𝑛𝑑 𝑛1 𝑥 (1−𝑝̂ 𝑝𝑜𝑜𝑙𝑒𝑑) ≥ 10 met!\n",
            "Conditions 𝑛2 𝑥 𝑝̂ 𝑝𝑜𝑜𝑙𝑒𝑑 ≥ 10 𝑎𝑛𝑑 𝑛2 𝑥 (1−𝑝̂ 𝑝𝑜𝑜𝑙𝑒𝑑) ≥ 10 met!\n"
          ]
        }
      ],
      "source": [
        "ck1_2 = p_pooled_2 * SAMPLE_SIZE_2\n",
        "ck2_2 = (1 - p_pooled_2) * SAMPLE_SIZE_2\n",
        "\n",
        "if ck1_2 >= 10 and ck2_2 >= 10:\n",
        "    print(\"Conditions 𝑛1 𝑥 𝑝̂ 𝑝𝑜𝑜𝑙𝑒𝑑 ≥ 10 𝑎𝑛𝑑 𝑛1 𝑥 (1−𝑝̂ 𝑝𝑜𝑜𝑙𝑒𝑑) ≥ 10 met!\")\n",
        "else:\n",
        "    print(\"Conditions 𝑛1 𝑥 𝑝̂ 𝑝𝑜𝑜𝑙𝑒𝑑 ≥ 10 𝑎𝑛𝑑 𝑛1 𝑥 (1−𝑝̂ 𝑝𝑜𝑜𝑙𝑒𝑑) ≥ 10 DOES NOT met!\")\n",
        "\n",
        "ck3_2 = p_pooled_2 * SAMPLE_SIZE_2\n",
        "ck4_2 = (1 - p_pooled_2) * SAMPLE_SIZE_2\n",
        "\n",
        "if ck3_2 >= 10 and ck4_2 >= 10:\n",
        "    print(\"Conditions 𝑛2 𝑥 𝑝̂ 𝑝𝑜𝑜𝑙𝑒𝑑 ≥ 10 𝑎𝑛𝑑 𝑛2 𝑥 (1−𝑝̂ 𝑝𝑜𝑜𝑙𝑒𝑑) ≥ 10 met!\")\n",
        "else:\n",
        "    print(\"Conditions 𝑛2 𝑥 𝑝̂ 𝑝𝑜𝑜𝑙𝑒𝑑 ≥ 10 𝑎𝑛𝑑 𝑛2 𝑥 (1−𝑝̂ 𝑝𝑜𝑜𝑙𝑒𝑑) ≥ 10 DOES NOT met!\")"
      ]
    },
    {
      "cell_type": "markdown",
      "metadata": {},
      "source": [
        "**As both conditions are satisfied, we can safely model the difference in proportions using a normal distribution!**"
      ]
    },
    {
      "cell_type": "markdown",
      "metadata": {},
      "source": [
        "### Calculations"
      ]
    },
    {
      "cell_type": "markdown",
      "metadata": {},
      "source": [
        "#### Standard error for the difference of proportions\n",
        "$SE = \\sqrt{\\frac{p̂_{pooled} \\ * \\ (1 - p̂_{pooled})}{n_1} + \\frac{p̂_{pooled} \\ * \\ (1 - p̂_{pooled})}{n_2}}$\n",
        "\n",
        "#### Test statistic\n",
        "$Z^* = \\frac{point \\ estimate \\ - \\ null \\ value}{SE}$\n",
        "\n",
        "#### Significance level we will use\n",
        "$\\alpha = 0.05$"
      ]
    },
    {
      "cell_type": "code",
      "execution_count": 99,
      "metadata": {},
      "outputs": [
        {
          "name": "stdout",
          "output_type": "stream",
          "text": [
            "SE = 0.015307283981785703\n"
          ]
        }
      ],
      "source": [
        "SE_2 = sqrt(p_pooled_2*(1 - p_pooled_2) / len(less11_2) + p_pooled_2*(1 - p_pooled_2) / len(more11_2))\n",
        "print(\"SE =\", SE_2)"
      ]
    },
    {
      "cell_type": "code",
      "execution_count": 100,
      "metadata": {},
      "outputs": [
        {
          "name": "stdout",
          "output_type": "stream",
          "text": [
            "Point estimate = 0.09113366285686608\n"
          ]
        }
      ],
      "source": [
        "point_estimate_2 = p_hat_more11_2 - p_hat_less11_2\n",
        "print(\"Point estimate =\", point_estimate_2)"
      ]
    },
    {
      "cell_type": "code",
      "execution_count": 101,
      "metadata": {},
      "outputs": [
        {
          "name": "stdout",
          "output_type": "stream",
          "text": [
            "Null value = 0\n",
            "It comes from the null hypothesis, since we are considering the difference between proportions 0\n"
          ]
        }
      ],
      "source": [
        "null_value_2 = 0     # it comes from the null hypothesis, since we are considering the difference between proportions 0\n",
        "print(\"Null value =\", null_value_2)\n",
        "print(\"It comes from the null hypothesis, since we are considering the difference between proportions 0\")"
      ]
    },
    {
      "cell_type": "code",
      "execution_count": 102,
      "metadata": {},
      "outputs": [
        {
          "name": "stdout",
          "output_type": "stream",
          "text": [
            "Test statistic (Z*) = 5.953614172527732\n"
          ]
        }
      ],
      "source": [
        "z_score_2 = (point_estimate_2 - null_value_2) / SE_2\n",
        "print(\"Test statistic (Z*) =\", z_score_2)"
      ]
    },
    {
      "cell_type": "code",
      "execution_count": 103,
      "metadata": {},
      "outputs": [
        {
          "name": "stdout",
          "output_type": "stream",
          "text": [
            "For a p-value = 2.6228472892037336e-09 and alpha = 0.05 we REJECT the null hypothesis!\n"
          ]
        }
      ],
      "source": [
        "# p_value is calculate for one-tail and we are using two-tails\n",
        "# because of this we must double the value encountered\n",
        "p_value_2 = stats.norm.sf(abs(z_score_2)) * 2\n",
        "alpha_2 = 0.05\n",
        "\n",
        "if p_value_2 < alpha_2:\n",
        "    print(f\"For a p-value = {p_value_2} and alpha = {alpha_2} we REJECT the null hypothesis!\")\n",
        "else: \n",
        "    print(f\"For a p-value = {p_value_2} and alpha = {alpha_2} we DO NOT REJECT the null hypothesis!\")"
      ]
    },
    {
      "cell_type": "markdown",
      "metadata": {},
      "source": [
        "### Conclusion\n",
        "\n",
        "Since we have rejected the null hypothesis, we can conclude that **There IS** difference between proportions of airplanes with less than or equal 11 years and more than 11 years which had substancial damage.\n",
        "\n",
        "Furthermore, the point estimate indicate that the direction of that\n",
        "difference is that airplanes with more than 11 years have proportions of occurences with susbtancial damage greater than airplanes with less than or equal 11 years."
      ]
    },
    {
      "cell_type": "code",
      "execution_count": null,
      "metadata": {},
      "outputs": [],
      "source": []
    },
    {
      "cell_type": "code",
      "execution_count": null,
      "metadata": {},
      "outputs": [],
      "source": []
    },
    {
      "cell_type": "code",
      "execution_count": null,
      "metadata": {},
      "outputs": [],
      "source": []
    },
    {
      "cell_type": "markdown",
      "metadata": {},
      "source": [
        "## Age Distribution Per Damage Level"
      ]
    },
    {
      "cell_type": "code",
      "execution_count": 104,
      "metadata": {},
      "outputs": [
        {
          "data": {
            "image/png": "[encoded data removed]",
            "text/plain": [
              "<Figure size 500x500 with 1 Axes>"
            ]
          },
          "metadata": {},
          "output_type": "display_data"
        }
      ],
      "source": [
        "sns.catplot(data=dados, x=\"aeronave_nivel_dano\", y=\"idade_aeronave\", kind=\"box\")\n",
        "plt.title(\"Age Distribution Per Damage Level\")\n",
        "plt.show()"
      ]
    },
    {
      "cell_type": "markdown",
      "metadata": {},
      "source": [
        "We can even think if there is difference between the averages of ages for each category of damage level. To check this, we will use ANOVA."
      ]
    },
    {
      "cell_type": "markdown",
      "metadata": {},
      "source": [
        "$H_0$:  **There IS NO** difference between the averages of airplanes ages for each category of damage level.\n",
        "> $μ_{NENHUM} = μ_{SUBSTANCIAL} = μ_{LEVE} = μ_{DESTRUIDA}$\n",
        "\n",
        "$H_A$: The average of airplane ages ($µ_{CATEGORY}$) varies across some (or all) groups."
      ]
    },
    {
      "cell_type": "code",
      "execution_count": 179,
      "metadata": {},
      "outputs": [],
      "source": [
        "SAMPLE_SIZE_ANOVA = 150\n",
        "\n",
        "sample_category_none = dados[dados[\"aeronave_nivel_dano\"] == \"NENHUM\"].sample(n=SAMPLE_SIZE_ANOVA, replace=False, axis=0, ignore_index=True)\n",
        "sample_category_light = dados[dados[\"aeronave_nivel_dano\"] == \"LEVE\"].sample(n=SAMPLE_SIZE_ANOVA, replace=False, axis=0, ignore_index=True)\n",
        "sample_category_substancial = dados[dados[\"aeronave_nivel_dano\"] == \"SUBSTANCIAL\"].sample(n=SAMPLE_SIZE_ANOVA, replace=False, axis=0, ignore_index=True)\n",
        "sample_category_destructed = dados[dados[\"aeronave_nivel_dano\"] == \"DESTRUÍDA\"].sample(n=SAMPLE_SIZE_ANOVA, replace=False, axis=0, ignore_index=True)"
      ]
    },
    {
      "cell_type": "code",
      "execution_count": 180,
      "metadata": {},
      "outputs": [
        {
          "data": {
            "image/png": "[encoded data removed]",
            "text/plain": [
              "<Figure size 1000x800 with 4 Axes>"
            ]
          },
          "metadata": {},
          "output_type": "display_data"
        }
      ],
      "source": [
        "fig, axs = plt.subplots(2,2, figsize=(10,8))\n",
        "\n",
        "sns.histplot(data=sample_category_none, x=\"idade_aeronave\", kde=True, ax=axs[0,0])\n",
        "axs[0,0].set_title(\"None Damage Age Distribution\")\n",
        "axs[0,0].set_xlabel(\"\")\n",
        "\n",
        "sns.histplot(data=sample_category_light, x=\"idade_aeronave\", kde=True, ax=axs[0,1])\n",
        "axs[0,1].set_title(\"Light Damage Age Distribution\")\n",
        "axs[0,1].set_xlabel(\"\")\n",
        "\n",
        "sns.histplot(data=sample_category_substancial, x=\"idade_aeronave\", kde=True, ax=axs[1,0])\n",
        "axs[1,0].set_title(\"Substancial Damage Age Distribution\")\n",
        "\n",
        "sns.histplot(data=sample_category_destructed, x=\"idade_aeronave\", kde=True, ax=axs[1,1])\n",
        "axs[1,1].set_title(\"Destructed Damage Age Distribution\")\n",
        "\n",
        "plt.show()"
      ]
    },
    {
      "cell_type": "markdown",
      "metadata": {},
      "source": [
        "Variance for each category"
      ]
    },
    {
      "cell_type": "code",
      "execution_count": 181,
      "metadata": {},
      "outputs": [
        {
          "name": "stdout",
          "output_type": "stream",
          "text": [
            "None damage variance: 284.2117333333334\n",
            "Light damage variance: 232.47328888888896\n",
            "Substancial damage variance: 275.89333333333326\n",
            "Destructed damage variance: 291.16515555555566\n"
          ]
        }
      ],
      "source": [
        "print(\"None damage variance:\", np.std(sample_category_none[\"idade_aeronave\"]) ** 2)\n",
        "print(\"Light damage variance:\", np.std(sample_category_light[\"idade_aeronave\"]) ** 2)\n",
        "print(\"Substancial damage variance:\", np.std(sample_category_substancial[\"idade_aeronave\"]) ** 2)\n",
        "print(\"Destructed damage variance:\", np.std(sample_category_destructed[\"idade_aeronave\"]) ** 2)"
      ]
    },
    {
      "cell_type": "markdown",
      "metadata": {},
      "source": [
        "**Checking conditions to apply ANOVA**\n",
        "\n",
        "1. **Independence between and within each category**\n",
        "- Since we are taking simple random samples, this condition is checked.\n",
        "\n",
        "2. **Approximately normal distribution of each group**\n",
        "- We can check looking at the charts that the normality is not so approximated, even more in the **None damage** one, which is a right skewed chart. However, **since we are taking large samples (n=150) we will relax this point**.\n",
        "\n",
        "3. **Constant variance camparing the groups**\n",
        "- We can consider the variances for each category approximately equal, for this taken sample."
      ]
    },
    {
      "cell_type": "markdown",
      "metadata": {},
      "source": [
        "Relaxing the point 2 above, we will apply ANOVA to check if there are differences between the average ages across the 4 groups."
      ]
    },
    {
      "cell_type": "markdown",
      "metadata": {},
      "source": [
        "### Applying ANOVA (F-test) for 0.05 significance level"
      ]
    },
    {
      "cell_type": "code",
      "execution_count": 186,
      "metadata": {},
      "outputs": [
        {
          "name": "stdout",
          "output_type": "stream",
          "text": [
            "For a p-value = 1.3864840802832671e-06 and alpha = 0.05 we REJECT the null hypothesis!\n"
          ]
        }
      ],
      "source": [
        "from scipy.stats import f_oneway\n",
        "ages_none = sample_category_none[\"idade_aeronave\"]\n",
        "ages_light = sample_category_light[\"idade_aeronave\"]\n",
        "ages_substancial = sample_category_substancial[\"idade_aeronave\"]\n",
        "ages_destructed = sample_category_destructed[\"idade_aeronave\"]\n",
        "\n",
        "alpha_anova = 0.05\n",
        "f_score, p_value_anova = f_oneway(ages_none, ages_light, ages_substancial, ages_destructed)\n",
        "\n",
        "if p_value_anova < alpha_anova:\n",
        "    print(f\"For a p-value = {p_value_anova} and alpha = {alpha_anova} we REJECT the null hypothesis!\")\n",
        "else: \n",
        "    print(f\"For a p-value = {p_value_anova} and alpha = {alpha_anova} we DO NOT REJECT the null hypothesis!\")"
      ]
    },
    {
      "cell_type": "markdown",
      "metadata": {},
      "source": [
        "### First Conclusion\n",
        "\n",
        "As we rejected the null hypothesis, we can conclude that there are differences between the averages of ages among the damage levels.\n",
        "\n",
        "**However, we still do not know which levels are differents from others.** To do that, we will apply the t-test with some modifications for each pair of categories and check which pairs reject the null hypothesis. "
      ]
    },
    {
      "cell_type": "markdown",
      "metadata": {},
      "source": [
        "### Applying BONFERRONI correction for $\\alpha$"
      ]
    },
    {
      "cell_type": "code",
      "execution_count": 219,
      "metadata": {},
      "outputs": [
        {
          "name": "stdout",
          "output_type": "stream",
          "text": [
            "Number of pairs to compare = 6\n",
            "α*(Bonferroni) = 0.008333333333333333\n"
          ]
        }
      ],
      "source": [
        "k = len(dados[\"aeronave_nivel_dano\"].unique())\n",
        "number_of_pairs = k * (k - 1) / 2\n",
        "alpha_bonferroni = alpha_anova / number_of_pairs\n",
        "\n",
        "print(f\"Number of pairs to compare = {int(number_of_pairs)}\")\n",
        "print(f\"α*(Bonferroni) = {alpha_bonferroni}\")"
      ]
    },
    {
      "cell_type": "code",
      "execution_count": 191,
      "metadata": {},
      "outputs": [
        {
          "name": "stdout",
          "output_type": "stream",
          "text": [
            "dfG = 3\n",
            "dfE = 596\n"
          ]
        }
      ],
      "source": [
        "dfg = k - 1\n",
        "dfe = k * SAMPLE_SIZE_ANOVA - k\n",
        "\n",
        "print(f\"dfG = {dfg}\")\n",
        "print(f\"dfE = {dfe}\")"
      ]
    },
    {
      "cell_type": "markdown",
      "metadata": {},
      "source": [
        "### Comparing each pair"
      ]
    },
    {
      "cell_type": "markdown",
      "metadata": {},
      "source": [
        "**Standard error for the difference of proportions**  \n",
        "\n",
        "$SE = \\sqrt{\\frac{s_{pooled}²}{n_1} + \\frac{s_{pooled}²}{n_2}}$\n",
        "\n",
        "**Test statistic** \n",
        "\n",
        "$T^* = \\frac{point \\ estimate \\ - \\ null \\ value}{SE}$\n",
        "\n",
        "**Significance level we will use**  \n",
        "\n",
        "$\\alpha* (Bonferroni) = 0.0083$"
      ]
    },
    {
      "cell_type": "code",
      "execution_count": 197,
      "metadata": {},
      "outputs": [
        {
          "name": "stdout",
          "output_type": "stream",
          "text": [
            "s_pooled = 16.87916195589502\n"
          ]
        }
      ],
      "source": [
        "all_anova_samples = pd.concat([sample_category_none, sample_category_light,\n",
        "                               sample_category_substancial, sample_category_destructed], axis=0)\n",
        "s_pooled = np.std(all_anova_samples[\"idade_aeronave\"])\n",
        "print(\"s_pooled =\", s_pooled)"
      ]
    },
    {
      "cell_type": "code",
      "execution_count": 229,
      "metadata": {},
      "outputs": [
        {
          "name": "stdout",
          "output_type": "stream",
          "text": [
            "Pair (none, light):\n",
            "    x̄1 (none damage level): 17.96\n",
            "    x̄2 (light damage level): 22.326666666666668\n",
            "    Point Estimate (x̄1 - x̄2): -4.366666666666667\n",
            "    SE: 1.9490377397862562\n",
            "    abs t_score: 2.240421813045828\n",
            "\n",
            "    For a p-value of pairs none, light = 0.012715599810560474 and alpha bonferroni = 0.008333333333333333 we DO NOT REJECT the null hypothesis!\n",
            "\n",
            "Pair (none, substancial):\n",
            "    x̄1 (none damage level): 17.96\n",
            "    x̄2 (substancial damage level): 28.2\n",
            "    Point Estimate (x̄1 - x̄2): -10.239999999999998\n",
            "    SE: 1.9490377397862562\n",
            "    abs t_score: 5.253874663875407\n",
            "\n",
            "    For a p-value of pairs none, substancial = 1.0382672739881707e-07 and alpha bonferroni = 0.008333333333333333 we REJECT the null hypothesis!\n",
            "\n",
            "Pair (none, destructed):\n",
            "    x̄1 (none damage level): 17.96\n",
            "    x̄2 (destructed damage level): 24.85333333333333\n",
            "    Point Estimate (x̄1 - x̄2): -6.893333333333331\n",
            "    SE: 1.9490377397862562\n",
            "    abs t_score: 3.5367880224265424\n",
            "\n",
            "    For a p-value of pairs none, destructed = 0.00021825524706063263 and alpha bonferroni = 0.008333333333333333 we REJECT the null hypothesis!\n",
            "\n",
            "Pair (light, substancial):\n",
            "    x̄1 (light damage level): 22.326666666666668\n",
            "    x̄2 (substancial damage level): 28.2\n",
            "    Point Estimate (x̄1 - x̄2): -5.873333333333331\n",
            "    SE: 1.9490377397862562\n",
            "    abs t_score: 3.0134528508295784\n",
            "\n",
            "    For a p-value of pairs light, substancial = 0.0013463096272727988 and alpha bonferroni = 0.008333333333333333 we REJECT the null hypothesis!\n",
            "\n",
            "Pair (light, destructed):\n",
            "    x̄1 (light damage level): 22.326666666666668\n",
            "    x̄2 (destructed damage level): 24.85333333333333\n",
            "    Point Estimate (x̄1 - x̄2): -2.5266666666666637\n",
            "    SE: 1.9490377397862562\n",
            "    abs t_score: 1.2963662093807142\n",
            "\n",
            "    For a p-value of pairs light, destructed = 0.09767553653205159 and alpha bonferroni = 0.008333333333333333 we DO NOT REJECT the null hypothesis!\n",
            "\n",
            "Pair (substancial, destructed):\n",
            "    x̄1 (substancial damage level): 28.2\n",
            "    x̄2 (destructed damage level): 24.85333333333333\n",
            "    Point Estimate (x̄1 - x̄2): 3.3466666666666676\n",
            "    SE: 1.9490377397862562\n",
            "    abs t_score: 1.717086641448864\n",
            "\n",
            "    For a p-value of pairs substancial, destructed = 0.043241428675725085 and alpha bonferroni = 0.008333333333333333 we DO NOT REJECT the null hypothesis!\n",
            "\n"
          ]
        }
      ],
      "source": [
        "damage_levels = ['none', 'light', 'substancial', 'destructed']\n",
        "anova_samples = [sample_category_none[\"idade_aeronave\"], \n",
        "                 sample_category_light[\"idade_aeronave\"], \n",
        "                 sample_category_substancial[\"idade_aeronave\"], \n",
        "                 sample_category_destructed[\"idade_aeronave\"]\n",
        "                 ]\n",
        "\n",
        "null_value_anova = 0\n",
        "\n",
        "# comparing all pairs\n",
        "for i in range(k):\n",
        "    for j in range(i + 1, k):\n",
        "        level1, level_sample1 = damage_levels[i], anova_samples[i]\n",
        "        level2, level_sample2 = damage_levels[j], anova_samples[j]\n",
        "        print(f\"Pair ({level1}, {level2}):\")\n",
        "\n",
        "        avg1 = np.mean(level_sample1)\n",
        "        print(f\"    x̄1 ({level1} damage level):\", avg1)\n",
        " \n",
        "        avg2 = np.mean(level_sample2)\n",
        "        print(f\"    x̄2 ({level2} damage level):\", avg2)\n",
        "        \n",
        "        pe = avg1 - avg2\n",
        "        print(\"    Point Estimate (x̄1 - x̄2):\", pe) \n",
        "\n",
        "        SE_anova = sqrt(s_pooled ** 2 / len(level_sample1) + \n",
        "                        s_pooled ** 2 / len(level_sample2)\n",
        "                        )\n",
        "        print(\"    SE:\", SE_anova)\n",
        "        \n",
        "        t_score_anova = (pe - null_value_anova) / SE_anova\n",
        "        print(\"    abs t_score:\", abs(t_score_anova))\n",
        "\n",
        "        pvalue_pair = stats.t.sf(abs(t_score_anova), dfe)\n",
        "        print()\n",
        "\n",
        "        if pvalue_pair < alpha_bonferroni:\n",
        "            print(f\"    For a p-value of pairs {level1}, {level2} = {pvalue_pair} and alpha bonferroni = {alpha_bonferroni} we REJECT the null hypothesis!\")\n",
        "        else: \n",
        "            print(f\"    For a p-value of pairs {level1}, {level2} = {pvalue_pair} and alpha bonferroni = {alpha_bonferroni} we DO NOT REJECT the null hypothesis!\")\n",
        "        print()\n",
        "\n",
        "        \n"
      ]
    }
  ],
  "metadata": {
    "colab": {
      "provenance": []
    },
    "kernelspec": {
      "display_name": "Python 3",
      "name": "python3"
    },
    "language_info": {
      "codemirror_mode": {
        "name": "ipython",
        "version": 3
      },
      "file_extension": ".py",
      "mimetype": "text/x-python",
      "name": "python",
      "nbconvert_exporter": "python",
      "pygments_lexer": "ipython3",
      "version": "3.11.4"
    }
  },
  "nbformat": 4,
  "nbformat_minor": 0
}
